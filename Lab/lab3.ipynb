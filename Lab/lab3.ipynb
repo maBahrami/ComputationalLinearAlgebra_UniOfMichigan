{
 "cells": [
  {
   "cell_type": "markdown",
   "metadata": {},
   "source": [
    "# Lab 3: Vector and Matrix Multiplicatopn"
   ]
  },
  {
   "cell_type": "code",
   "execution_count": 2,
   "metadata": {},
   "outputs": [
    {
     "data": {
      "text/plain": [
       "(3, 5)"
      ]
     },
     "metadata": {},
     "output_type": "display_data"
    }
   ],
   "source": [
    "ex1a = [1 2 3; 4 5 6; 7 8 9]\n",
    "ex1b = [1 2 3 4 5; 6 7 8 9 10; 11 12 13 14 15]\n",
    "\n",
    "size(ex1a * ex1b)"
   ]
  },
  {
   "cell_type": "code",
   "execution_count": 3,
   "metadata": {},
   "outputs": [
    {
     "ename": "DimensionMismatch",
     "evalue": "DimensionMismatch: matrix A has axes (Base.OneTo(3),Base.OneTo(5)), matrix B has axes (Base.OneTo(3),Base.OneTo(3))",
     "output_type": "error",
     "traceback": [
      "DimensionMismatch: matrix A has axes (Base.OneTo(3),Base.OneTo(5)), matrix B has axes (Base.OneTo(3),Base.OneTo(3))\n",
      "\n",
      "Stacktrace:\n",
      " [1] _generic_matmatmul!(C::Matrix{Int64}, A::Matrix{Int64}, B::Matrix{Int64}, _add::LinearAlgebra.MulAddMul{true, true, Bool, Bool})\n",
      "   @ LinearAlgebra C:\\Users\\mabah\\AppData\\Local\\Programs\\Julia-1.11.2\\share\\julia\\stdlib\\v1.11\\LinearAlgebra\\src\\matmul.jl:883\n",
      " [2] generic_matmatmul!\n",
      "   @ C:\\Users\\mabah\\AppData\\Local\\Programs\\Julia-1.11.2\\share\\julia\\stdlib\\v1.11\\LinearAlgebra\\src\\matmul.jl:868 [inlined]\n",
      " [3] _mul!\n",
      "   @ C:\\Users\\mabah\\AppData\\Local\\Programs\\Julia-1.11.2\\share\\julia\\stdlib\\v1.11\\LinearAlgebra\\src\\matmul.jl:287 [inlined]\n",
      " [4] mul!\n",
      "   @ C:\\Users\\mabah\\AppData\\Local\\Programs\\Julia-1.11.2\\share\\julia\\stdlib\\v1.11\\LinearAlgebra\\src\\matmul.jl:285 [inlined]\n",
      " [5] mul!\n",
      "   @ C:\\Users\\mabah\\AppData\\Local\\Programs\\Julia-1.11.2\\share\\julia\\stdlib\\v1.11\\LinearAlgebra\\src\\matmul.jl:253 [inlined]\n",
      " [6] *(A::Matrix{Int64}, B::Matrix{Int64})\n",
      "   @ LinearAlgebra C:\\Users\\mabah\\AppData\\Local\\Programs\\Julia-1.11.2\\share\\julia\\stdlib\\v1.11\\LinearAlgebra\\src\\matmul.jl:114\n",
      " [7] top-level scope\n",
      "   @ c:\\Users\\mabah\\Desktop\\ComputationalLinearAlgebra_UniOfMichigan_F21\\Lab\\jl_notebook_cell_df34fa98e69747e1a8f8a730347b8e2f_W5sZmlsZQ==.jl:1"
     ]
    }
   ],
   "source": [
    "size(ex1b * ex1a)"
   ]
  },
  {
   "cell_type": "markdown",
   "metadata": {},
   "source": [
    "## Problem 1\n",
    "### a)"
   ]
  },
  {
   "cell_type": "code",
   "execution_count": 14,
   "metadata": {},
   "outputs": [
    {
     "data": {
      "text/plain": [
       "3×3 Matrix{Int64}:\n",
       " 216  128  40\n",
       " 258  154  50\n",
       " 300  180  60"
      ]
     },
     "metadata": {},
     "output_type": "display_data"
    }
   ],
   "source": [
    "source1 = collect(1:12)\n",
    "source2 = collect(12:-1:1)\n",
    "matrix1 = reshape(source1, 3, :)\n",
    "matrix2 = reshape(source2, 4, :)\n",
    "matProduct1a = matrix1 * matrix2"
   ]
  },
  {
   "cell_type": "markdown",
   "metadata": {},
   "source": [
    "### c) Clever indexing  + resultant size"
   ]
  },
  {
   "cell_type": "code",
   "execution_count": 31,
   "metadata": {},
   "outputs": [
    {
     "data": {
      "text/plain": [
       "2-element Vector{Int64}:\n",
       " 295\n",
       " 607"
      ]
     },
     "metadata": {},
     "output_type": "display_data"
    }
   ],
   "source": [
    "A = [1 2 3; 4 5 6]\n",
    "B = [0 1 1 2; 3 5 8 13; 21 34 55 89]\n",
    "\n",
    "C=A*B\n",
    "\n",
    "topRow = C[1, :]\n",
    "botRow = C[size(C, 1), :]   # or ----> botRow = C[end, :]\n",
    "leftCol = C[:, 1]\n",
    "rightCol = C[:, size(C, 2)] # or -.--> rightCol = C[:, end]"
   ]
  },
  {
   "cell_type": "markdown",
   "metadata": {},
   "source": [
    "## Problem 2\n",
    "### a)"
   ]
  },
  {
   "cell_type": "code",
   "execution_count": 35,
   "metadata": {},
   "outputs": [
    {
     "data": {
      "text/plain": [
       "2×1 Matrix{Int64}:\n",
       " 5\n",
       " 6"
      ]
     },
     "metadata": {},
     "output_type": "display_data"
    }
   ],
   "source": [
    "F = [4 3; 7 9]\n",
    "G = [5; 6]\n",
    "\n",
    "Fr1 = F[1:1, :]\n",
    "Fr2 = F[2:2, :]\n",
    "\n",
    "Gc1 = G[:, 1:1]"
   ]
  },
  {
   "cell_type": "markdown",
   "metadata": {},
   "source": [
    "### b)"
   ]
  },
  {
   "cell_type": "code",
   "execution_count": 37,
   "metadata": {},
   "outputs": [
    {
     "data": {
      "text/plain": [
       "2×2 Matrix{Float64}:\n",
       " 178.0  190.0\n",
       " 218.0  233.0"
      ]
     },
     "metadata": {},
     "output_type": "display_data"
    }
   ],
   "source": [
    "C = [2 4 6; 3 5 7]\n",
    "D = [9 10; 13 14; 18 19]\n",
    "\n",
    "CD = zeros(2, 2)\n",
    "\n",
    "for i in 1:size(C, 1)\n",
    "    for j in 1:size(D, 2)\n",
    "        CD[i, j] = (C[i:i, :] * D[:, j:j])[1]\n",
    "    end\n",
    "end\n",
    "\n",
    "CD"
   ]
  },
  {
   "cell_type": "code",
   "execution_count": 40,
   "metadata": {},
   "outputs": [
    {
     "data": {
      "text/plain": [
       "2×2 Matrix{Float64}:\n",
       " 178.0  190.0\n",
       " 218.0  233.0"
      ]
     },
     "metadata": {},
     "output_type": "display_data"
    }
   ],
   "source": [
    "C = [2 4 6; 3 5 7]\n",
    "D = [9 10; 13 14; 18 19]\n",
    "\n",
    "CD = zeros(2, 2)\n",
    "\n",
    "for i in 1:size(C, 1)\n",
    "    for j in 1:size(D, 2)\n",
    "        for k in 1:size(C, 2)\n",
    "            CD[i, j] += C[i, k] * D[k, j]\n",
    "        end\n",
    "    end\n",
    "end\n",
    "\n",
    "CD"
   ]
  },
  {
   "cell_type": "code",
   "execution_count": null,
   "metadata": {},
   "outputs": [],
   "source": []
  }
 ],
 "metadata": {
  "kernelspec": {
   "display_name": "Julia 1.11.2",
   "language": "julia",
   "name": "julia-1.11"
  },
  "language_info": {
   "file_extension": ".jl",
   "mimetype": "application/julia",
   "name": "julia",
   "version": "1.11.2"
  }
 },
 "nbformat": 4,
 "nbformat_minor": 2
}
