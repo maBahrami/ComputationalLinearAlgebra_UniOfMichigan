{
 "cells": [
  {
   "cell_type": "markdown",
   "metadata": {},
   "source": [
    "# Lab 3: Vector and Matrix Multiplicatopn"
   ]
  },
  {
   "cell_type": "code",
   "execution_count": 2,
   "metadata": {},
   "outputs": [
    {
     "data": {
      "text/plain": [
       "(3, 5)"
      ]
     },
     "metadata": {},
     "output_type": "display_data"
    }
   ],
   "source": [
    "ex1a = [1 2 3; 4 5 6; 7 8 9]\n",
    "ex1b = [1 2 3 4 5; 6 7 8 9 10; 11 12 13 14 15]\n",
    "\n",
    "size(ex1a * ex1b)"
   ]
  },
  {
   "cell_type": "code",
   "execution_count": 3,
   "metadata": {},
   "outputs": [
    {
     "ename": "DimensionMismatch",
     "evalue": "DimensionMismatch: matrix A has axes (Base.OneTo(3),Base.OneTo(5)), matrix B has axes (Base.OneTo(3),Base.OneTo(3))",
     "output_type": "error",
     "traceback": [
      "DimensionMismatch: matrix A has axes (Base.OneTo(3),Base.OneTo(5)), matrix B has axes (Base.OneTo(3),Base.OneTo(3))\n",
      "\n",
      "Stacktrace:\n",
      " [1] _generic_matmatmul!(C::Matrix{Int64}, A::Matrix{Int64}, B::Matrix{Int64}, _add::LinearAlgebra.MulAddMul{true, true, Bool, Bool})\n",
      "   @ LinearAlgebra C:\\Users\\mabah\\AppData\\Local\\Programs\\Julia-1.11.2\\share\\julia\\stdlib\\v1.11\\LinearAlgebra\\src\\matmul.jl:883\n",
      " [2] generic_matmatmul!\n",
      "   @ C:\\Users\\mabah\\AppData\\Local\\Programs\\Julia-1.11.2\\share\\julia\\stdlib\\v1.11\\LinearAlgebra\\src\\matmul.jl:868 [inlined]\n",
      " [3] _mul!\n",
      "   @ C:\\Users\\mabah\\AppData\\Local\\Programs\\Julia-1.11.2\\share\\julia\\stdlib\\v1.11\\LinearAlgebra\\src\\matmul.jl:287 [inlined]\n",
      " [4] mul!\n",
      "   @ C:\\Users\\mabah\\AppData\\Local\\Programs\\Julia-1.11.2\\share\\julia\\stdlib\\v1.11\\LinearAlgebra\\src\\matmul.jl:285 [inlined]\n",
      " [5] mul!\n",
      "   @ C:\\Users\\mabah\\AppData\\Local\\Programs\\Julia-1.11.2\\share\\julia\\stdlib\\v1.11\\LinearAlgebra\\src\\matmul.jl:253 [inlined]\n",
      " [6] *(A::Matrix{Int64}, B::Matrix{Int64})\n",
      "   @ LinearAlgebra C:\\Users\\mabah\\AppData\\Local\\Programs\\Julia-1.11.2\\share\\julia\\stdlib\\v1.11\\LinearAlgebra\\src\\matmul.jl:114\n",
      " [7] top-level scope\n",
      "   @ c:\\Users\\mabah\\Desktop\\ComputationalLinearAlgebra_UniOfMichigan_F21\\Lab\\jl_notebook_cell_df34fa98e69747e1a8f8a730347b8e2f_W5sZmlsZQ==.jl:1"
     ]
    }
   ],
   "source": [
    "size(ex1b * ex1a)"
   ]
  },
  {
   "cell_type": "markdown",
   "metadata": {},
   "source": [
    "## Problem 1\n",
    "### a)"
   ]
  },
  {
   "cell_type": "code",
   "execution_count": 14,
   "metadata": {},
   "outputs": [
    {
     "data": {
      "text/plain": [
       "3×3 Matrix{Int64}:\n",
       " 216  128  40\n",
       " 258  154  50\n",
       " 300  180  60"
      ]
     },
     "metadata": {},
     "output_type": "display_data"
    }
   ],
   "source": [
    "source1 = collect(1:12)\n",
    "source2 = collect(12:-1:1)\n",
    "matrix1 = reshape(source1, 3, :)\n",
    "matrix2 = reshape(source2, 4, :)\n",
    "matProduct1a = matrix1 * matrix2"
   ]
  },
  {
   "cell_type": "markdown",
   "metadata": {},
   "source": [
    "### c) Clever indexing  + resultant size"
   ]
  },
  {
   "cell_type": "code",
   "execution_count": 31,
   "metadata": {},
   "outputs": [
    {
     "data": {
      "text/plain": [
       "2-element Vector{Int64}:\n",
       " 295\n",
       " 607"
      ]
     },
     "metadata": {},
     "output_type": "display_data"
    }
   ],
   "source": [
    "A = [1 2 3; 4 5 6]\n",
    "B = [0 1 1 2; 3 5 8 13; 21 34 55 89]\n",
    "\n",
    "C=A*B\n",
    "\n",
    "topRow = C[1, :]\n",
    "botRow = C[size(C, 1), :]   # or ----> botRow = C[end, :]\n",
    "leftCol = C[:, 1]\n",
    "rightCol = C[:, size(C, 2)] # or -.--> rightCol = C[:, end]"
   ]
  },
  {
   "cell_type": "markdown",
   "metadata": {},
   "source": [
    "## Problem 2\n",
    "### a)"
   ]
  },
  {
   "cell_type": "code",
   "execution_count": 45,
   "metadata": {},
   "outputs": [
    {
     "name": "stdout",
     "output_type": "stream",
     "text": [
      "Fr1 * Gc1 = [38;;]\n",
      "Fr2 * Gc1 = [89;;]\n"
     ]
    },
    {
     "data": {
      "text/plain": [
       "2×1 Matrix{Int64}:\n",
       " 38\n",
       " 89"
      ]
     },
     "metadata": {},
     "output_type": "display_data"
    }
   ],
   "source": [
    "F = [4 3; 7 9]\n",
    "G = [5; 6]\n",
    "\n",
    "Fr1 = F[1:1, :]\n",
    "Fr2 = F[2:2, :]\n",
    "\n",
    "Gc1 = G[:, 1:1]\n",
    "\n",
    "@show Fr1*Gc1\n",
    "@show Fr2*Gc1\n",
    "\n",
    "FG = [Fr1*Gc1; Fr2*Gc1]"
   ]
  },
  {
   "cell_type": "markdown",
   "metadata": {},
   "source": [
    "### b)"
   ]
  },
  {
   "cell_type": "code",
   "execution_count": 37,
   "metadata": {},
   "outputs": [
    {
     "data": {
      "text/plain": [
       "2×2 Matrix{Float64}:\n",
       " 178.0  190.0\n",
       " 218.0  233.0"
      ]
     },
     "metadata": {},
     "output_type": "display_data"
    }
   ],
   "source": [
    "C = [2 4 6; 3 5 7]\n",
    "D = [9 10; 13 14; 18 19]\n",
    "\n",
    "CD = zeros(2, 2)\n",
    "\n",
    "for i in 1:size(C, 1)\n",
    "    for j in 1:size(D, 2)\n",
    "        CD[i, j] = (C[i:i, :] * D[:, j:j])[1]\n",
    "    end\n",
    "end\n",
    "\n",
    "CD"
   ]
  },
  {
   "cell_type": "code",
   "execution_count": 41,
   "metadata": {},
   "outputs": [
    {
     "name": "stdout",
     "output_type": "stream",
     "text": [
      "CD = [18.0 0.0; 0.0 0.0]\n",
      "CD = [70.0 0.0; 0.0 0.0]\n",
      "CD = [178.0 0.0; 0.0 0.0]\n",
      "CD = [178.0 20.0; 0.0 0.0]\n",
      "CD = [178.0 76.0; 0.0 0.0]\n",
      "CD = [178.0 190.0; 0.0 0.0]\n",
      "CD = [178.0 190.0; 27.0 0.0]\n",
      "CD = [178.0 190.0; 92.0 0.0]\n",
      "CD = [178.0 190.0; 218.0 0.0]\n",
      "CD = [178.0 190.0; 218.0 30.0]\n",
      "CD = [178.0 190.0; 218.0 100.0]\n",
      "CD = [178.0 190.0; 218.0 233.0]\n"
     ]
    },
    {
     "data": {
      "text/plain": [
       "2×2 Matrix{Float64}:\n",
       " 178.0  190.0\n",
       " 218.0  233.0"
      ]
     },
     "metadata": {},
     "output_type": "display_data"
    }
   ],
   "source": [
    "C = [2 4 6; 3 5 7]\n",
    "D = [9 10; 13 14; 18 19]\n",
    "\n",
    "CD = zeros(2, 2)\n",
    "\n",
    "for i in 1:size(C, 1)\n",
    "    for j in 1:size(D, 2)\n",
    "        for k in 1:size(C, 2)\n",
    "            CD[i, j] += C[i, k] * D[k, j]\n",
    "            @show CD\n",
    "        end\n",
    "    end\n",
    "end\n",
    "\n",
    "CD"
   ]
  },
  {
   "cell_type": "markdown",
   "metadata": {},
   "source": [
    "### C) Function"
   ]
  },
  {
   "cell_type": "code",
   "execution_count": 49,
   "metadata": {},
   "outputs": [
    {
     "data": {
      "text/plain": [
       "matrix_multiply (generic function with 1 method)"
      ]
     },
     "metadata": {},
     "output_type": "display_data"
    }
   ],
   "source": [
    "function matrix_multiply(A, B)\n",
    "    rows = size(A, 1)\n",
    "    cols = size(B, 2)\n",
    "    CD = zeros(rows, cols)\n",
    "\n",
    "    for i in 1:rows\n",
    "        for j in 1:cols\n",
    "            CD[i, j] = (C[i:i, :] * D[:, j:j])[1]\n",
    "        end\n",
    "    end\n",
    "    return CD\n",
    "\n",
    "end\n",
    "\n",
    "    "
   ]
  },
  {
   "cell_type": "code",
   "execution_count": 51,
   "metadata": {},
   "outputs": [
    {
     "data": {
      "text/plain": [
       "3×5 Matrix{Float64}:\n",
       " 0.0  0.0  0.0  0.0  0.0\n",
       " 0.0  0.0  0.0  0.0  0.0\n",
       " 0.0  0.0  0.0  0.0  0.0"
      ]
     },
     "metadata": {},
     "output_type": "display_data"
    }
   ],
   "source": [
    "using Random\n",
    "C=rand(3,40)\n",
    "D=randn(40,5)\n",
    "\n",
    "C_D = C * D\n",
    "\n",
    "func_ans = matrix_multiply(C,D)\n",
    "\n",
    "diff = func_ans - C_D"
   ]
  },
  {
   "cell_type": "markdown",
   "metadata": {},
   "source": [
    "### Problem 3. Matrix Reversal (just rows)"
   ]
  },
  {
   "cell_type": "code",
   "execution_count": 77,
   "metadata": {},
   "outputs": [
    {
     "data": {
      "text/plain": [
       "matrixReverserRows (generic function with 1 method)"
      ]
     },
     "metadata": {},
     "output_type": "display_data"
    }
   ],
   "source": [
    "function matrixReverserRows(A)\n",
    "    rows, cols = size(A)\n",
    "    dummy = zeros(rows, cols)\n",
    "    for i in 0:cols-1\n",
    "        dummy[:, cols-i] = A[:, i+1]\n",
    "    end\n",
    "    return dummy\n",
    "end\n"
   ]
  },
  {
   "cell_type": "code",
   "execution_count": 80,
   "metadata": {},
   "outputs": [
    {
     "data": {
      "text/plain": [
       "3×3 Matrix{Float64}:\n",
       " 3.0  2.0  1.0\n",
       " 6.0  5.0  4.0\n",
       " 9.0  8.0  7.0"
      ]
     },
     "metadata": {},
     "output_type": "display_data"
    }
   ],
   "source": [
    "C = [1 2 3; 4 5 6; 7 8 9]\n",
    "matrixReverserRows(C)"
   ]
  },
  {
   "cell_type": "markdown",
   "metadata": {},
   "source": [
    "### Problem 4. Matrix Reversal (rows and columns)"
   ]
  },
  {
   "cell_type": "code",
   "execution_count": 71,
   "metadata": {},
   "outputs": [
    {
     "data": {
      "text/plain": [
       "matrixReverser (generic function with 1 method)"
      ]
     },
     "metadata": {},
     "output_type": "display_data"
    }
   ],
   "source": [
    "function matrixReverser(A)\n",
    "    rows, cols = size(A)\n",
    "    dummy = zeros(rows*cols)\n",
    "    for i in 0:rows*cols-1\n",
    "        dummy[i+1] = A[rows*cols-i]\n",
    "    end\n",
    "    print(dummy)\n",
    "    return reshape(dummy, rows, cols)\n",
    "end\n"
   ]
  },
  {
   "cell_type": "code",
   "execution_count": 81,
   "metadata": {},
   "outputs": [
    {
     "name": "stdout",
     "output_type": "stream",
     "text": [
      "[9.0, 6.0, 3.0, 8.0, 5.0, 2.0, 7.0, 4.0, 1.0]"
     ]
    },
    {
     "data": {
      "text/plain": [
       "3×3 Matrix{Float64}:\n",
       " 9.0  8.0  7.0\n",
       " 6.0  5.0  4.0\n",
       " 3.0  2.0  1.0"
      ]
     },
     "metadata": {},
     "output_type": "display_data"
    }
   ],
   "source": [
    "C = [1 2 3; 4 5 6; 7 8 9]\n",
    "matrixReverser(C)"
   ]
  }
 ],
 "metadata": {
  "kernelspec": {
   "display_name": "Julia 1.11.2",
   "language": "julia",
   "name": "julia-1.11"
  },
  "language_info": {
   "file_extension": ".jl",
   "mimetype": "application/julia",
   "name": "julia",
   "version": "1.11.2"
  }
 },
 "nbformat": 4,
 "nbformat_minor": 2
}
