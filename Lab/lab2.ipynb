{
 "cells": [
  {
   "cell_type": "markdown",
   "metadata": {},
   "source": [
    "# Lab 2: Vectors, Matrices and Systems of Linear Equations"
   ]
  },
  {
   "cell_type": "code",
   "execution_count": 1,
   "metadata": {},
   "outputs": [
    {
     "data": {
      "text/plain": [
       "1×5 Matrix{Int64}:\n",
       " 1  3  5  7  9"
      ]
     },
     "metadata": {},
     "output_type": "display_data"
    }
   ],
   "source": [
    "row_vec = [1 3 5 7 9]"
   ]
  },
  {
   "cell_type": "code",
   "execution_count": 2,
   "metadata": {},
   "outputs": [
    {
     "data": {
      "text/plain": [
       "5-element Vector{Int64}:\n",
       " 0\n",
       " 2\n",
       " 4\n",
       " 6\n",
       " 8"
      ]
     },
     "metadata": {},
     "output_type": "display_data"
    }
   ],
   "source": [
    "col_vec = [0; 2; 4; 6; 8]"
   ]
  },
  {
   "cell_type": "code",
   "execution_count": 3,
   "metadata": {},
   "outputs": [
    {
     "data": {
      "text/plain": [
       "2×4 Matrix{Int64}:\n",
       " 1  2  3  4\n",
       " 5  6  7  8"
      ]
     },
     "metadata": {},
     "output_type": "display_data"
    }
   ],
   "source": [
    "A = [1 2 3 4; 5 6 7 8]"
   ]
  },
  {
   "cell_type": "markdown",
   "metadata": {},
   "source": [
    "### Practice 1."
   ]
  },
  {
   "cell_type": "code",
   "execution_count": 4,
   "metadata": {},
   "outputs": [
    {
     "data": {
      "text/plain": [
       "5-element Vector{Float64}:\n",
       "  0.0\n",
       "  0.0\n",
       " -1.5\n",
       "  0.0\n",
       "  0.0"
      ]
     },
     "metadata": {},
     "output_type": "display_data"
    }
   ],
   "source": [
    "almost_zero_vec = [0; 0; -1.5; 0; 0]"
   ]
  },
  {
   "cell_type": "code",
   "execution_count": 5,
   "metadata": {},
   "outputs": [
    {
     "data": {
      "text/plain": [
       "3×4 Matrix{Float64}:\n",
       " 0.0  0.0  0.0  0.0\n",
       " 0.0  0.0  0.0  0.0\n",
       " 0.0  0.0  0.0  0.0"
      ]
     },
     "metadata": {},
     "output_type": "display_data"
    }
   ],
   "source": [
    "zeor_matrix = zeros(3, 4)"
   ]
  },
  {
   "cell_type": "code",
   "execution_count": 9,
   "metadata": {},
   "outputs": [
    {
     "data": {
      "text/plain": [
       "3×4 Matrix{Float64}:\n",
       " 2.0  2.0  2.0  2.0\n",
       " 2.0  2.0  2.0  2.0\n",
       " 2.0  2.0  2.0  2.0"
      ]
     },
     "metadata": {},
     "output_type": "display_data"
    }
   ],
   "source": [
    "two_matrix = ones(3, 4) .+ 1\n",
    "# pay attention to the . placed before +"
   ]
  },
  {
   "cell_type": "code",
   "execution_count": 27,
   "metadata": {},
   "outputs": [
    {
     "data": {
      "text/plain": [
       "3×4 Matrix{Float64}:\n",
       " 0.579862  0.0149088  0.839622  0.946453\n",
       " 0.411294  0.520355   0.967143  0.574323\n",
       " 0.972136  0.639562   0.131026  0.67765"
      ]
     },
     "metadata": {},
     "output_type": "display_data"
    }
   ],
   "source": [
    "using Random\n",
    "Random.seed!(1234)\n",
    "rand_matrix = rand(3, 4)"
   ]
  },
  {
   "cell_type": "markdown",
   "metadata": {},
   "source": [
    "### Example 2"
   ]
  },
  {
   "cell_type": "code",
   "execution_count": 60,
   "metadata": {},
   "outputs": [
    {
     "data": {
      "text/plain": [
       "3×4 Matrix{Float64}:\n",
       " 0.579862  0.0149088  0.839622  0.946453\n",
       " 0.411294  0.520355   0.967143  0.574323\n",
       " 0.972136  0.639562   0.131026  0.67765"
      ]
     },
     "metadata": {},
     "output_type": "display_data"
    }
   ],
   "source": [
    "row_vec = [1 3 5 7 9]\n",
    "almost_zero_vec = [0; 0; -pi; 0; 0; 0; 0]\n",
    "using Random    # using an external pacakge\n",
    "Random.seed!(1234)\n",
    "rand_matrix = rand(3, 4)"
   ]
  },
  {
   "cell_type": "code",
   "execution_count": 61,
   "metadata": {},
   "outputs": [
    {
     "data": {
      "text/plain": [
       "1"
      ]
     },
     "metadata": {},
     "output_type": "display_data"
    }
   ],
   "source": [
    "num = row_vec[1]"
   ]
  },
  {
   "cell_type": "code",
   "execution_count": 62,
   "metadata": {},
   "outputs": [
    {
     "data": {
      "text/plain": [
       "-3.141592653589793"
      ]
     },
     "metadata": {},
     "output_type": "display_data"
    }
   ],
   "source": [
    "num = almost_zero_vec[3]"
   ]
  },
  {
   "cell_type": "code",
   "execution_count": 63,
   "metadata": {},
   "outputs": [
    {
     "data": {
      "text/plain": [
       "0.014908849285099945"
      ]
     },
     "metadata": {},
     "output_type": "display_data"
    }
   ],
   "source": [
    "num = rand_matrix[1, 2]"
   ]
  },
  {
   "cell_type": "code",
   "execution_count": 64,
   "metadata": {},
   "outputs": [
    {
     "data": {
      "text/plain": [
       "3-element Vector{Float64}:\n",
       " 0.9464532262313834\n",
       " 0.5743234852783174\n",
       " 0.6776499075995779"
      ]
     },
     "metadata": {},
     "output_type": "display_data"
    }
   ],
   "source": [
    "vect = rand_matrix[:, 4]"
   ]
  },
  {
   "cell_type": "code",
   "execution_count": 66,
   "metadata": {},
   "outputs": [
    {
     "data": {
      "text/plain": [
       "4-element Vector{Float64}:\n",
       " 0.5798621201341324\n",
       " 0.014908849285099945\n",
       " 0.8396219340580711\n",
       " 0.9464532262313834"
      ]
     },
     "metadata": {},
     "output_type": "display_data"
    }
   ],
   "source": [
    "vect = rand_matrix[1, :]"
   ]
  },
  {
   "cell_type": "code",
   "execution_count": 67,
   "metadata": {},
   "outputs": [
    {
     "data": {
      "text/plain": [
       "1×4 Matrix{Float64}:\n",
       " 0.579862  0.0149088  0.839622  0.946453"
      ]
     },
     "metadata": {},
     "output_type": "display_data"
    }
   ],
   "source": [
    "vect = rand_matrix[1:1, 1:end]"
   ]
  },
  {
   "cell_type": "code",
   "execution_count": 68,
   "metadata": {},
   "outputs": [
    {
     "data": {
      "text/plain": [
       "1×4 Matrix{Float64}:\n",
       " 0.579862  0.0149088  0.839622  0.946453"
      ]
     },
     "metadata": {},
     "output_type": "display_data"
    }
   ],
   "source": [
    "vect = rand_matrix[1:1, :]"
   ]
  },
  {
   "cell_type": "code",
   "execution_count": null,
   "metadata": {},
   "outputs": [
    {
     "data": {
      "text/plain": [
       "3-element Vector{Float64}:\n",
       " 0.5798621201341324\n",
       " 0.4112941179498505\n",
       " 0.9721360824554687"
      ]
     },
     "metadata": {},
     "output_type": "display_data"
    }
   ],
   "source": []
  },
  {
   "cell_type": "code",
   "execution_count": 71,
   "metadata": {},
   "outputs": [
    {
     "data": {
      "text/plain": [
       "4×4 Matrix{Int64}:\n",
       " 1  2  3  0\n",
       " 4  5  6  0\n",
       " 7  8  9  0\n",
       " 0  0  0  0"
      ]
     },
     "metadata": {},
     "output_type": "display_data"
    }
   ],
   "source": [
    "A = [1 2 3 0; 4 5 6 0; 7 8 9 0; 0 0 0 0]"
   ]
  },
  {
   "cell_type": "code",
   "execution_count": 72,
   "metadata": {},
   "outputs": [
    {
     "data": {
      "text/plain": [
       "3×3 Matrix{Int64}:\n",
       " 1  2  3\n",
       " 4  5  6\n",
       " 7  8  9"
      ]
     },
     "metadata": {},
     "output_type": "display_data"
    }
   ],
   "source": [
    "block = A[1:3, 1:3]"
   ]
  },
  {
   "cell_type": "code",
   "execution_count": 73,
   "metadata": {},
   "outputs": [
    {
     "data": {
      "text/plain": [
       "1×1 Matrix{Int64}:\n",
       " 5"
      ]
     },
     "metadata": {},
     "output_type": "display_data"
    }
   ],
   "source": [
    "small_block = block[2:2, 2:2]"
   ]
  },
  {
   "cell_type": "code",
   "execution_count": 75,
   "metadata": {},
   "outputs": [
    {
     "data": {
      "text/plain": [
       "5"
      ]
     },
     "metadata": {},
     "output_type": "display_data"
    }
   ],
   "source": [
    "num = small_block[1]"
   ]
  },
  {
   "cell_type": "code",
   "execution_count": 76,
   "metadata": {},
   "outputs": [
    {
     "ename": "MethodError",
     "evalue": "MethodError: no method matching /(::Irrational{:π}, ::Matrix{Int64})\nThe function `/` exists, but no method is defined for this combination of argument types.\n\nYou might have used a 2d row vector where a 1d column vector was required.\nNote the difference between 1d column vector [1,2,3] and 2d row vector [1 2 3].\nYou can convert to a column vector with the vec() function.\n\nClosest candidates are:\n  /(::Number, !Matched::BitArray)\n   @ Base bitarray.jl:1205\n  /(::Number, !Matched::AbstractVector)\n   @ LinearAlgebra C:\\Users\\mabah\\AppData\\Local\\Programs\\Julia-1.11.2\\share\\julia\\stdlib\\v1.11\\LinearAlgebra\\src\\generic.jl:1168\n  /(::Number, !Matched::Missing)\n   @ Base missing.jl:124\n  ...\n",
     "output_type": "error",
     "traceback": [
      "MethodError: no method matching /(::Irrational{:π}, ::Matrix{Int64})\n",
      "The function `/` exists, but no method is defined for this combination of argument types.\n",
      "\n",
      "You might have used a 2d row vector where a 1d column vector was required.\n",
      "Note the difference between 1d column vector [1,2,3] and 2d row vector [1 2 3].\n",
      "You can convert to a column vector with the vec() function.\n",
      "\n",
      "Closest candidates are:\n",
      "  /(::Number, !Matched::BitArray)\n",
      "   @ Base bitarray.jl:1205\n",
      "  /(::Number, !Matched::AbstractVector)\n",
      "   @ LinearAlgebra C:\\Users\\mabah\\AppData\\Local\\Programs\\Julia-1.11.2\\share\\julia\\stdlib\\v1.11\\LinearAlgebra\\src\\generic.jl:1168\n",
      "  /(::Number, !Matched::Missing)\n",
      "   @ Base missing.jl:124\n",
      "  ...\n",
      "\n",
      "\n",
      "Stacktrace:\n",
      " [1] top-level scope\n",
      "   @ c:\\Users\\mabah\\Desktop\\ComputationalLinearAlgebra_UniOfMichigan_F21\\Lab\\jl_notebook_cell_df34fa98e69747e1a8f8a730347b8e2f_X35sZmlsZQ==.jl:1"
     ]
    }
   ],
   "source": [
    "pi / small_block"
   ]
  },
  {
   "cell_type": "code",
   "execution_count": 77,
   "metadata": {},
   "outputs": [
    {
     "data": {
      "text/plain": [
       "1×1 Matrix{Float64}:\n",
       " 0.6283185307179586"
      ]
     },
     "metadata": {},
     "output_type": "display_data"
    }
   ],
   "source": [
    "pi ./ small_block"
   ]
  },
  {
   "cell_type": "code",
   "execution_count": 80,
   "metadata": {},
   "outputs": [
    {
     "data": {
      "text/plain": [
       "0.6283185307179586"
      ]
     },
     "metadata": {},
     "output_type": "display_data"
    }
   ],
   "source": [
    "pi / small_block[1]"
   ]
  },
  {
   "cell_type": "code",
   "execution_count": 87,
   "metadata": {},
   "outputs": [
    {
     "data": {
      "text/plain": [
       "3×3 Matrix{Int64}:\n",
       " 1  2  3\n",
       " 4  5  6\n",
       " 7  8  9"
      ]
     },
     "metadata": {},
     "output_type": "display_data"
    }
   ],
   "source": [
    "block"
   ]
  },
  {
   "cell_type": "code",
   "execution_count": 88,
   "metadata": {},
   "outputs": [
    {
     "data": {
      "text/plain": [
       "3-element Vector{Int64}:\n",
       " 1\n",
       " 2\n",
       " 3"
      ]
     },
     "metadata": {},
     "output_type": "display_data"
    }
   ],
   "source": [
    "block[1, :]"
   ]
  },
  {
   "cell_type": "code",
   "execution_count": 89,
   "metadata": {},
   "outputs": [
    {
     "data": {
      "text/plain": [
       "1×3 Matrix{Int64}:\n",
       " 1  2  3"
      ]
     },
     "metadata": {},
     "output_type": "display_data"
    }
   ],
   "source": [
    "block[1:1, :]"
   ]
  },
  {
   "cell_type": "code",
   "execution_count": 90,
   "metadata": {},
   "outputs": [
    {
     "data": {
      "text/plain": [
       "1×3 Matrix{Int64}:\n",
       " 1  2  3"
      ]
     },
     "metadata": {},
     "output_type": "display_data"
    }
   ],
   "source": [
    "Q = [1 2 3]"
   ]
  },
  {
   "cell_type": "code",
   "execution_count": 92,
   "metadata": {},
   "outputs": [
    {
     "data": {
      "text/plain": [
       "3×1 adjoint(::Matrix{Int64}) with eltype Int64:\n",
       " 1\n",
       " 2\n",
       " 3"
      ]
     },
     "metadata": {},
     "output_type": "display_data"
    }
   ],
   "source": [
    "Q'      # ' is matrix Transpose operator"
   ]
  },
  {
   "cell_type": "markdown",
   "metadata": {},
   "source": [
    "### Practice 2."
   ]
  },
  {
   "cell_type": "code",
   "execution_count": 94,
   "metadata": {},
   "outputs": [
    {
     "data": {
      "text/plain": [
       "3×4 Matrix{Float64}:\n",
       " 0.579862  0.0149088  0.839622  0.946453\n",
       " 0.411294  0.520355   0.967143  0.574323\n",
       " 0.972136  0.639562   0.131026  0.67765"
      ]
     },
     "metadata": {},
     "output_type": "display_data"
    }
   ],
   "source": [
    "rand_matrix"
   ]
  },
  {
   "cell_type": "code",
   "execution_count": 95,
   "metadata": {},
   "outputs": [
    {
     "data": {
      "text/plain": [
       "0.014908849285099945"
      ]
     },
     "metadata": {},
     "output_type": "display_data"
    }
   ],
   "source": [
    "small_num = rand_matrix[1, 2]"
   ]
  },
  {
   "cell_type": "code",
   "execution_count": 100,
   "metadata": {},
   "outputs": [
    {
     "data": {
      "text/plain": [
       "1×3 adjoint(::Vector{Float64}) with eltype Float64:\n",
       " 0.0149088  0.520355  0.639562"
      ]
     },
     "metadata": {},
     "output_type": "display_data"
    }
   ],
   "source": [
    "row_vec = rand_matrix[:, 2]'"
   ]
  },
  {
   "cell_type": "markdown",
   "metadata": {},
   "source": [
    "## Example 3. for loops"
   ]
  },
  {
   "cell_type": "code",
   "execution_count": 101,
   "metadata": {},
   "outputs": [
    {
     "data": {
      "text/plain": [
       "3×3 Matrix{Int64}:\n",
       " 1  8  2\n",
       " 0  3  7\n",
       " 6  2  9"
      ]
     },
     "metadata": {},
     "output_type": "display_data"
    }
   ],
   "source": [
    "A = [1 8 2; 0 3 7; 6 2 9]"
   ]
  },
  {
   "cell_type": "code",
   "execution_count": 102,
   "metadata": {},
   "outputs": [
    {
     "data": {
      "text/plain": [
       "13"
      ]
     },
     "metadata": {},
     "output_type": "display_data"
    }
   ],
   "source": [
    "sums = A[1, 1] + A[2, 2] + A[3, 3]"
   ]
  },
  {
   "cell_type": "code",
   "execution_count": 103,
   "metadata": {},
   "outputs": [
    {
     "data": {
      "text/plain": [
       "5×5 Matrix{Int64}:\n",
       " 2  7  3  4  1\n",
       " 9  1  0  3  2\n",
       " 7  4  9  2  0\n",
       " 1  7  6  4  2\n",
       " 7  4  9  5  8"
      ]
     },
     "metadata": {},
     "output_type": "display_data"
    }
   ],
   "source": [
    "A = [2 7 3 4 1; 9 1 0 3 2; 7 4 9 2 0; 1 7 6 4 2; 7 4 9 5 8]"
   ]
  },
  {
   "cell_type": "code",
   "execution_count": 104,
   "metadata": {},
   "outputs": [
    {
     "data": {
      "text/plain": [
       "24"
      ]
     },
     "metadata": {},
     "output_type": "display_data"
    }
   ],
   "source": [
    "sums = A[1, 1] + A[2, 2] + A[3, 3] + A[4, 4] + A[5, 5]"
   ]
  },
  {
   "cell_type": "code",
   "execution_count": 105,
   "metadata": {},
   "outputs": [
    {
     "name": "stdout",
     "output_type": "stream",
     "text": [
      "1\n",
      "2\n",
      "3\n",
      "4\n",
      "5\n",
      "6\n",
      "7\n",
      "8\n",
      "9\n",
      "10\n"
     ]
    }
   ],
   "source": [
    "for k in 1 : 10\n",
    "    println(k)\n",
    "end"
   ]
  },
  {
   "cell_type": "code",
   "execution_count": 106,
   "metadata": {},
   "outputs": [
    {
     "name": "stdout",
     "output_type": "stream",
     "text": [
      "2\n",
      "4\n",
      "6\n",
      "8\n",
      "10\n",
      "12\n",
      "14\n",
      "16\n",
      "18\n",
      "20\n"
     ]
    }
   ],
   "source": [
    "for k in 2:2:20   #   start : step : stop\n",
    "    println(k)\n",
    "end"
   ]
  },
  {
   "cell_type": "code",
   "execution_count": 109,
   "metadata": {},
   "outputs": [
    {
     "name": "stdout",
     "output_type": "stream",
     "text": [
      "5.0\n",
      "3.5\n",
      "2.0\n",
      "0.5\n"
     ]
    }
   ],
   "source": [
    "for k in 5:-1.5:0\n",
    "    println(k)\n",
    "end"
   ]
  },
  {
   "cell_type": "code",
   "execution_count": 110,
   "metadata": {},
   "outputs": [
    {
     "data": {
      "text/plain": [
       "30×30 Matrix{Float64}:\n",
       " 0.579862   0.00543656  0.126386  …  0.571334   0.328323   0.673974\n",
       " 0.411294   0.698478    0.965243     0.124163   0.349247   0.245734\n",
       " 0.972136   0.349231    0.515818     0.587931   0.793972   0.316147\n",
       " 0.0149088  0.91097     0.488476     0.321161   0.0952038  0.585489\n",
       " 0.520355   0.973653    0.527837     0.531414   0.665992   0.852246\n",
       " 0.639562   0.76066     0.917137  …  0.59433    0.799811   0.580852\n",
       " 0.839622   0.488912    0.706951     0.290677   0.171014   0.183946\n",
       " 0.967143   0.362643    0.753203     0.855815   0.689584   0.202328\n",
       " 0.789764   0.708738    0.573645     0.555287   0.270649   0.488165\n",
       " 0.696041   0.656694    0.731872     0.861586   0.480495   0.988048\n",
       " ⋮                                ⋱                        \n",
       " 0.0779683  0.514119    0.381363     0.566666   0.606252   0.808455\n",
       " 0.966197   0.652465    0.42562      0.22972    0.706679   0.901708\n",
       " 0.666558   0.895855    0.661096     0.175631   0.104724   0.130924\n",
       " 0.333859   0.688344    0.195737     0.796953   0.578079   0.550256\n",
       " 0.802199   0.661561    0.811324  …  0.351131   0.889768   0.819181\n",
       " 0.156458   0.752155    0.594965     0.0457602  0.488776   0.131026\n",
       " 0.380799   0.869142    0.270995     0.807679   0.486645   0.946453\n",
       " 0.0687591  0.679021    0.566878     0.926269   0.209923   0.574323\n",
       " 0.861725   0.999183    0.607905     0.319058   0.928159   0.67765"
      ]
     },
     "metadata": {},
     "output_type": "display_data"
    }
   ],
   "source": [
    "using Random\n",
    "Random.seed!(1234)\n",
    "A = rand(30, 30)"
   ]
  },
  {
   "cell_type": "code",
   "execution_count": 117,
   "metadata": {},
   "outputs": [
    {
     "name": "stdout",
     "output_type": "stream",
     "text": [
      "15.828121297692357"
     ]
    }
   ],
   "source": [
    "sum = 0\n",
    "for k in 1:30\n",
    "    sum += A[k, k]\n",
    "end\n",
    "print(sum)"
   ]
  },
  {
   "cell_type": "code",
   "execution_count": 118,
   "metadata": {},
   "outputs": [
    {
     "data": {
      "text/plain": [
       "3×3 Matrix{Int64}:\n",
       " 1  2  3\n",
       " 4  5  6\n",
       " 7  8  9"
      ]
     },
     "metadata": {},
     "output_type": "display_data"
    }
   ],
   "source": [
    "A = [1 2 3; 4 5 6; 7 8 9]"
   ]
  },
  {
   "cell_type": "code",
   "execution_count": 119,
   "metadata": {},
   "outputs": [
    {
     "name": "stdout",
     "output_type": "stream",
     "text": [
      "1\n",
      "4\n",
      "5\n",
      "7\n",
      "8\n",
      "9\n"
     ]
    }
   ],
   "source": [
    "# Print all the numbers on and below the matrix primary diagonal\n",
    "for i in 1:3\n",
    "    for j in 1:i\n",
    "        println(A[i, j])\n",
    "    end\n",
    "end"
   ]
  },
  {
   "cell_type": "markdown",
   "metadata": {},
   "source": [
    "### Practice 3."
   ]
  },
  {
   "cell_type": "code",
   "execution_count": 120,
   "metadata": {},
   "outputs": [
    {
     "data": {
      "text/plain": [
       "10×10 Matrix{Float64}:\n",
       " 0.579862   0.566704  0.526344   0.00543656  …  0.829076  0.587688  0.850302\n",
       " 0.411294   0.536369  0.0779683  0.698478       0.892646  0.381363  0.124847\n",
       " 0.972136   0.711389  0.966197   0.349231       0.806471  0.42562   0.993609\n",
       " 0.0149088  0.103929  0.666558   0.91097        0.011625  0.661096  0.0686571\n",
       " 0.520355   0.806704  0.333859   0.973653       0.249676  0.195737  0.953362\n",
       " 0.639562   0.870539  0.802199   0.76066     …  0.139687  0.811324  0.484337\n",
       " 0.839622   0.962715  0.156458   0.488912       0.180998  0.594965  0.131026\n",
       " 0.967143   0.15118   0.380799   0.362643       0.813512  0.270995  0.946453\n",
       " 0.789764   0.715355  0.0687591  0.708738       0.994935  0.566878  0.574323\n",
       " 0.696041   0.939548  0.861725   0.656694       0.77916   0.607905  0.67765"
      ]
     },
     "metadata": {},
     "output_type": "display_data"
    }
   ],
   "source": [
    "using Random\n",
    "Random.seed!(1234)\n",
    "A = rand(10, 10)"
   ]
  },
  {
   "cell_type": "code",
   "execution_count": 123,
   "metadata": {},
   "outputs": [
    {
     "name": "stdout",
     "output_type": "stream",
     "text": [
      "6.84133867975218\n"
     ]
    }
   ],
   "source": [
    "sum = 0\n",
    "for i in 1:10\n",
    "    sum += A[i, i]\n",
    "end\n",
    "println(sum)"
   ]
  },
  {
   "cell_type": "code",
   "execution_count": 124,
   "metadata": {},
   "outputs": [
    {
     "name": "stdout",
     "output_type": "stream",
     "text": [
      "28.902991362437746\n"
     ]
    }
   ],
   "source": [
    "sum = 0\n",
    "for i in 1:10\n",
    "    for j in i:10\n",
    "        sum += A[i, j]\n",
    "    end\n",
    "end\n",
    "println(sum)"
   ]
  },
  {
   "cell_type": "markdown",
   "metadata": {},
   "source": [
    "### Example 4. "
   ]
  },
  {
   "cell_type": "code",
   "execution_count": 126,
   "metadata": {},
   "outputs": [
    {
     "data": {
      "text/plain": [
       "3-element Vector{Float64}:\n",
       " -1.0696035242290747\n",
       "  2.028193832599119\n",
       " -1.1691629955947136"
      ]
     },
     "metadata": {},
     "output_type": "display_data"
    }
   ],
   "source": [
    "A = [1 3 6; 0 6 1; 7 8 2]\n",
    "b = [-2; 11; 6.4]\n",
    "\n",
    "using LinearAlgebra\n",
    "x = inv(A) * b"
   ]
  },
  {
   "cell_type": "code",
   "execution_count": 128,
   "metadata": {},
   "outputs": [
    {
     "data": {
      "image/png": "[encoded data removed]",
      "image/svg+xml": [
       "<?xml version=\"1.0\" encoding=\"utf-8\"?>\n",
       "<svg xmlns=\"http://www.w3.org/2000/svg\" xmlns:xlink=\"http://www.w3.org/1999/xlink\" width=\"600\" height=\"400\" viewBox=\"0 0 2400 1600\">\n",
       "<defs>\n",
       "  <clipPath id=\"clip370\">\n",
       "    <rect x=\"0\" y=\"0\" width=\"2400\" height=\"1600\"/>\n",
       "  </clipPath>\n",
       "</defs>\n",
       "<path clip-path=\"url(#clip370)\" d=\"M0 1600 L2400 1600 L2400 0 L0 0  Z\" fill=\"#ffffff\" fill-rule=\"evenodd\" fill-opacity=\"1\"/>\n",
       "<defs>\n",
       "  <clipPath id=\"clip371\">\n",
       "    <rect x=\"480\" y=\"0\" width=\"1681\" height=\"1600\"/>\n",
       "  </clipPath>\n",
       "</defs>\n",
       "<path clip-path=\"url(#clip370)\" d=\"M193.936 1486.45 L2352.76 1486.45 L2352.76 47.2441 L193.936 47.2441  Z\" fill=\"#ffffff\" fill-rule=\"evenodd\" fill-opacity=\"1\"/>\n",
       "<defs>\n",
       "  <clipPath id=\"clip372\">\n",
       "    <rect x=\"193\" y=\"47\" width=\"2160\" height=\"1440\"/>\n",
       "  </clipPath>\n",
       "</defs>\n",
       "<polyline clip-path=\"url(#clip372)\" style=\"stroke:#000000; stroke-linecap:round; stroke-linejoin:round; stroke-width:2; stroke-opacity:0.1; fill:none\" points=\"255.041,1486.45 255.041,47.2441 \"/>\n",
       "<polyline clip-path=\"url(#clip372)\" style=\"stroke:#000000; stroke-linecap:round; stroke-linejoin:round; stroke-width:2; stroke-opacity:0.1; fill:none\" points=\"594.476,1486.45 594.476,47.2441 \"/>\n",
       "<polyline clip-path=\"url(#clip372)\" style=\"stroke:#000000; stroke-linecap:round; stroke-linejoin:round; stroke-width:2; stroke-opacity:0.1; fill:none\" points=\"933.911,1486.45 933.911,47.2441 \"/>\n",
       "<polyline clip-path=\"url(#clip372)\" style=\"stroke:#000000; stroke-linecap:round; stroke-linejoin:round; stroke-width:2; stroke-opacity:0.1; fill:none\" points=\"1273.35,1486.45 1273.35,47.2441 \"/>\n",
       "<polyline clip-path=\"url(#clip372)\" style=\"stroke:#000000; stroke-linecap:round; stroke-linejoin:round; stroke-width:2; stroke-opacity:0.1; fill:none\" points=\"1612.78,1486.45 1612.78,47.2441 \"/>\n",
       "<polyline clip-path=\"url(#clip372)\" style=\"stroke:#000000; stroke-linecap:round; stroke-linejoin:round; stroke-width:2; stroke-opacity:0.1; fill:none\" points=\"1952.22,1486.45 1952.22,47.2441 \"/>\n",
       "<polyline clip-path=\"url(#clip372)\" style=\"stroke:#000000; stroke-linecap:round; stroke-linejoin:round; stroke-width:2; stroke-opacity:0.1; fill:none\" points=\"2291.65,1486.45 2291.65,47.2441 \"/>\n",
       "<polyline clip-path=\"url(#clip372)\" style=\"stroke:#000000; stroke-linecap:round; stroke-linejoin:round; stroke-width:2; stroke-opacity:0.1; fill:none\" points=\"193.936,1445.72 2352.76,1445.72 \"/>\n",
       "<polyline clip-path=\"url(#clip372)\" style=\"stroke:#000000; stroke-linecap:round; stroke-linejoin:round; stroke-width:2; stroke-opacity:0.1; fill:none\" points=\"193.936,1106.28 2352.76,1106.28 \"/>\n",
       "<polyline clip-path=\"url(#clip372)\" style=\"stroke:#000000; stroke-linecap:round; stroke-linejoin:round; stroke-width:2; stroke-opacity:0.1; fill:none\" points=\"193.936,766.846 2352.76,766.846 \"/>\n",
       "<polyline clip-path=\"url(#clip372)\" style=\"stroke:#000000; stroke-linecap:round; stroke-linejoin:round; stroke-width:2; stroke-opacity:0.1; fill:none\" points=\"193.936,427.411 2352.76,427.411 \"/>\n",
       "<polyline clip-path=\"url(#clip372)\" style=\"stroke:#000000; stroke-linecap:round; stroke-linejoin:round; stroke-width:2; stroke-opacity:0.1; fill:none\" points=\"193.936,87.9763 2352.76,87.9763 \"/>\n",
       "<polyline clip-path=\"url(#clip370)\" style=\"stroke:#000000; stroke-linecap:round; stroke-linejoin:round; stroke-width:4; stroke-opacity:1; fill:none\" points=\"193.936,1486.45 2352.76,1486.45 \"/>\n",
       "<polyline clip-path=\"url(#clip370)\" style=\"stroke:#000000; stroke-linecap:round; stroke-linejoin:round; stroke-width:4; stroke-opacity:1; fill:none\" points=\"255.041,1486.45 255.041,1467.55 \"/>\n",
       "<polyline clip-path=\"url(#clip370)\" style=\"stroke:#000000; stroke-linecap:round; stroke-linejoin:round; stroke-width:4; stroke-opacity:1; fill:none\" points=\"594.476,1486.45 594.476,1467.55 \"/>\n",
       "<polyline clip-path=\"url(#clip370)\" style=\"stroke:#000000; stroke-linecap:round; stroke-linejoin:round; stroke-width:4; stroke-opacity:1; fill:none\" points=\"933.911,1486.45 933.911,1467.55 \"/>\n",
       "<polyline clip-path=\"url(#clip370)\" style=\"stroke:#000000; stroke-linecap:round; stroke-linejoin:round; stroke-width:4; stroke-opacity:1; fill:none\" points=\"1273.35,1486.45 1273.35,1467.55 \"/>\n",
       "<polyline clip-path=\"url(#clip370)\" style=\"stroke:#000000; stroke-linecap:round; stroke-linejoin:round; stroke-width:4; stroke-opacity:1; fill:none\" points=\"1612.78,1486.45 1612.78,1467.55 \"/>\n",
       "<polyline clip-path=\"url(#clip370)\" style=\"stroke:#000000; stroke-linecap:round; stroke-linejoin:round; stroke-width:4; stroke-opacity:1; fill:none\" points=\"1952.22,1486.45 1952.22,1467.55 \"/>\n",
       "<polyline clip-path=\"url(#clip370)\" style=\"stroke:#000000; stroke-linecap:round; stroke-linejoin:round; stroke-width:4; stroke-opacity:1; fill:none\" points=\"2291.65,1486.45 2291.65,1467.55 \"/>\n",
       "<path clip-path=\"url(#clip370)\" d=\"M202.067 1532.02 L231.743 1532.02 L231.743 1535.95 L202.067 1535.95 L202.067 1532.02 Z\" fill=\"#000000\" fill-rule=\"nonzero\" fill-opacity=\"1\" /><path clip-path=\"url(#clip370)\" d=\"M242.646 1544.91 L250.284 1544.91 L250.284 1518.55 L241.974 1520.21 L241.974 1515.95 L250.238 1514.29 L254.914 1514.29 L254.914 1544.91 L262.553 1544.91 L262.553 1548.85 L242.646 1548.85 L242.646 1544.91 Z\" fill=\"#000000\" fill-rule=\"nonzero\" fill-opacity=\"1\" /><path clip-path=\"url(#clip370)\" d=\"M271.997 1542.97 L276.882 1542.97 L276.882 1548.85 L271.997 1548.85 L271.997 1542.97 Z\" fill=\"#000000\" fill-rule=\"nonzero\" fill-opacity=\"1\" /><path clip-path=\"url(#clip370)\" d=\"M287.113 1514.29 L305.469 1514.29 L305.469 1518.22 L291.395 1518.22 L291.395 1526.7 Q292.414 1526.35 293.432 1526.19 Q294.451 1526 295.469 1526 Q301.256 1526 304.636 1529.17 Q308.016 1532.34 308.016 1537.76 Q308.016 1543.34 304.543 1546.44 Q301.071 1549.52 294.752 1549.52 Q292.576 1549.52 290.307 1549.15 Q288.062 1548.78 285.655 1548.04 L285.655 1543.34 Q287.738 1544.47 289.96 1545.03 Q292.182 1545.58 294.659 1545.58 Q298.664 1545.58 301.002 1543.48 Q303.34 1541.37 303.34 1537.76 Q303.34 1534.15 301.002 1532.04 Q298.664 1529.94 294.659 1529.94 Q292.784 1529.94 290.909 1530.35 Q289.057 1530.77 287.113 1531.65 L287.113 1514.29 Z\" fill=\"#000000\" fill-rule=\"nonzero\" fill-opacity=\"1\" /><path clip-path=\"url(#clip370)\" d=\"M541.004 1532.02 L570.68 1532.02 L570.68 1535.95 L541.004 1535.95 L541.004 1532.02 Z\" fill=\"#000000\" fill-rule=\"nonzero\" fill-opacity=\"1\" /><path clip-path=\"url(#clip370)\" d=\"M581.583 1544.91 L589.222 1544.91 L589.222 1518.55 L580.912 1520.21 L580.912 1515.95 L589.175 1514.29 L593.851 1514.29 L593.851 1544.91 L601.49 1544.91 L601.49 1548.85 L581.583 1548.85 L581.583 1544.91 Z\" fill=\"#000000\" fill-rule=\"nonzero\" fill-opacity=\"1\" /><path clip-path=\"url(#clip370)\" d=\"M610.934 1542.97 L615.819 1542.97 L615.819 1548.85 L610.934 1548.85 L610.934 1542.97 Z\" fill=\"#000000\" fill-rule=\"nonzero\" fill-opacity=\"1\" /><path clip-path=\"url(#clip370)\" d=\"M636.004 1517.37 Q632.393 1517.37 630.564 1520.93 Q628.758 1524.47 628.758 1531.6 Q628.758 1538.71 630.564 1542.27 Q632.393 1545.82 636.004 1545.82 Q639.638 1545.82 641.444 1542.27 Q643.272 1538.71 643.272 1531.6 Q643.272 1524.47 641.444 1520.93 Q639.638 1517.37 636.004 1517.37 M636.004 1513.66 Q641.814 1513.66 644.869 1518.27 Q647.948 1522.85 647.948 1531.6 Q647.948 1540.33 644.869 1544.94 Q641.814 1549.52 636.004 1549.52 Q630.194 1549.52 627.115 1544.94 Q624.059 1540.33 624.059 1531.6 Q624.059 1522.85 627.115 1518.27 Q630.194 1513.66 636.004 1513.66 Z\" fill=\"#000000\" fill-rule=\"nonzero\" fill-opacity=\"1\" /><path clip-path=\"url(#clip370)\" d=\"M880.937 1532.02 L910.613 1532.02 L910.613 1535.95 L880.937 1535.95 L880.937 1532.02 Z\" fill=\"#000000\" fill-rule=\"nonzero\" fill-opacity=\"1\" /><path clip-path=\"url(#clip370)\" d=\"M930.705 1517.37 Q927.094 1517.37 925.265 1520.93 Q923.46 1524.47 923.46 1531.6 Q923.46 1538.71 925.265 1542.27 Q927.094 1545.82 930.705 1545.82 Q934.339 1545.82 936.145 1542.27 Q937.974 1538.71 937.974 1531.6 Q937.974 1524.47 936.145 1520.93 Q934.339 1517.37 930.705 1517.37 M930.705 1513.66 Q936.515 1513.66 939.571 1518.27 Q942.649 1522.85 942.649 1531.6 Q942.649 1540.33 939.571 1544.94 Q936.515 1549.52 930.705 1549.52 Q924.895 1549.52 921.816 1544.94 Q918.761 1540.33 918.761 1531.6 Q918.761 1522.85 921.816 1518.27 Q924.895 1513.66 930.705 1513.66 Z\" fill=\"#000000\" fill-rule=\"nonzero\" fill-opacity=\"1\" /><path clip-path=\"url(#clip370)\" d=\"M950.867 1542.97 L955.751 1542.97 L955.751 1548.85 L950.867 1548.85 L950.867 1542.97 Z\" fill=\"#000000\" fill-rule=\"nonzero\" fill-opacity=\"1\" /><path clip-path=\"url(#clip370)\" d=\"M965.983 1514.29 L984.339 1514.29 L984.339 1518.22 L970.265 1518.22 L970.265 1526.7 Q971.284 1526.35 972.302 1526.19 Q973.321 1526 974.339 1526 Q980.126 1526 983.506 1529.17 Q986.885 1532.34 986.885 1537.76 Q986.885 1543.34 983.413 1546.44 Q979.941 1549.52 973.622 1549.52 Q971.446 1549.52 969.177 1549.15 Q966.932 1548.78 964.524 1548.04 L964.524 1543.34 Q966.608 1544.47 968.83 1545.03 Q971.052 1545.58 973.529 1545.58 Q977.534 1545.58 979.871 1543.48 Q982.209 1541.37 982.209 1537.76 Q982.209 1534.15 979.871 1532.04 Q977.534 1529.94 973.529 1529.94 Q971.654 1529.94 969.779 1530.35 Q967.927 1530.77 965.983 1531.65 L965.983 1514.29 Z\" fill=\"#000000\" fill-rule=\"nonzero\" fill-opacity=\"1\" /><path clip-path=\"url(#clip370)\" d=\"M1250.73 1517.37 Q1247.12 1517.37 1245.29 1520.93 Q1243.49 1524.47 1243.49 1531.6 Q1243.49 1538.71 1245.29 1542.27 Q1247.12 1545.82 1250.73 1545.82 Q1254.36 1545.82 1256.17 1542.27 Q1258 1538.71 1258 1531.6 Q1258 1524.47 1256.17 1520.93 Q1254.36 1517.37 1250.73 1517.37 M1250.73 1513.66 Q1256.54 1513.66 1259.6 1518.27 Q1262.67 1522.85 1262.67 1531.6 Q1262.67 1540.33 1259.6 1544.94 Q1256.54 1549.52 1250.73 1549.52 Q1244.92 1549.52 1241.84 1544.94 Q1238.79 1540.33 1238.79 1531.6 Q1238.79 1522.85 1241.84 1518.27 Q1244.92 1513.66 1250.73 1513.66 Z\" fill=\"#000000\" fill-rule=\"nonzero\" fill-opacity=\"1\" /><path clip-path=\"url(#clip370)\" d=\"M1270.89 1542.97 L1275.78 1542.97 L1275.78 1548.85 L1270.89 1548.85 L1270.89 1542.97 Z\" fill=\"#000000\" fill-rule=\"nonzero\" fill-opacity=\"1\" /><path clip-path=\"url(#clip370)\" d=\"M1295.96 1517.37 Q1292.35 1517.37 1290.52 1520.93 Q1288.72 1524.47 1288.72 1531.6 Q1288.72 1538.71 1290.52 1542.27 Q1292.35 1545.82 1295.96 1545.82 Q1299.6 1545.82 1301.4 1542.27 Q1303.23 1538.71 1303.23 1531.6 Q1303.23 1524.47 1301.4 1520.93 Q1299.6 1517.37 1295.96 1517.37 M1295.96 1513.66 Q1301.77 1513.66 1304.83 1518.27 Q1307.91 1522.85 1307.91 1531.6 Q1307.91 1540.33 1304.83 1544.94 Q1301.77 1549.52 1295.96 1549.52 Q1290.15 1549.52 1287.07 1544.94 Q1284.02 1540.33 1284.02 1531.6 Q1284.02 1522.85 1287.07 1518.27 Q1290.15 1513.66 1295.96 1513.66 Z\" fill=\"#000000\" fill-rule=\"nonzero\" fill-opacity=\"1\" /><path clip-path=\"url(#clip370)\" d=\"M1590.66 1517.37 Q1587.05 1517.37 1585.22 1520.93 Q1583.42 1524.47 1583.42 1531.6 Q1583.42 1538.71 1585.22 1542.27 Q1587.05 1545.82 1590.66 1545.82 Q1594.3 1545.82 1596.1 1542.27 Q1597.93 1538.71 1597.93 1531.6 Q1597.93 1524.47 1596.1 1520.93 Q1594.3 1517.37 1590.66 1517.37 M1590.66 1513.66 Q1596.47 1513.66 1599.53 1518.27 Q1602.61 1522.85 1602.61 1531.6 Q1602.61 1540.33 1599.53 1544.94 Q1596.47 1549.52 1590.66 1549.52 Q1584.85 1549.52 1581.77 1544.94 Q1578.72 1540.33 1578.72 1531.6 Q1578.72 1522.85 1581.77 1518.27 Q1584.85 1513.66 1590.66 1513.66 Z\" fill=\"#000000\" fill-rule=\"nonzero\" fill-opacity=\"1\" /><path clip-path=\"url(#clip370)\" d=\"M1610.82 1542.97 L1615.71 1542.97 L1615.71 1548.85 L1610.82 1548.85 L1610.82 1542.97 Z\" fill=\"#000000\" fill-rule=\"nonzero\" fill-opacity=\"1\" /><path clip-path=\"url(#clip370)\" d=\"M1625.94 1514.29 L1644.3 1514.29 L1644.3 1518.22 L1630.22 1518.22 L1630.22 1526.7 Q1631.24 1526.35 1632.26 1526.19 Q1633.28 1526 1634.3 1526 Q1640.08 1526 1643.46 1529.17 Q1646.84 1532.34 1646.84 1537.76 Q1646.84 1543.34 1643.37 1546.44 Q1639.9 1549.52 1633.58 1549.52 Q1631.4 1549.52 1629.13 1549.15 Q1626.89 1548.78 1624.48 1548.04 L1624.48 1543.34 Q1626.57 1544.47 1628.79 1545.03 Q1631.01 1545.58 1633.49 1545.58 Q1637.49 1545.58 1639.83 1543.48 Q1642.17 1541.37 1642.17 1537.76 Q1642.17 1534.15 1639.83 1532.04 Q1637.49 1529.94 1633.49 1529.94 Q1631.61 1529.94 1629.74 1530.35 Q1627.88 1530.77 1625.94 1531.65 L1625.94 1514.29 Z\" fill=\"#000000\" fill-rule=\"nonzero\" fill-opacity=\"1\" /><path clip-path=\"url(#clip370)\" d=\"M1919.37 1544.91 L1927.01 1544.91 L1927.01 1518.55 L1918.7 1520.21 L1918.7 1515.95 L1926.96 1514.29 L1931.64 1514.29 L1931.64 1544.91 L1939.28 1544.91 L1939.28 1548.85 L1919.37 1548.85 L1919.37 1544.91 Z\" fill=\"#000000\" fill-rule=\"nonzero\" fill-opacity=\"1\" /><path clip-path=\"url(#clip370)\" d=\"M1948.72 1542.97 L1953.6 1542.97 L1953.6 1548.85 L1948.72 1548.85 L1948.72 1542.97 Z\" fill=\"#000000\" fill-rule=\"nonzero\" fill-opacity=\"1\" /><path clip-path=\"url(#clip370)\" d=\"M1973.79 1517.37 Q1970.18 1517.37 1968.35 1520.93 Q1966.54 1524.47 1966.54 1531.6 Q1966.54 1538.71 1968.35 1542.27 Q1970.18 1545.82 1973.79 1545.82 Q1977.42 1545.82 1979.23 1542.27 Q1981.06 1538.71 1981.06 1531.6 Q1981.06 1524.47 1979.23 1520.93 Q1977.42 1517.37 1973.79 1517.37 M1973.79 1513.66 Q1979.6 1513.66 1982.66 1518.27 Q1985.73 1522.85 1985.73 1531.6 Q1985.73 1540.33 1982.66 1544.94 Q1979.6 1549.52 1973.79 1549.52 Q1967.98 1549.52 1964.9 1544.94 Q1961.85 1540.33 1961.85 1531.6 Q1961.85 1522.85 1964.9 1518.27 Q1967.98 1513.66 1973.79 1513.66 Z\" fill=\"#000000\" fill-rule=\"nonzero\" fill-opacity=\"1\" /><path clip-path=\"url(#clip370)\" d=\"M2259.3 1544.91 L2266.94 1544.91 L2266.94 1518.55 L2258.63 1520.21 L2258.63 1515.95 L2266.89 1514.29 L2271.57 1514.29 L2271.57 1544.91 L2279.21 1544.91 L2279.21 1548.85 L2259.3 1548.85 L2259.3 1544.91 Z\" fill=\"#000000\" fill-rule=\"nonzero\" fill-opacity=\"1\" /><path clip-path=\"url(#clip370)\" d=\"M2288.65 1542.97 L2293.54 1542.97 L2293.54 1548.85 L2288.65 1548.85 L2288.65 1542.97 Z\" fill=\"#000000\" fill-rule=\"nonzero\" fill-opacity=\"1\" /><path clip-path=\"url(#clip370)\" d=\"M2303.77 1514.29 L2322.12 1514.29 L2322.12 1518.22 L2308.05 1518.22 L2308.05 1526.7 Q2309.07 1526.35 2310.09 1526.19 Q2311.11 1526 2312.12 1526 Q2317.91 1526 2321.29 1529.17 Q2324.67 1532.34 2324.67 1537.76 Q2324.67 1543.34 2321.2 1546.44 Q2317.73 1549.52 2311.41 1549.52 Q2309.23 1549.52 2306.96 1549.15 Q2304.72 1548.78 2302.31 1548.04 L2302.31 1543.34 Q2304.39 1544.47 2306.62 1545.03 Q2308.84 1545.58 2311.31 1545.58 Q2315.32 1545.58 2317.66 1543.48 Q2320 1541.37 2320 1537.76 Q2320 1534.15 2317.66 1532.04 Q2315.32 1529.94 2311.31 1529.94 Q2309.44 1529.94 2307.56 1530.35 Q2305.71 1530.77 2303.77 1531.65 L2303.77 1514.29 Z\" fill=\"#000000\" fill-rule=\"nonzero\" fill-opacity=\"1\" /><polyline clip-path=\"url(#clip370)\" style=\"stroke:#000000; stroke-linecap:round; stroke-linejoin:round; stroke-width:4; stroke-opacity:1; fill:none\" points=\"193.936,1486.45 193.936,47.2441 \"/>\n",
       "<polyline clip-path=\"url(#clip370)\" style=\"stroke:#000000; stroke-linecap:round; stroke-linejoin:round; stroke-width:4; stroke-opacity:1; fill:none\" points=\"193.936,1445.72 212.834,1445.72 \"/>\n",
       "<polyline clip-path=\"url(#clip370)\" style=\"stroke:#000000; stroke-linecap:round; stroke-linejoin:round; stroke-width:4; stroke-opacity:1; fill:none\" points=\"193.936,1106.28 212.834,1106.28 \"/>\n",
       "<polyline clip-path=\"url(#clip370)\" style=\"stroke:#000000; stroke-linecap:round; stroke-linejoin:round; stroke-width:4; stroke-opacity:1; fill:none\" points=\"193.936,766.846 212.834,766.846 \"/>\n",
       "<polyline clip-path=\"url(#clip370)\" style=\"stroke:#000000; stroke-linecap:round; stroke-linejoin:round; stroke-width:4; stroke-opacity:1; fill:none\" points=\"193.936,427.411 212.834,427.411 \"/>\n",
       "<polyline clip-path=\"url(#clip370)\" style=\"stroke:#000000; stroke-linecap:round; stroke-linejoin:round; stroke-width:4; stroke-opacity:1; fill:none\" points=\"193.936,87.9763 212.834,87.9763 \"/>\n",
       "<path clip-path=\"url(#clip370)\" d=\"M50.9921 1446.17 L80.6679 1446.17 L80.6679 1450.1 L50.9921 1450.1 L50.9921 1446.17 Z\" fill=\"#000000\" fill-rule=\"nonzero\" fill-opacity=\"1\" /><path clip-path=\"url(#clip370)\" d=\"M91.5706 1459.06 L99.2095 1459.06 L99.2095 1432.69 L90.8993 1434.36 L90.8993 1430.1 L99.1632 1428.44 L103.839 1428.44 L103.839 1459.06 L111.478 1459.06 L111.478 1463 L91.5706 1463 L91.5706 1459.06 Z\" fill=\"#000000\" fill-rule=\"nonzero\" fill-opacity=\"1\" /><path clip-path=\"url(#clip370)\" d=\"M120.922 1457.12 L125.807 1457.12 L125.807 1463 L120.922 1463 L120.922 1457.12 Z\" fill=\"#000000\" fill-rule=\"nonzero\" fill-opacity=\"1\" /><path clip-path=\"url(#clip370)\" d=\"M145.992 1431.51 Q142.381 1431.51 140.552 1435.08 Q138.746 1438.62 138.746 1445.75 Q138.746 1452.86 140.552 1456.42 Q142.381 1459.96 145.992 1459.96 Q149.626 1459.96 151.431 1456.42 Q153.26 1452.86 153.26 1445.75 Q153.26 1438.62 151.431 1435.08 Q149.626 1431.51 145.992 1431.51 M145.992 1427.81 Q151.802 1427.81 154.857 1432.42 Q157.936 1437 157.936 1445.75 Q157.936 1454.48 154.857 1459.08 Q151.802 1463.67 145.992 1463.67 Q140.181 1463.67 137.103 1459.08 Q134.047 1454.48 134.047 1445.75 Q134.047 1437 137.103 1432.42 Q140.181 1427.81 145.992 1427.81 Z\" fill=\"#000000\" fill-rule=\"nonzero\" fill-opacity=\"1\" /><path clip-path=\"url(#clip370)\" d=\"M51.9875 1106.73 L81.6633 1106.73 L81.6633 1110.67 L51.9875 1110.67 L51.9875 1106.73 Z\" fill=\"#000000\" fill-rule=\"nonzero\" fill-opacity=\"1\" /><path clip-path=\"url(#clip370)\" d=\"M101.756 1092.08 Q98.1447 1092.08 96.316 1095.64 Q94.5104 1099.19 94.5104 1106.32 Q94.5104 1113.42 96.316 1116.99 Q98.1447 1120.53 101.756 1120.53 Q105.39 1120.53 107.196 1116.99 Q109.024 1113.42 109.024 1106.32 Q109.024 1099.19 107.196 1095.64 Q105.39 1092.08 101.756 1092.08 M101.756 1088.38 Q107.566 1088.38 110.621 1092.98 Q113.7 1097.57 113.7 1106.32 Q113.7 1115.04 110.621 1119.65 Q107.566 1124.23 101.756 1124.23 Q95.9456 1124.23 92.8669 1119.65 Q89.8114 1115.04 89.8114 1106.32 Q89.8114 1097.57 92.8669 1092.98 Q95.9456 1088.38 101.756 1088.38 Z\" fill=\"#000000\" fill-rule=\"nonzero\" fill-opacity=\"1\" /><path clip-path=\"url(#clip370)\" d=\"M121.918 1117.68 L126.802 1117.68 L126.802 1123.56 L121.918 1123.56 L121.918 1117.68 Z\" fill=\"#000000\" fill-rule=\"nonzero\" fill-opacity=\"1\" /><path clip-path=\"url(#clip370)\" d=\"M137.033 1089 L155.39 1089 L155.39 1092.94 L141.316 1092.94 L141.316 1101.41 Q142.334 1101.06 143.353 1100.9 Q144.371 1100.71 145.39 1100.71 Q151.177 1100.71 154.556 1103.89 Q157.936 1107.06 157.936 1112.47 Q157.936 1118.05 154.464 1121.15 Q150.992 1124.23 144.672 1124.23 Q142.496 1124.23 140.228 1123.86 Q137.982 1123.49 135.575 1122.75 L135.575 1118.05 Q137.658 1119.19 139.881 1119.74 Q142.103 1120.3 144.58 1120.3 Q148.584 1120.3 150.922 1118.19 Q153.26 1116.08 153.26 1112.47 Q153.26 1108.86 150.922 1106.76 Q148.584 1104.65 144.58 1104.65 Q142.705 1104.65 140.83 1105.07 Q138.978 1105.48 137.033 1106.36 L137.033 1089 Z\" fill=\"#000000\" fill-rule=\"nonzero\" fill-opacity=\"1\" /><path clip-path=\"url(#clip370)\" d=\"M100.76 752.645 Q97.1493 752.645 95.3206 756.209 Q93.515 759.751 93.515 766.881 Q93.515 773.987 95.3206 777.552 Q97.1493 781.094 100.76 781.094 Q104.395 781.094 106.2 777.552 Q108.029 773.987 108.029 766.881 Q108.029 759.751 106.2 756.209 Q104.395 752.645 100.76 752.645 M100.76 748.941 Q106.571 748.941 109.626 753.547 Q112.705 758.131 112.705 766.881 Q112.705 775.608 109.626 780.214 Q106.571 784.797 100.76 784.797 Q94.9502 784.797 91.8715 780.214 Q88.816 775.608 88.816 766.881 Q88.816 758.131 91.8715 753.547 Q94.9502 748.941 100.76 748.941 Z\" fill=\"#000000\" fill-rule=\"nonzero\" fill-opacity=\"1\" /><path clip-path=\"url(#clip370)\" d=\"M120.922 778.246 L125.807 778.246 L125.807 784.126 L120.922 784.126 L120.922 778.246 Z\" fill=\"#000000\" fill-rule=\"nonzero\" fill-opacity=\"1\" /><path clip-path=\"url(#clip370)\" d=\"M145.992 752.645 Q142.381 752.645 140.552 756.209 Q138.746 759.751 138.746 766.881 Q138.746 773.987 140.552 777.552 Q142.381 781.094 145.992 781.094 Q149.626 781.094 151.431 777.552 Q153.26 773.987 153.26 766.881 Q153.26 759.751 151.431 756.209 Q149.626 752.645 145.992 752.645 M145.992 748.941 Q151.802 748.941 154.857 753.547 Q157.936 758.131 157.936 766.881 Q157.936 775.608 154.857 780.214 Q151.802 784.797 145.992 784.797 Q140.181 784.797 137.103 780.214 Q134.047 775.608 134.047 766.881 Q134.047 758.131 137.103 753.547 Q140.181 748.941 145.992 748.941 Z\" fill=\"#000000\" fill-rule=\"nonzero\" fill-opacity=\"1\" /><path clip-path=\"url(#clip370)\" d=\"M101.756 413.21 Q98.1447 413.21 96.316 416.775 Q94.5104 420.316 94.5104 427.446 Q94.5104 434.552 96.316 438.117 Q98.1447 441.659 101.756 441.659 Q105.39 441.659 107.196 438.117 Q109.024 434.552 109.024 427.446 Q109.024 420.316 107.196 416.775 Q105.39 413.21 101.756 413.21 M101.756 409.506 Q107.566 409.506 110.621 414.113 Q113.7 418.696 113.7 427.446 Q113.7 436.173 110.621 440.779 Q107.566 445.362 101.756 445.362 Q95.9456 445.362 92.8669 440.779 Q89.8114 436.173 89.8114 427.446 Q89.8114 418.696 92.8669 414.113 Q95.9456 409.506 101.756 409.506 Z\" fill=\"#000000\" fill-rule=\"nonzero\" fill-opacity=\"1\" /><path clip-path=\"url(#clip370)\" d=\"M121.918 438.812 L126.802 438.812 L126.802 444.691 L121.918 444.691 L121.918 438.812 Z\" fill=\"#000000\" fill-rule=\"nonzero\" fill-opacity=\"1\" /><path clip-path=\"url(#clip370)\" d=\"M137.033 410.131 L155.39 410.131 L155.39 414.066 L141.316 414.066 L141.316 422.538 Q142.334 422.191 143.353 422.029 Q144.371 421.844 145.39 421.844 Q151.177 421.844 154.556 425.015 Q157.936 428.187 157.936 433.603 Q157.936 439.182 154.464 442.284 Q150.992 445.362 144.672 445.362 Q142.496 445.362 140.228 444.992 Q137.982 444.622 135.575 443.881 L135.575 439.182 Q137.658 440.316 139.881 440.872 Q142.103 441.427 144.58 441.427 Q148.584 441.427 150.922 439.321 Q153.26 437.214 153.26 433.603 Q153.26 429.992 150.922 427.886 Q148.584 425.779 144.58 425.779 Q142.705 425.779 140.83 426.196 Q138.978 426.613 137.033 427.492 L137.033 410.131 Z\" fill=\"#000000\" fill-rule=\"nonzero\" fill-opacity=\"1\" /><path clip-path=\"url(#clip370)\" d=\"M91.5706 101.321 L99.2095 101.321 L99.2095 74.9555 L90.8993 76.6222 L90.8993 72.3629 L99.1632 70.6963 L103.839 70.6963 L103.839 101.321 L111.478 101.321 L111.478 105.256 L91.5706 105.256 L91.5706 101.321 Z\" fill=\"#000000\" fill-rule=\"nonzero\" fill-opacity=\"1\" /><path clip-path=\"url(#clip370)\" d=\"M120.922 99.3767 L125.807 99.3767 L125.807 105.256 L120.922 105.256 L120.922 99.3767 Z\" fill=\"#000000\" fill-rule=\"nonzero\" fill-opacity=\"1\" /><path clip-path=\"url(#clip370)\" d=\"M145.992 73.775 Q142.381 73.775 140.552 77.3398 Q138.746 80.8814 138.746 88.011 Q138.746 95.1174 140.552 98.6822 Q142.381 102.224 145.992 102.224 Q149.626 102.224 151.431 98.6822 Q153.26 95.1174 153.26 88.011 Q153.26 80.8814 151.431 77.3398 Q149.626 73.775 145.992 73.775 M145.992 70.0713 Q151.802 70.0713 154.857 74.6777 Q157.936 79.261 157.936 88.011 Q157.936 96.7378 154.857 101.344 Q151.802 105.928 145.992 105.928 Q140.181 105.928 137.103 101.344 Q134.047 96.7378 134.047 88.011 Q134.047 79.261 137.103 74.6777 Q140.181 70.0713 145.992 70.0713 Z\" fill=\"#000000\" fill-rule=\"nonzero\" fill-opacity=\"1\" /><polyline clip-path=\"url(#clip372)\" style=\"stroke:#ff0000; stroke-linecap:round; stroke-linejoin:round; stroke-width:24; stroke-opacity:1; fill:none\" points=\"594.476,766.846 594.51,773.635 594.612,780.422 594.782,787.209 595.019,793.994 595.325,800.775 595.698,807.554 596.139,814.328 596.647,821.098 597.224,827.862 597.868,834.62 598.579,841.371 599.358,848.115 600.205,854.851 601.118,861.578 602.099,868.295 603.147,875.002 604.262,881.699 605.444,888.384 606.693,895.057 608.008,901.717 609.39,908.363 610.839,914.995 612.353,921.613 613.934,928.215 615.581,934.801 617.293,941.37 619.071,947.922 620.915,954.455 622.823,960.97 624.797,967.466 626.836,973.941 628.939,980.396 631.106,986.829 633.338,993.24 635.634,999.629 637.994,1005.99 640.417,1012.34 642.904,1018.65 645.453,1024.94 648.066,1031.21 650.74,1037.45 653.478,1043.66 656.277,1049.85 659.137,1056 662.06,1062.13 665.043,1068.23 668.087,1074.3 671.192,1080.33 674.357,1086.34 677.582,1092.31 680.866,1098.25 684.21,1104.16 687.612,1110.04 691.074,1115.88 694.593,1121.68 698.17,1127.45 701.805,1133.19 705.497,1138.88 709.245,1144.54 713.051,1150.16 716.912,1155.75 720.829,1161.29 724.801,1166.8 728.827,1172.26 732.909,1177.69 737.044,1183.07 741.233,1188.41 745.475,1193.71 749.77,1198.97 754.118,1204.19 758.517,1209.36 762.968,1214.48 767.47,1219.56 772.022,1224.6 776.625,1229.59 781.277,1234.53 785.978,1239.43 790.728,1244.28 795.527,1249.08 800.373,1253.84 805.266,1258.54 810.207,1263.2 815.193,1267.81 820.226,1272.36 825.303,1276.87 830.426,1281.32 835.593,1285.73 840.803,1290.08 846.057,1294.38 851.354,1298.62 856.693,1302.82 862.073,1306.96 867.495,1311.04 872.957,1315.07 878.459,1319.05 884.001,1322.97 889.581,1326.84 895.2,1330.65 900.857,1334.4 906.551,1338.1 912.282,1341.73 918.049,1345.32 923.851,1348.84 929.688,1352.31 935.56,1355.71 941.466,1359.06 947.404,1362.35 953.375,1365.58 959.379,1368.75 965.413,1371.86 971.479,1374.91 977.574,1377.9 983.7,1380.82 989.854,1383.69 996.036,1386.49 1002.25,1389.24 1008.48,1391.92 1014.75,1394.53 1021.04,1397.09 1027.35,1399.58 1033.69,1402.01 1040.06,1404.37 1046.44,1406.67 1052.85,1408.91 1059.28,1411.08 1065.74,1413.19 1072.21,1415.24 1078.7,1417.21 1085.22,1419.13 1091.75,1420.98 1098.3,1422.76 1104.87,1424.48 1111.45,1426.13 1118.05,1427.72 1124.67,1429.24 1131.3,1430.69 1137.95,1432.08 1144.6,1433.4 1151.28,1434.65 1157.96,1435.84 1164.66,1436.96 1171.36,1438.01 1178.08,1439 1184.81,1439.92 1191.54,1440.77 1198.28,1441.55 1205.03,1442.27 1211.79,1442.92 1218.56,1443.5 1225.32,1444.02 1232.1,1444.46 1238.88,1444.84 1245.66,1445.15 1252.44,1445.39 1259.23,1445.57 1266.02,1445.68 1272.81,1445.72 1279.59,1445.69 1286.38,1445.59 1293.17,1445.43 1299.95,1445.19 1306.74,1444.89 1313.51,1444.53 1320.29,1444.09 1327.06,1443.59 1333.82,1443.02 1340.58,1442.38 1347.33,1441.67 1354.08,1440.9 1360.81,1440.06 1367.54,1439.15 1374.26,1438.17 1380.97,1437.13 1387.67,1436.02 1394.35,1434.84 1401.03,1433.6 1407.69,1432.29 1414.33,1430.91 1420.97,1429.47 1427.59,1427.96 1434.19,1426.39 1440.78,1424.74 1447.35,1423.04 1453.9,1421.26 1460.44,1419.43 1466.95,1417.52 1473.45,1415.55 1479.93,1413.52 1486.38,1411.42 1492.82,1409.26 1499.23,1407.03 1505.62,1404.74 1511.99,1402.39 1518.33,1399.97 1524.65,1397.49 1530.94,1394.94 1537.21,1392.34 1543.45,1389.67 1549.67,1386.93 1555.86,1384.14 1562.01,1381.28 1568.14,1378.37 1574.24,1375.39 1580.31,1372.35 1586.35,1369.25 1592.36,1366.09 1598.34,1362.87 1604.28,1359.59 1610.19,1356.25 1616.07,1352.85 1621.91,1349.4 1627.72,1345.88 1633.49,1342.31 1639.23,1338.68 1644.93,1334.99 1650.59,1331.25 1656.22,1327.45 1661.81,1323.59 1667.35,1319.68 1672.86,1315.71 1678.33,1311.69 1683.76,1307.61 1689.15,1303.48 1694.49,1299.29 1699.79,1295.06 1705.05,1290.77 1710.27,1286.42 1715.45,1282.03 1720.58,1277.58 1725.66,1273.08 1730.7,1268.53 1735.69,1263.94 1740.64,1259.29 1745.54,1254.59 1750.4,1249.84 1755.2,1245.05 1759.96,1240.21 1764.67,1235.32 1769.33,1230.38 1773.94,1225.4 1778.5,1220.37 1783.01,1215.29 1787.47,1210.18 1791.88,1205.01 1796.23,1199.81 1800.54,1194.55 1804.79,1189.26 1808.98,1183.93 1813.13,1178.55 1817.22,1173.13 1821.25,1167.67 1825.23,1162.17 1829.16,1156.63 1833.03,1151.06 1836.84,1145.44 1840.6,1139.79 1844.3,1134.1 1847.95,1128.37 1851.53,1122.6 1855.06,1116.8 1858.53,1110.97 1861.94,1105.1 1865.3,1099.2 1868.59,1093.26 1871.83,1087.29 1875,1081.29 1878.11,1075.26 1881.17,1069.2 1884.16,1063.1 1887.09,1056.98 1889.96,1050.83 1892.77,1044.65 1895.52,1038.44 1898.2,1032.21 1900.83,1025.94 1903.39,1019.66 1905.88,1013.34 1908.32,1007.01 1910.69,1000.64 1912.99,994.259 1915.23,987.852 1917.41,981.422 1919.53,974.97 1921.57,968.498 1923.56,962.006 1925.48,955.494 1927.33,948.964 1929.12,942.415 1930.84,935.848 1932.5,929.265 1934.09,922.666 1935.62,916.05 1937.08,909.42 1938.47,902.776 1939.79,896.118 1941.05,889.447 1942.25,882.764 1943.37,876.07 1944.43,869.364 1945.42,862.648 1946.35,855.923 1947.2,849.188 1947.99,842.446 1948.72,835.696 1949.37,828.939 1949.96,822.175 1950.48,815.407 1950.93,808.633 1951.31,801.855 1951.63,795.074 1951.88,788.29 1952.06,781.503 1952.17,774.716 1952.21,767.927 1952.19,761.139 1952.1,754.351 1951.94,747.564 1951.72,740.779 1951.42,733.997 1951.06,727.218 1950.63,720.443 1950.13,713.672 1949.56,706.907 1948.93,700.148 1948.23,693.396 1947.46,686.651 1946.63,679.913 1945.72,673.185 1944.75,666.466 1943.72,659.757 1942.61,653.059 1941.44,646.372 1940.2,639.697 1938.9,633.035 1937.53,626.387 1936.09,619.752 1934.58,613.132 1933.01,606.527 1931.38,599.939 1929.68,593.367 1927.91,586.812 1926.08,580.276 1924.18,573.758 1922.21,567.259 1920.19,560.781 1918.09,554.323 1915.93,547.886 1913.71,541.471 1911.43,535.079 1909.08,528.71 1906.66,522.365 1904.19,516.044 1901.65,509.748 1899.05,503.478 1896.38,497.234 1893.65,491.017 1890.87,484.828 1888.01,478.667 1885.1,472.535 1882.13,466.432 1879.09,460.36 1876,454.318 1872.84,448.307 1869.63,442.328 1866.35,436.381 1863.02,430.468 1859.63,424.588 1856.17,418.742 1852.66,412.932 1849.1,407.156 1845.47,401.417 1841.79,395.714 1838.05,390.048 1834.25,384.42 1830.4,378.83 1826.49,373.279 1822.53,367.768 1818.51,362.296 1814.44,356.865 1810.31,351.474 1806.13,346.125 1801.9,340.819 1797.61,335.555 1793.27,330.334 1788.88,325.156 1784.44,320.023 1779.94,314.935 1775.4,309.891 1770.8,304.894 1766.16,299.942 1761.47,295.038 1756.72,290.18 1751.93,285.37 1747.09,280.609 1742.21,275.895 1737.28,271.231 1732.3,266.617 1727.27,262.053 1722.2,257.539 1717.08,253.076 1711.93,248.664 1706.72,244.304 1701.47,239.997 1696.18,235.742 1690.85,231.54 1685.48,227.392 1680.06,223.298 1674.61,219.258 1669.11,215.272 1663.58,211.342 1658,207.468 1652.39,203.649 1646.74,199.887 1641.05,196.182 1635.33,192.533 1629.56,188.942 1623.77,185.409 1617.94,181.934 1612.07,178.517 1606.17,175.16 1600.24,171.861 1594.27,168.622 1588.27,165.443 1582.24,162.324 1576.18,159.265 1570.09,156.267 1563.97,153.33 1557.82,150.455 1551.64,147.641 1545.44,144.889 1539.2,142.199 1532.94,139.572 1526.66,137.007 1520.35,134.505 1514.01,132.067 1507.65,129.692 1501.27,127.381 1494.86,125.134 1488.43,122.951 1481.98,120.832 1475.51,118.778 1469.02,116.789 1462.51,114.865 1455.98,113.006 1449.44,111.212 1442.87,109.484 1436.29,107.821 1429.69,106.225 1423.08,104.695 1416.45,103.23 1409.81,101.833 1403.15,100.501 1396.48,99.2366 1389.8,98.0386 1383.1,96.9076 1376.4,95.8435 1369.68,94.8466 1362.96,93.9168 1356.22,93.0543 1349.48,92.2593 1342.73,91.5316 1335.98,90.8715 1329.21,90.279 1322.45,89.7542 1315.67,89.2971 1308.89,88.9077 1302.11,88.5861 1295.33,88.3323 1288.54,88.1464 1281.76,88.0284 1274.97,87.9782 1268.18,87.9959 1261.39,88.0815 1254.6,88.235 1247.82,88.4564 1241.04,88.7456 1234.26,89.1026 1227.48,89.5273 1220.71,90.0198 1213.95,90.58 1207.19,91.2078 1200.43,91.9032 1193.69,92.666 1186.95,93.4963 1180.22,94.3939 1173.5,95.3588 1166.79,96.3908 1160.09,97.4899 1153.4,98.6559 1146.73,99.8887 1140.07,101.188 1133.42,102.554 1126.78,103.987 1120.16,105.486 1113.55,107.05 1106.96,108.681 1100.39,110.378 1093.83,112.14 1087.3,113.968 1080.78,115.861 1074.28,117.82 1067.8,119.843 1061.34,121.93 1054.9,124.083 1048.48,126.299 1042.09,128.58 1035.72,130.924 1029.37,133.333 1023.05,135.804 1016.75,138.338 1010.48,140.936 1004.23,143.596 998.011,146.318 991.82,149.102 985.657,151.948 979.522,154.856 973.417,157.825 967.342,160.855 961.297,163.945 955.284,167.095 949.303,170.306 943.354,173.576 937.437,176.906 931.555,180.294 925.707,183.741 919.893,187.247 914.115,190.81 908.373,194.431 902.667,198.11 896.998,201.845 891.367,205.636 885.774,209.484 880.22,213.388 874.705,217.347 869.23,221.36 863.795,225.429 858.402,229.551 853.05,233.728 847.74,237.957 842.472,242.24 837.248,246.574 832.067,250.961 826.93,255.4 821.838,259.89 816.791,264.43 811.79,269.021 806.835,273.661 801.926,278.351 797.065,283.089 792.252,287.876 787.486,292.711 782.769,297.593 778.101,302.522 773.483,307.498 768.914,312.519 764.396,317.586 759.929,322.698 755.513,327.854 751.15,333.055 746.838,338.298 742.579,343.585 738.373,348.913 734.22,354.284 730.122,359.696 726.077,365.148 722.088,370.641 718.153,376.173 714.274,381.745 710.451,387.354 706.685,393.002 702.975,398.687 699.322,404.409 695.726,410.168 692.188,415.962 688.709,421.791 685.287,427.654 681.925,433.552 678.621,439.482 675.378,445.446 672.194,451.442 669.07,457.469 666.006,463.527 663.003,469.615 660.062,475.734 657.181,481.881 654.362,488.057 651.606,494.26 648.911,500.491 646.279,506.749 643.709,513.032 641.202,519.341 638.759,525.675 636.379,532.033 634.063,538.414 631.81,544.818 629.622,551.245 627.498,557.693 625.439,564.161 623.445,570.651 621.515,577.159 619.651,583.687 617.852,590.233 616.119,596.797 614.451,603.377 612.85,609.974 611.314,616.587 609.845,623.215 608.441,629.857 607.105,636.513 605.835,643.181 604.632,649.863 603.495,656.555 602.426,663.259 601.423,669.974 600.488,676.698 599.621,683.431 598.82,690.172 598.087,696.921 597.422,703.677 596.824,710.439 596.293,717.207 595.831,723.98 595.436,730.757 595.109,737.538 594.85,744.322 594.659,751.108 594.535,757.895 594.48,764.684 \"/>\n",
       "<polyline clip-path=\"url(#clip372)\" style=\"stroke:#000000; stroke-linecap:round; stroke-linejoin:round; stroke-width:16; stroke-opacity:1; fill:none\" points=\"594.476,766.846 627.702,976.628 724.129,1165.88 874.316,1316.06 1063.56,1412.49 1273.35,1445.72 1483.13,1412.49 1672.38,1316.06 1822.56,1165.88 1918.99,976.628 1952.22,766.846 1918.99,557.064 1822.56,367.816 1672.38,217.629 1483.13,121.203 1273.35,87.9763 1063.56,121.203 874.316,217.629 724.129,367.816 627.702,557.064 594.476,766.846 \"/>\n",
       "<polyline clip-path=\"url(#clip372)\" style=\"stroke:#3da44d; stroke-linecap:round; stroke-linejoin:round; stroke-width:4; stroke-opacity:1; fill:none\" points=\"1273.35,766.846 594.476,766.846 \"/>\n",
       "<polyline clip-path=\"url(#clip372)\" style=\"stroke:#c271d2; stroke-linecap:round; stroke-linejoin:round; stroke-width:4; stroke-opacity:1; fill:none\" points=\"1273.35,766.846 627.702,976.628 \"/>\n",
       "<polyline clip-path=\"url(#clip372)\" style=\"stroke:#ac8d18; stroke-linecap:round; stroke-linejoin:round; stroke-width:4; stroke-opacity:1; fill:none\" points=\"1273.35,766.846 724.129,1165.88 \"/>\n",
       "<polyline clip-path=\"url(#clip372)\" style=\"stroke:#00a9ad; stroke-linecap:round; stroke-linejoin:round; stroke-width:4; stroke-opacity:1; fill:none\" points=\"1273.35,766.846 874.316,1316.06 \"/>\n",
       "<polyline clip-path=\"url(#clip372)\" style=\"stroke:#ed5d92; stroke-linecap:round; stroke-linejoin:round; stroke-width:4; stroke-opacity:1; fill:none\" points=\"1273.35,766.846 1063.56,1412.49 \"/>\n",
       "<polyline clip-path=\"url(#clip372)\" style=\"stroke:#c68125; stroke-linecap:round; stroke-linejoin:round; stroke-width:4; stroke-opacity:1; fill:none\" points=\"1273.35,766.846 1273.35,1445.72 \"/>\n",
       "<polyline clip-path=\"url(#clip372)\" style=\"stroke:#00a98d; stroke-linecap:round; stroke-linejoin:round; stroke-width:4; stroke-opacity:1; fill:none\" points=\"1273.35,766.846 1483.13,1412.49 \"/>\n",
       "<polyline clip-path=\"url(#clip372)\" style=\"stroke:#8e971d; stroke-linecap:round; stroke-linejoin:round; stroke-width:4; stroke-opacity:1; fill:none\" points=\"1273.35,766.846 1672.38,1316.06 \"/>\n",
       "<polyline clip-path=\"url(#clip372)\" style=\"stroke:#00a8cb; stroke-linecap:round; stroke-linejoin:round; stroke-width:4; stroke-opacity:1; fill:none\" points=\"1273.35,766.846 1822.56,1165.88 \"/>\n",
       "<polyline clip-path=\"url(#clip372)\" style=\"stroke:#9b7fe8; stroke-linecap:round; stroke-linejoin:round; stroke-width:4; stroke-opacity:1; fill:none\" points=\"1273.35,766.846 1918.99,976.628 \"/>\n",
       "<polyline clip-path=\"url(#clip372)\" style=\"stroke:#608cf6; stroke-linecap:round; stroke-linejoin:round; stroke-width:4; stroke-opacity:1; fill:none\" points=\"1273.35,766.846 1952.22,766.846 \"/>\n",
       "<polyline clip-path=\"url(#clip372)\" style=\"stroke:#f05f73; stroke-linecap:round; stroke-linejoin:round; stroke-width:4; stroke-opacity:1; fill:none\" points=\"1273.35,766.846 1918.99,557.064 \"/>\n",
       "<polyline clip-path=\"url(#clip372)\" style=\"stroke:#dd64b5; stroke-linecap:round; stroke-linejoin:round; stroke-width:4; stroke-opacity:1; fill:none\" points=\"1273.35,766.846 1822.56,367.816 \"/>\n",
       "<polyline clip-path=\"url(#clip372)\" style=\"stroke:#6b9e32; stroke-linecap:round; stroke-linejoin:round; stroke-width:4; stroke-opacity:1; fill:none\" points=\"1273.35,766.846 1672.38,217.629 \"/>\n",
       "<polyline clip-path=\"url(#clip372)\" style=\"stroke:#009af9; stroke-linecap:round; stroke-linejoin:round; stroke-width:4; stroke-opacity:1; fill:none\" points=\"1273.35,766.846 1483.13,121.203 \"/>\n",
       "<polyline clip-path=\"url(#clip372)\" style=\"stroke:#e26f46; stroke-linecap:round; stroke-linejoin:round; stroke-width:4; stroke-opacity:1; fill:none\" points=\"1273.35,766.846 1273.35,87.9763 \"/>\n",
       "<polyline clip-path=\"url(#clip372)\" style=\"stroke:#3da44d; stroke-linecap:round; stroke-linejoin:round; stroke-width:4; stroke-opacity:1; fill:none\" points=\"1273.35,766.846 1063.56,121.203 \"/>\n",
       "<polyline clip-path=\"url(#clip372)\" style=\"stroke:#c271d2; stroke-linecap:round; stroke-linejoin:round; stroke-width:4; stroke-opacity:1; fill:none\" points=\"1273.35,766.846 874.316,217.629 \"/>\n",
       "<polyline clip-path=\"url(#clip372)\" style=\"stroke:#ac8d18; stroke-linecap:round; stroke-linejoin:round; stroke-width:4; stroke-opacity:1; fill:none\" points=\"1273.35,766.846 724.129,367.816 \"/>\n",
       "<polyline clip-path=\"url(#clip372)\" style=\"stroke:#00a9ad; stroke-linecap:round; stroke-linejoin:round; stroke-width:4; stroke-opacity:1; fill:none\" points=\"1273.35,766.846 627.702,557.064 \"/>\n",
       "<polyline clip-path=\"url(#clip372)\" style=\"stroke:#ed5d92; stroke-linecap:round; stroke-linejoin:round; stroke-width:4; stroke-opacity:1; fill:none\" points=\"1273.35,766.846 594.476,766.846 \"/>\n",
       "</svg>\n"
      ],
      "text/html": [
       "<?xml version=\"1.0\" encoding=\"utf-8\"?>\n",
       "<svg xmlns=\"http://www.w3.org/2000/svg\" xmlns:xlink=\"http://www.w3.org/1999/xlink\" width=\"600\" height=\"400\" viewBox=\"0 0 2400 1600\">\n",
       "<defs>\n",
       "  <clipPath id=\"clip420\">\n",
       "    <rect x=\"0\" y=\"0\" width=\"2400\" height=\"1600\"/>\n",
       "  </clipPath>\n",
       "</defs>\n",
       "<path clip-path=\"url(#clip420)\" d=\"M0 1600 L2400 1600 L2400 0 L0 0  Z\" fill=\"#ffffff\" fill-rule=\"evenodd\" fill-opacity=\"1\"/>\n",
       "<defs>\n",
       "  <clipPath id=\"clip421\">\n",
       "    <rect x=\"480\" y=\"0\" width=\"1681\" height=\"1600\"/>\n",
       "  </clipPath>\n",
       "</defs>\n",
       "<path clip-path=\"url(#clip420)\" d=\"M193.936 1486.45 L2352.76 1486.45 L2352.76 47.2441 L193.936 47.2441  Z\" fill=\"#ffffff\" fill-rule=\"evenodd\" fill-opacity=\"1\"/>\n",
       "<defs>\n",
       "  <clipPath id=\"clip422\">\n",
       "    <rect x=\"193\" y=\"47\" width=\"2160\" height=\"1440\"/>\n",
       "  </clipPath>\n",
       "</defs>\n",
       "<polyline clip-path=\"url(#clip422)\" style=\"stroke:#000000; stroke-linecap:round; stroke-linejoin:round; stroke-width:2; stroke-opacity:0.1; fill:none\" points=\"255.041,1486.45 255.041,47.2441 \"/>\n",
       "<polyline clip-path=\"url(#clip422)\" style=\"stroke:#000000; stroke-linecap:round; stroke-linejoin:round; stroke-width:2; stroke-opacity:0.1; fill:none\" points=\"594.476,1486.45 594.476,47.2441 \"/>\n",
       "<polyline clip-path=\"url(#clip422)\" style=\"stroke:#000000; stroke-linecap:round; stroke-linejoin:round; stroke-width:2; stroke-opacity:0.1; fill:none\" points=\"933.911,1486.45 933.911,47.2441 \"/>\n",
       "<polyline clip-path=\"url(#clip422)\" style=\"stroke:#000000; stroke-linecap:round; stroke-linejoin:round; stroke-width:2; stroke-opacity:0.1; fill:none\" points=\"1273.35,1486.45 1273.35,47.2441 \"/>\n",
       "<polyline clip-path=\"url(#clip422)\" style=\"stroke:#000000; stroke-linecap:round; stroke-linejoin:round; stroke-width:2; stroke-opacity:0.1; fill:none\" points=\"1612.78,1486.45 1612.78,47.2441 \"/>\n",
       "<polyline clip-path=\"url(#clip422)\" style=\"stroke:#000000; stroke-linecap:round; stroke-linejoin:round; stroke-width:2; stroke-opacity:0.1; fill:none\" points=\"1952.22,1486.45 1952.22,47.2441 \"/>\n",
       "<polyline clip-path=\"url(#clip422)\" style=\"stroke:#000000; stroke-linecap:round; stroke-linejoin:round; stroke-width:2; stroke-opacity:0.1; fill:none\" points=\"2291.65,1486.45 2291.65,47.2441 \"/>\n",
       "<polyline clip-path=\"url(#clip422)\" style=\"stroke:#000000; stroke-linecap:round; stroke-linejoin:round; stroke-width:2; stroke-opacity:0.1; fill:none\" points=\"193.936,1445.72 2352.76,1445.72 \"/>\n",
       "<polyline clip-path=\"url(#clip422)\" style=\"stroke:#000000; stroke-linecap:round; stroke-linejoin:round; stroke-width:2; stroke-opacity:0.1; fill:none\" points=\"193.936,1106.28 2352.76,1106.28 \"/>\n",
       "<polyline clip-path=\"url(#clip422)\" style=\"stroke:#000000; stroke-linecap:round; stroke-linejoin:round; stroke-width:2; stroke-opacity:0.1; fill:none\" points=\"193.936,766.846 2352.76,766.846 \"/>\n",
       "<polyline clip-path=\"url(#clip422)\" style=\"stroke:#000000; stroke-linecap:round; stroke-linejoin:round; stroke-width:2; stroke-opacity:0.1; fill:none\" points=\"193.936,427.411 2352.76,427.411 \"/>\n",
       "<polyline clip-path=\"url(#clip422)\" style=\"stroke:#000000; stroke-linecap:round; stroke-linejoin:round; stroke-width:2; stroke-opacity:0.1; fill:none\" points=\"193.936,87.9763 2352.76,87.9763 \"/>\n",
       "<polyline clip-path=\"url(#clip420)\" style=\"stroke:#000000; stroke-linecap:round; stroke-linejoin:round; stroke-width:4; stroke-opacity:1; fill:none\" points=\"193.936,1486.45 2352.76,1486.45 \"/>\n",
       "<polyline clip-path=\"url(#clip420)\" style=\"stroke:#000000; stroke-linecap:round; stroke-linejoin:round; stroke-width:4; stroke-opacity:1; fill:none\" points=\"255.041,1486.45 255.041,1467.55 \"/>\n",
       "<polyline clip-path=\"url(#clip420)\" style=\"stroke:#000000; stroke-linecap:round; stroke-linejoin:round; stroke-width:4; stroke-opacity:1; fill:none\" points=\"594.476,1486.45 594.476,1467.55 \"/>\n",
       "<polyline clip-path=\"url(#clip420)\" style=\"stroke:#000000; stroke-linecap:round; stroke-linejoin:round; stroke-width:4; stroke-opacity:1; fill:none\" points=\"933.911,1486.45 933.911,1467.55 \"/>\n",
       "<polyline clip-path=\"url(#clip420)\" style=\"stroke:#000000; stroke-linecap:round; stroke-linejoin:round; stroke-width:4; stroke-opacity:1; fill:none\" points=\"1273.35,1486.45 1273.35,1467.55 \"/>\n",
       "<polyline clip-path=\"url(#clip420)\" style=\"stroke:#000000; stroke-linecap:round; stroke-linejoin:round; stroke-width:4; stroke-opacity:1; fill:none\" points=\"1612.78,1486.45 1612.78,1467.55 \"/>\n",
       "<polyline clip-path=\"url(#clip420)\" style=\"stroke:#000000; stroke-linecap:round; stroke-linejoin:round; stroke-width:4; stroke-opacity:1; fill:none\" points=\"1952.22,1486.45 1952.22,1467.55 \"/>\n",
       "<polyline clip-path=\"url(#clip420)\" style=\"stroke:#000000; stroke-linecap:round; stroke-linejoin:round; stroke-width:4; stroke-opacity:1; fill:none\" points=\"2291.65,1486.45 2291.65,1467.55 \"/>\n",
       "<path clip-path=\"url(#clip420)\" d=\"M202.067 1532.02 L231.743 1532.02 L231.743 1535.95 L202.067 1535.95 L202.067 1532.02 Z\" fill=\"#000000\" fill-rule=\"nonzero\" fill-opacity=\"1\" /><path clip-path=\"url(#clip420)\" d=\"M242.646 1544.91 L250.284 1544.91 L250.284 1518.55 L241.974 1520.21 L241.974 1515.95 L250.238 1514.29 L254.914 1514.29 L254.914 1544.91 L262.553 1544.91 L262.553 1548.85 L242.646 1548.85 L242.646 1544.91 Z\" fill=\"#000000\" fill-rule=\"nonzero\" fill-opacity=\"1\" /><path clip-path=\"url(#clip420)\" d=\"M271.997 1542.97 L276.882 1542.97 L276.882 1548.85 L271.997 1548.85 L271.997 1542.97 Z\" fill=\"#000000\" fill-rule=\"nonzero\" fill-opacity=\"1\" /><path clip-path=\"url(#clip420)\" d=\"M287.113 1514.29 L305.469 1514.29 L305.469 1518.22 L291.395 1518.22 L291.395 1526.7 Q292.414 1526.35 293.432 1526.19 Q294.451 1526 295.469 1526 Q301.256 1526 304.636 1529.17 Q308.016 1532.34 308.016 1537.76 Q308.016 1543.34 304.543 1546.44 Q301.071 1549.52 294.752 1549.52 Q292.576 1549.52 290.307 1549.15 Q288.062 1548.78 285.655 1548.04 L285.655 1543.34 Q287.738 1544.47 289.96 1545.03 Q292.182 1545.58 294.659 1545.58 Q298.664 1545.58 301.002 1543.48 Q303.34 1541.37 303.34 1537.76 Q303.34 1534.15 301.002 1532.04 Q298.664 1529.94 294.659 1529.94 Q292.784 1529.94 290.909 1530.35 Q289.057 1530.77 287.113 1531.65 L287.113 1514.29 Z\" fill=\"#000000\" fill-rule=\"nonzero\" fill-opacity=\"1\" /><path clip-path=\"url(#clip420)\" d=\"M541.004 1532.02 L570.68 1532.02 L570.68 1535.95 L541.004 1535.95 L541.004 1532.02 Z\" fill=\"#000000\" fill-rule=\"nonzero\" fill-opacity=\"1\" /><path clip-path=\"url(#clip420)\" d=\"M581.583 1544.91 L589.222 1544.91 L589.222 1518.55 L580.912 1520.21 L580.912 1515.95 L589.175 1514.29 L593.851 1514.29 L593.851 1544.91 L601.49 1544.91 L601.49 1548.85 L581.583 1548.85 L581.583 1544.91 Z\" fill=\"#000000\" fill-rule=\"nonzero\" fill-opacity=\"1\" /><path clip-path=\"url(#clip420)\" d=\"M610.934 1542.97 L615.819 1542.97 L615.819 1548.85 L610.934 1548.85 L610.934 1542.97 Z\" fill=\"#000000\" fill-rule=\"nonzero\" fill-opacity=\"1\" /><path clip-path=\"url(#clip420)\" d=\"M636.004 1517.37 Q632.393 1517.37 630.564 1520.93 Q628.758 1524.47 628.758 1531.6 Q628.758 1538.71 630.564 1542.27 Q632.393 1545.82 636.004 1545.82 Q639.638 1545.82 641.444 1542.27 Q643.272 1538.71 643.272 1531.6 Q643.272 1524.47 641.444 1520.93 Q639.638 1517.37 636.004 1517.37 M636.004 1513.66 Q641.814 1513.66 644.869 1518.27 Q647.948 1522.85 647.948 1531.6 Q647.948 1540.33 644.869 1544.94 Q641.814 1549.52 636.004 1549.52 Q630.194 1549.52 627.115 1544.94 Q624.059 1540.33 624.059 1531.6 Q624.059 1522.85 627.115 1518.27 Q630.194 1513.66 636.004 1513.66 Z\" fill=\"#000000\" fill-rule=\"nonzero\" fill-opacity=\"1\" /><path clip-path=\"url(#clip420)\" d=\"M880.937 1532.02 L910.613 1532.02 L910.613 1535.95 L880.937 1535.95 L880.937 1532.02 Z\" fill=\"#000000\" fill-rule=\"nonzero\" fill-opacity=\"1\" /><path clip-path=\"url(#clip420)\" d=\"M930.705 1517.37 Q927.094 1517.37 925.265 1520.93 Q923.46 1524.47 923.46 1531.6 Q923.46 1538.71 925.265 1542.27 Q927.094 1545.82 930.705 1545.82 Q934.339 1545.82 936.145 1542.27 Q937.974 1538.71 937.974 1531.6 Q937.974 1524.47 936.145 1520.93 Q934.339 1517.37 930.705 1517.37 M930.705 1513.66 Q936.515 1513.66 939.571 1518.27 Q942.649 1522.85 942.649 1531.6 Q942.649 1540.33 939.571 1544.94 Q936.515 1549.52 930.705 1549.52 Q924.895 1549.52 921.816 1544.94 Q918.761 1540.33 918.761 1531.6 Q918.761 1522.85 921.816 1518.27 Q924.895 1513.66 930.705 1513.66 Z\" fill=\"#000000\" fill-rule=\"nonzero\" fill-opacity=\"1\" /><path clip-path=\"url(#clip420)\" d=\"M950.867 1542.97 L955.751 1542.97 L955.751 1548.85 L950.867 1548.85 L950.867 1542.97 Z\" fill=\"#000000\" fill-rule=\"nonzero\" fill-opacity=\"1\" /><path clip-path=\"url(#clip420)\" d=\"M965.983 1514.29 L984.339 1514.29 L984.339 1518.22 L970.265 1518.22 L970.265 1526.7 Q971.284 1526.35 972.302 1526.19 Q973.321 1526 974.339 1526 Q980.126 1526 983.506 1529.17 Q986.885 1532.34 986.885 1537.76 Q986.885 1543.34 983.413 1546.44 Q979.941 1549.52 973.622 1549.52 Q971.446 1549.52 969.177 1549.15 Q966.932 1548.78 964.524 1548.04 L964.524 1543.34 Q966.608 1544.47 968.83 1545.03 Q971.052 1545.58 973.529 1545.58 Q977.534 1545.58 979.871 1543.48 Q982.209 1541.37 982.209 1537.76 Q982.209 1534.15 979.871 1532.04 Q977.534 1529.94 973.529 1529.94 Q971.654 1529.94 969.779 1530.35 Q967.927 1530.77 965.983 1531.65 L965.983 1514.29 Z\" fill=\"#000000\" fill-rule=\"nonzero\" fill-opacity=\"1\" /><path clip-path=\"url(#clip420)\" d=\"M1250.73 1517.37 Q1247.12 1517.37 1245.29 1520.93 Q1243.49 1524.47 1243.49 1531.6 Q1243.49 1538.71 1245.29 1542.27 Q1247.12 1545.82 1250.73 1545.82 Q1254.36 1545.82 1256.17 1542.27 Q1258 1538.71 1258 1531.6 Q1258 1524.47 1256.17 1520.93 Q1254.36 1517.37 1250.73 1517.37 M1250.73 1513.66 Q1256.54 1513.66 1259.6 1518.27 Q1262.67 1522.85 1262.67 1531.6 Q1262.67 1540.33 1259.6 1544.94 Q1256.54 1549.52 1250.73 1549.52 Q1244.92 1549.52 1241.84 1544.94 Q1238.79 1540.33 1238.79 1531.6 Q1238.79 1522.85 1241.84 1518.27 Q1244.92 1513.66 1250.73 1513.66 Z\" fill=\"#000000\" fill-rule=\"nonzero\" fill-opacity=\"1\" /><path clip-path=\"url(#clip420)\" d=\"M1270.89 1542.97 L1275.78 1542.97 L1275.78 1548.85 L1270.89 1548.85 L1270.89 1542.97 Z\" fill=\"#000000\" fill-rule=\"nonzero\" fill-opacity=\"1\" /><path clip-path=\"url(#clip420)\" d=\"M1295.96 1517.37 Q1292.35 1517.37 1290.52 1520.93 Q1288.72 1524.47 1288.72 1531.6 Q1288.72 1538.71 1290.52 1542.27 Q1292.35 1545.82 1295.96 1545.82 Q1299.6 1545.82 1301.4 1542.27 Q1303.23 1538.71 1303.23 1531.6 Q1303.23 1524.47 1301.4 1520.93 Q1299.6 1517.37 1295.96 1517.37 M1295.96 1513.66 Q1301.77 1513.66 1304.83 1518.27 Q1307.91 1522.85 1307.91 1531.6 Q1307.91 1540.33 1304.83 1544.94 Q1301.77 1549.52 1295.96 1549.52 Q1290.15 1549.52 1287.07 1544.94 Q1284.02 1540.33 1284.02 1531.6 Q1284.02 1522.85 1287.07 1518.27 Q1290.15 1513.66 1295.96 1513.66 Z\" fill=\"#000000\" fill-rule=\"nonzero\" fill-opacity=\"1\" /><path clip-path=\"url(#clip420)\" d=\"M1590.66 1517.37 Q1587.05 1517.37 1585.22 1520.93 Q1583.42 1524.47 1583.42 1531.6 Q1583.42 1538.71 1585.22 1542.27 Q1587.05 1545.82 1590.66 1545.82 Q1594.3 1545.82 1596.1 1542.27 Q1597.93 1538.71 1597.93 1531.6 Q1597.93 1524.47 1596.1 1520.93 Q1594.3 1517.37 1590.66 1517.37 M1590.66 1513.66 Q1596.47 1513.66 1599.53 1518.27 Q1602.61 1522.85 1602.61 1531.6 Q1602.61 1540.33 1599.53 1544.94 Q1596.47 1549.52 1590.66 1549.52 Q1584.85 1549.52 1581.77 1544.94 Q1578.72 1540.33 1578.72 1531.6 Q1578.72 1522.85 1581.77 1518.27 Q1584.85 1513.66 1590.66 1513.66 Z\" fill=\"#000000\" fill-rule=\"nonzero\" fill-opacity=\"1\" /><path clip-path=\"url(#clip420)\" d=\"M1610.82 1542.97 L1615.71 1542.97 L1615.71 1548.85 L1610.82 1548.85 L1610.82 1542.97 Z\" fill=\"#000000\" fill-rule=\"nonzero\" fill-opacity=\"1\" /><path clip-path=\"url(#clip420)\" d=\"M1625.94 1514.29 L1644.3 1514.29 L1644.3 1518.22 L1630.22 1518.22 L1630.22 1526.7 Q1631.24 1526.35 1632.26 1526.19 Q1633.28 1526 1634.3 1526 Q1640.08 1526 1643.46 1529.17 Q1646.84 1532.34 1646.84 1537.76 Q1646.84 1543.34 1643.37 1546.44 Q1639.9 1549.52 1633.58 1549.52 Q1631.4 1549.52 1629.13 1549.15 Q1626.89 1548.78 1624.48 1548.04 L1624.48 1543.34 Q1626.57 1544.47 1628.79 1545.03 Q1631.01 1545.58 1633.49 1545.58 Q1637.49 1545.58 1639.83 1543.48 Q1642.17 1541.37 1642.17 1537.76 Q1642.17 1534.15 1639.83 1532.04 Q1637.49 1529.94 1633.49 1529.94 Q1631.61 1529.94 1629.74 1530.35 Q1627.88 1530.77 1625.94 1531.65 L1625.94 1514.29 Z\" fill=\"#000000\" fill-rule=\"nonzero\" fill-opacity=\"1\" /><path clip-path=\"url(#clip420)\" d=\"M1919.37 1544.91 L1927.01 1544.91 L1927.01 1518.55 L1918.7 1520.21 L1918.7 1515.95 L1926.96 1514.29 L1931.64 1514.29 L1931.64 1544.91 L1939.28 1544.91 L1939.28 1548.85 L1919.37 1548.85 L1919.37 1544.91 Z\" fill=\"#000000\" fill-rule=\"nonzero\" fill-opacity=\"1\" /><path clip-path=\"url(#clip420)\" d=\"M1948.72 1542.97 L1953.6 1542.97 L1953.6 1548.85 L1948.72 1548.85 L1948.72 1542.97 Z\" fill=\"#000000\" fill-rule=\"nonzero\" fill-opacity=\"1\" /><path clip-path=\"url(#clip420)\" d=\"M1973.79 1517.37 Q1970.18 1517.37 1968.35 1520.93 Q1966.54 1524.47 1966.54 1531.6 Q1966.54 1538.71 1968.35 1542.27 Q1970.18 1545.82 1973.79 1545.82 Q1977.42 1545.82 1979.23 1542.27 Q1981.06 1538.71 1981.06 1531.6 Q1981.06 1524.47 1979.23 1520.93 Q1977.42 1517.37 1973.79 1517.37 M1973.79 1513.66 Q1979.6 1513.66 1982.66 1518.27 Q1985.73 1522.85 1985.73 1531.6 Q1985.73 1540.33 1982.66 1544.94 Q1979.6 1549.52 1973.79 1549.52 Q1967.98 1549.52 1964.9 1544.94 Q1961.85 1540.33 1961.85 1531.6 Q1961.85 1522.85 1964.9 1518.27 Q1967.98 1513.66 1973.79 1513.66 Z\" fill=\"#000000\" fill-rule=\"nonzero\" fill-opacity=\"1\" /><path clip-path=\"url(#clip420)\" d=\"M2259.3 1544.91 L2266.94 1544.91 L2266.94 1518.55 L2258.63 1520.21 L2258.63 1515.95 L2266.89 1514.29 L2271.57 1514.29 L2271.57 1544.91 L2279.21 1544.91 L2279.21 1548.85 L2259.3 1548.85 L2259.3 1544.91 Z\" fill=\"#000000\" fill-rule=\"nonzero\" fill-opacity=\"1\" /><path clip-path=\"url(#clip420)\" d=\"M2288.65 1542.97 L2293.54 1542.97 L2293.54 1548.85 L2288.65 1548.85 L2288.65 1542.97 Z\" fill=\"#000000\" fill-rule=\"nonzero\" fill-opacity=\"1\" /><path clip-path=\"url(#clip420)\" d=\"M2303.77 1514.29 L2322.12 1514.29 L2322.12 1518.22 L2308.05 1518.22 L2308.05 1526.7 Q2309.07 1526.35 2310.09 1526.19 Q2311.11 1526 2312.12 1526 Q2317.91 1526 2321.29 1529.17 Q2324.67 1532.34 2324.67 1537.76 Q2324.67 1543.34 2321.2 1546.44 Q2317.73 1549.52 2311.41 1549.52 Q2309.23 1549.52 2306.96 1549.15 Q2304.72 1548.78 2302.31 1548.04 L2302.31 1543.34 Q2304.39 1544.47 2306.62 1545.03 Q2308.84 1545.58 2311.31 1545.58 Q2315.32 1545.58 2317.66 1543.48 Q2320 1541.37 2320 1537.76 Q2320 1534.15 2317.66 1532.04 Q2315.32 1529.94 2311.31 1529.94 Q2309.44 1529.94 2307.56 1530.35 Q2305.71 1530.77 2303.77 1531.65 L2303.77 1514.29 Z\" fill=\"#000000\" fill-rule=\"nonzero\" fill-opacity=\"1\" /><polyline clip-path=\"url(#clip420)\" style=\"stroke:#000000; stroke-linecap:round; stroke-linejoin:round; stroke-width:4; stroke-opacity:1; fill:none\" points=\"193.936,1486.45 193.936,47.2441 \"/>\n",
       "<polyline clip-path=\"url(#clip420)\" style=\"stroke:#000000; stroke-linecap:round; stroke-linejoin:round; stroke-width:4; stroke-opacity:1; fill:none\" points=\"193.936,1445.72 212.834,1445.72 \"/>\n",
       "<polyline clip-path=\"url(#clip420)\" style=\"stroke:#000000; stroke-linecap:round; stroke-linejoin:round; stroke-width:4; stroke-opacity:1; fill:none\" points=\"193.936,1106.28 212.834,1106.28 \"/>\n",
       "<polyline clip-path=\"url(#clip420)\" style=\"stroke:#000000; stroke-linecap:round; stroke-linejoin:round; stroke-width:4; stroke-opacity:1; fill:none\" points=\"193.936,766.846 212.834,766.846 \"/>\n",
       "<polyline clip-path=\"url(#clip420)\" style=\"stroke:#000000; stroke-linecap:round; stroke-linejoin:round; stroke-width:4; stroke-opacity:1; fill:none\" points=\"193.936,427.411 212.834,427.411 \"/>\n",
       "<polyline clip-path=\"url(#clip420)\" style=\"stroke:#000000; stroke-linecap:round; stroke-linejoin:round; stroke-width:4; stroke-opacity:1; fill:none\" points=\"193.936,87.9763 212.834,87.9763 \"/>\n",
       "<path clip-path=\"url(#clip420)\" d=\"M50.9921 1446.17 L80.6679 1446.17 L80.6679 1450.1 L50.9921 1450.1 L50.9921 1446.17 Z\" fill=\"#000000\" fill-rule=\"nonzero\" fill-opacity=\"1\" /><path clip-path=\"url(#clip420)\" d=\"M91.5706 1459.06 L99.2095 1459.06 L99.2095 1432.69 L90.8993 1434.36 L90.8993 1430.1 L99.1632 1428.44 L103.839 1428.44 L103.839 1459.06 L111.478 1459.06 L111.478 1463 L91.5706 1463 L91.5706 1459.06 Z\" fill=\"#000000\" fill-rule=\"nonzero\" fill-opacity=\"1\" /><path clip-path=\"url(#clip420)\" d=\"M120.922 1457.12 L125.807 1457.12 L125.807 1463 L120.922 1463 L120.922 1457.12 Z\" fill=\"#000000\" fill-rule=\"nonzero\" fill-opacity=\"1\" /><path clip-path=\"url(#clip420)\" d=\"M145.992 1431.51 Q142.381 1431.51 140.552 1435.08 Q138.746 1438.62 138.746 1445.75 Q138.746 1452.86 140.552 1456.42 Q142.381 1459.96 145.992 1459.96 Q149.626 1459.96 151.431 1456.42 Q153.26 1452.86 153.26 1445.75 Q153.26 1438.62 151.431 1435.08 Q149.626 1431.51 145.992 1431.51 M145.992 1427.81 Q151.802 1427.81 154.857 1432.42 Q157.936 1437 157.936 1445.75 Q157.936 1454.48 154.857 1459.08 Q151.802 1463.67 145.992 1463.67 Q140.181 1463.67 137.103 1459.08 Q134.047 1454.48 134.047 1445.75 Q134.047 1437 137.103 1432.42 Q140.181 1427.81 145.992 1427.81 Z\" fill=\"#000000\" fill-rule=\"nonzero\" fill-opacity=\"1\" /><path clip-path=\"url(#clip420)\" d=\"M51.9875 1106.73 L81.6633 1106.73 L81.6633 1110.67 L51.9875 1110.67 L51.9875 1106.73 Z\" fill=\"#000000\" fill-rule=\"nonzero\" fill-opacity=\"1\" /><path clip-path=\"url(#clip420)\" d=\"M101.756 1092.08 Q98.1447 1092.08 96.316 1095.64 Q94.5104 1099.19 94.5104 1106.32 Q94.5104 1113.42 96.316 1116.99 Q98.1447 1120.53 101.756 1120.53 Q105.39 1120.53 107.196 1116.99 Q109.024 1113.42 109.024 1106.32 Q109.024 1099.19 107.196 1095.64 Q105.39 1092.08 101.756 1092.08 M101.756 1088.38 Q107.566 1088.38 110.621 1092.98 Q113.7 1097.57 113.7 1106.32 Q113.7 1115.04 110.621 1119.65 Q107.566 1124.23 101.756 1124.23 Q95.9456 1124.23 92.8669 1119.65 Q89.8114 1115.04 89.8114 1106.32 Q89.8114 1097.57 92.8669 1092.98 Q95.9456 1088.38 101.756 1088.38 Z\" fill=\"#000000\" fill-rule=\"nonzero\" fill-opacity=\"1\" /><path clip-path=\"url(#clip420)\" d=\"M121.918 1117.68 L126.802 1117.68 L126.802 1123.56 L121.918 1123.56 L121.918 1117.68 Z\" fill=\"#000000\" fill-rule=\"nonzero\" fill-opacity=\"1\" /><path clip-path=\"url(#clip420)\" d=\"M137.033 1089 L155.39 1089 L155.39 1092.94 L141.316 1092.94 L141.316 1101.41 Q142.334 1101.06 143.353 1100.9 Q144.371 1100.71 145.39 1100.71 Q151.177 1100.71 154.556 1103.89 Q157.936 1107.06 157.936 1112.47 Q157.936 1118.05 154.464 1121.15 Q150.992 1124.23 144.672 1124.23 Q142.496 1124.23 140.228 1123.86 Q137.982 1123.49 135.575 1122.75 L135.575 1118.05 Q137.658 1119.19 139.881 1119.74 Q142.103 1120.3 144.58 1120.3 Q148.584 1120.3 150.922 1118.19 Q153.26 1116.08 153.26 1112.47 Q153.26 1108.86 150.922 1106.76 Q148.584 1104.65 144.58 1104.65 Q142.705 1104.65 140.83 1105.07 Q138.978 1105.48 137.033 1106.36 L137.033 1089 Z\" fill=\"#000000\" fill-rule=\"nonzero\" fill-opacity=\"1\" /><path clip-path=\"url(#clip420)\" d=\"M100.76 752.645 Q97.1493 752.645 95.3206 756.209 Q93.515 759.751 93.515 766.881 Q93.515 773.987 95.3206 777.552 Q97.1493 781.094 100.76 781.094 Q104.395 781.094 106.2 777.552 Q108.029 773.987 108.029 766.881 Q108.029 759.751 106.2 756.209 Q104.395 752.645 100.76 752.645 M100.76 748.941 Q106.571 748.941 109.626 753.547 Q112.705 758.131 112.705 766.881 Q112.705 775.608 109.626 780.214 Q106.571 784.797 100.76 784.797 Q94.9502 784.797 91.8715 780.214 Q88.816 775.608 88.816 766.881 Q88.816 758.131 91.8715 753.547 Q94.9502 748.941 100.76 748.941 Z\" fill=\"#000000\" fill-rule=\"nonzero\" fill-opacity=\"1\" /><path clip-path=\"url(#clip420)\" d=\"M120.922 778.246 L125.807 778.246 L125.807 784.126 L120.922 784.126 L120.922 778.246 Z\" fill=\"#000000\" fill-rule=\"nonzero\" fill-opacity=\"1\" /><path clip-path=\"url(#clip420)\" d=\"M145.992 752.645 Q142.381 752.645 140.552 756.209 Q138.746 759.751 138.746 766.881 Q138.746 773.987 140.552 777.552 Q142.381 781.094 145.992 781.094 Q149.626 781.094 151.431 777.552 Q153.26 773.987 153.26 766.881 Q153.26 759.751 151.431 756.209 Q149.626 752.645 145.992 752.645 M145.992 748.941 Q151.802 748.941 154.857 753.547 Q157.936 758.131 157.936 766.881 Q157.936 775.608 154.857 780.214 Q151.802 784.797 145.992 784.797 Q140.181 784.797 137.103 780.214 Q134.047 775.608 134.047 766.881 Q134.047 758.131 137.103 753.547 Q140.181 748.941 145.992 748.941 Z\" fill=\"#000000\" fill-rule=\"nonzero\" fill-opacity=\"1\" /><path clip-path=\"url(#clip420)\" d=\"M101.756 413.21 Q98.1447 413.21 96.316 416.775 Q94.5104 420.316 94.5104 427.446 Q94.5104 434.552 96.316 438.117 Q98.1447 441.659 101.756 441.659 Q105.39 441.659 107.196 438.117 Q109.024 434.552 109.024 427.446 Q109.024 420.316 107.196 416.775 Q105.39 413.21 101.756 413.21 M101.756 409.506 Q107.566 409.506 110.621 414.113 Q113.7 418.696 113.7 427.446 Q113.7 436.173 110.621 440.779 Q107.566 445.362 101.756 445.362 Q95.9456 445.362 92.8669 440.779 Q89.8114 436.173 89.8114 427.446 Q89.8114 418.696 92.8669 414.113 Q95.9456 409.506 101.756 409.506 Z\" fill=\"#000000\" fill-rule=\"nonzero\" fill-opacity=\"1\" /><path clip-path=\"url(#clip420)\" d=\"M121.918 438.812 L126.802 438.812 L126.802 444.691 L121.918 444.691 L121.918 438.812 Z\" fill=\"#000000\" fill-rule=\"nonzero\" fill-opacity=\"1\" /><path clip-path=\"url(#clip420)\" d=\"M137.033 410.131 L155.39 410.131 L155.39 414.066 L141.316 414.066 L141.316 422.538 Q142.334 422.191 143.353 422.029 Q144.371 421.844 145.39 421.844 Q151.177 421.844 154.556 425.015 Q157.936 428.187 157.936 433.603 Q157.936 439.182 154.464 442.284 Q150.992 445.362 144.672 445.362 Q142.496 445.362 140.228 444.992 Q137.982 444.622 135.575 443.881 L135.575 439.182 Q137.658 440.316 139.881 440.872 Q142.103 441.427 144.58 441.427 Q148.584 441.427 150.922 439.321 Q153.26 437.214 153.26 433.603 Q153.26 429.992 150.922 427.886 Q148.584 425.779 144.58 425.779 Q142.705 425.779 140.83 426.196 Q138.978 426.613 137.033 427.492 L137.033 410.131 Z\" fill=\"#000000\" fill-rule=\"nonzero\" fill-opacity=\"1\" /><path clip-path=\"url(#clip420)\" d=\"M91.5706 101.321 L99.2095 101.321 L99.2095 74.9555 L90.8993 76.6222 L90.8993 72.3629 L99.1632 70.6963 L103.839 70.6963 L103.839 101.321 L111.478 101.321 L111.478 105.256 L91.5706 105.256 L91.5706 101.321 Z\" fill=\"#000000\" fill-rule=\"nonzero\" fill-opacity=\"1\" /><path clip-path=\"url(#clip420)\" d=\"M120.922 99.3767 L125.807 99.3767 L125.807 105.256 L120.922 105.256 L120.922 99.3767 Z\" fill=\"#000000\" fill-rule=\"nonzero\" fill-opacity=\"1\" /><path clip-path=\"url(#clip420)\" d=\"M145.992 73.775 Q142.381 73.775 140.552 77.3398 Q138.746 80.8814 138.746 88.011 Q138.746 95.1174 140.552 98.6822 Q142.381 102.224 145.992 102.224 Q149.626 102.224 151.431 98.6822 Q153.26 95.1174 153.26 88.011 Q153.26 80.8814 151.431 77.3398 Q149.626 73.775 145.992 73.775 M145.992 70.0713 Q151.802 70.0713 154.857 74.6777 Q157.936 79.261 157.936 88.011 Q157.936 96.7378 154.857 101.344 Q151.802 105.928 145.992 105.928 Q140.181 105.928 137.103 101.344 Q134.047 96.7378 134.047 88.011 Q134.047 79.261 137.103 74.6777 Q140.181 70.0713 145.992 70.0713 Z\" fill=\"#000000\" fill-rule=\"nonzero\" fill-opacity=\"1\" /><polyline clip-path=\"url(#clip422)\" style=\"stroke:#ff0000; stroke-linecap:round; stroke-linejoin:round; stroke-width:24; stroke-opacity:1; fill:none\" points=\"594.476,766.846 594.51,773.635 594.612,780.422 594.782,787.209 595.019,793.994 595.325,800.775 595.698,807.554 596.139,814.328 596.647,821.098 597.224,827.862 597.868,834.62 598.579,841.371 599.358,848.115 600.205,854.851 601.118,861.578 602.099,868.295 603.147,875.002 604.262,881.699 605.444,888.384 606.693,895.057 608.008,901.717 609.39,908.363 610.839,914.995 612.353,921.613 613.934,928.215 615.581,934.801 617.293,941.37 619.071,947.922 620.915,954.455 622.823,960.97 624.797,967.466 626.836,973.941 628.939,980.396 631.106,986.829 633.338,993.24 635.634,999.629 637.994,1005.99 640.417,1012.34 642.904,1018.65 645.453,1024.94 648.066,1031.21 650.74,1037.45 653.478,1043.66 656.277,1049.85 659.137,1056 662.06,1062.13 665.043,1068.23 668.087,1074.3 671.192,1080.33 674.357,1086.34 677.582,1092.31 680.866,1098.25 684.21,1104.16 687.612,1110.04 691.074,1115.88 694.593,1121.68 698.17,1127.45 701.805,1133.19 705.497,1138.88 709.245,1144.54 713.051,1150.16 716.912,1155.75 720.829,1161.29 724.801,1166.8 728.827,1172.26 732.909,1177.69 737.044,1183.07 741.233,1188.41 745.475,1193.71 749.77,1198.97 754.118,1204.19 758.517,1209.36 762.968,1214.48 767.47,1219.56 772.022,1224.6 776.625,1229.59 781.277,1234.53 785.978,1239.43 790.728,1244.28 795.527,1249.08 800.373,1253.84 805.266,1258.54 810.207,1263.2 815.193,1267.81 820.226,1272.36 825.303,1276.87 830.426,1281.32 835.593,1285.73 840.803,1290.08 846.057,1294.38 851.354,1298.62 856.693,1302.82 862.073,1306.96 867.495,1311.04 872.957,1315.07 878.459,1319.05 884.001,1322.97 889.581,1326.84 895.2,1330.65 900.857,1334.4 906.551,1338.1 912.282,1341.73 918.049,1345.32 923.851,1348.84 929.688,1352.31 935.56,1355.71 941.466,1359.06 947.404,1362.35 953.375,1365.58 959.379,1368.75 965.413,1371.86 971.479,1374.91 977.574,1377.9 983.7,1380.82 989.854,1383.69 996.036,1386.49 1002.25,1389.24 1008.48,1391.92 1014.75,1394.53 1021.04,1397.09 1027.35,1399.58 1033.69,1402.01 1040.06,1404.37 1046.44,1406.67 1052.85,1408.91 1059.28,1411.08 1065.74,1413.19 1072.21,1415.24 1078.7,1417.21 1085.22,1419.13 1091.75,1420.98 1098.3,1422.76 1104.87,1424.48 1111.45,1426.13 1118.05,1427.72 1124.67,1429.24 1131.3,1430.69 1137.95,1432.08 1144.6,1433.4 1151.28,1434.65 1157.96,1435.84 1164.66,1436.96 1171.36,1438.01 1178.08,1439 1184.81,1439.92 1191.54,1440.77 1198.28,1441.55 1205.03,1442.27 1211.79,1442.92 1218.56,1443.5 1225.32,1444.02 1232.1,1444.46 1238.88,1444.84 1245.66,1445.15 1252.44,1445.39 1259.23,1445.57 1266.02,1445.68 1272.81,1445.72 1279.59,1445.69 1286.38,1445.59 1293.17,1445.43 1299.95,1445.19 1306.74,1444.89 1313.51,1444.53 1320.29,1444.09 1327.06,1443.59 1333.82,1443.02 1340.58,1442.38 1347.33,1441.67 1354.08,1440.9 1360.81,1440.06 1367.54,1439.15 1374.26,1438.17 1380.97,1437.13 1387.67,1436.02 1394.35,1434.84 1401.03,1433.6 1407.69,1432.29 1414.33,1430.91 1420.97,1429.47 1427.59,1427.96 1434.19,1426.39 1440.78,1424.74 1447.35,1423.04 1453.9,1421.26 1460.44,1419.43 1466.95,1417.52 1473.45,1415.55 1479.93,1413.52 1486.38,1411.42 1492.82,1409.26 1499.23,1407.03 1505.62,1404.74 1511.99,1402.39 1518.33,1399.97 1524.65,1397.49 1530.94,1394.94 1537.21,1392.34 1543.45,1389.67 1549.67,1386.93 1555.86,1384.14 1562.01,1381.28 1568.14,1378.37 1574.24,1375.39 1580.31,1372.35 1586.35,1369.25 1592.36,1366.09 1598.34,1362.87 1604.28,1359.59 1610.19,1356.25 1616.07,1352.85 1621.91,1349.4 1627.72,1345.88 1633.49,1342.31 1639.23,1338.68 1644.93,1334.99 1650.59,1331.25 1656.22,1327.45 1661.81,1323.59 1667.35,1319.68 1672.86,1315.71 1678.33,1311.69 1683.76,1307.61 1689.15,1303.48 1694.49,1299.29 1699.79,1295.06 1705.05,1290.77 1710.27,1286.42 1715.45,1282.03 1720.58,1277.58 1725.66,1273.08 1730.7,1268.53 1735.69,1263.94 1740.64,1259.29 1745.54,1254.59 1750.4,1249.84 1755.2,1245.05 1759.96,1240.21 1764.67,1235.32 1769.33,1230.38 1773.94,1225.4 1778.5,1220.37 1783.01,1215.29 1787.47,1210.18 1791.88,1205.01 1796.23,1199.81 1800.54,1194.55 1804.79,1189.26 1808.98,1183.93 1813.13,1178.55 1817.22,1173.13 1821.25,1167.67 1825.23,1162.17 1829.16,1156.63 1833.03,1151.06 1836.84,1145.44 1840.6,1139.79 1844.3,1134.1 1847.95,1128.37 1851.53,1122.6 1855.06,1116.8 1858.53,1110.97 1861.94,1105.1 1865.3,1099.2 1868.59,1093.26 1871.83,1087.29 1875,1081.29 1878.11,1075.26 1881.17,1069.2 1884.16,1063.1 1887.09,1056.98 1889.96,1050.83 1892.77,1044.65 1895.52,1038.44 1898.2,1032.21 1900.83,1025.94 1903.39,1019.66 1905.88,1013.34 1908.32,1007.01 1910.69,1000.64 1912.99,994.259 1915.23,987.852 1917.41,981.422 1919.53,974.97 1921.57,968.498 1923.56,962.006 1925.48,955.494 1927.33,948.964 1929.12,942.415 1930.84,935.848 1932.5,929.265 1934.09,922.666 1935.62,916.05 1937.08,909.42 1938.47,902.776 1939.79,896.118 1941.05,889.447 1942.25,882.764 1943.37,876.07 1944.43,869.364 1945.42,862.648 1946.35,855.923 1947.2,849.188 1947.99,842.446 1948.72,835.696 1949.37,828.939 1949.96,822.175 1950.48,815.407 1950.93,808.633 1951.31,801.855 1951.63,795.074 1951.88,788.29 1952.06,781.503 1952.17,774.716 1952.21,767.927 1952.19,761.139 1952.1,754.351 1951.94,747.564 1951.72,740.779 1951.42,733.997 1951.06,727.218 1950.63,720.443 1950.13,713.672 1949.56,706.907 1948.93,700.148 1948.23,693.396 1947.46,686.651 1946.63,679.913 1945.72,673.185 1944.75,666.466 1943.72,659.757 1942.61,653.059 1941.44,646.372 1940.2,639.697 1938.9,633.035 1937.53,626.387 1936.09,619.752 1934.58,613.132 1933.01,606.527 1931.38,599.939 1929.68,593.367 1927.91,586.812 1926.08,580.276 1924.18,573.758 1922.21,567.259 1920.19,560.781 1918.09,554.323 1915.93,547.886 1913.71,541.471 1911.43,535.079 1909.08,528.71 1906.66,522.365 1904.19,516.044 1901.65,509.748 1899.05,503.478 1896.38,497.234 1893.65,491.017 1890.87,484.828 1888.01,478.667 1885.1,472.535 1882.13,466.432 1879.09,460.36 1876,454.318 1872.84,448.307 1869.63,442.328 1866.35,436.381 1863.02,430.468 1859.63,424.588 1856.17,418.742 1852.66,412.932 1849.1,407.156 1845.47,401.417 1841.79,395.714 1838.05,390.048 1834.25,384.42 1830.4,378.83 1826.49,373.279 1822.53,367.768 1818.51,362.296 1814.44,356.865 1810.31,351.474 1806.13,346.125 1801.9,340.819 1797.61,335.555 1793.27,330.334 1788.88,325.156 1784.44,320.023 1779.94,314.935 1775.4,309.891 1770.8,304.894 1766.16,299.942 1761.47,295.038 1756.72,290.18 1751.93,285.37 1747.09,280.609 1742.21,275.895 1737.28,271.231 1732.3,266.617 1727.27,262.053 1722.2,257.539 1717.08,253.076 1711.93,248.664 1706.72,244.304 1701.47,239.997 1696.18,235.742 1690.85,231.54 1685.48,227.392 1680.06,223.298 1674.61,219.258 1669.11,215.272 1663.58,211.342 1658,207.468 1652.39,203.649 1646.74,199.887 1641.05,196.182 1635.33,192.533 1629.56,188.942 1623.77,185.409 1617.94,181.934 1612.07,178.517 1606.17,175.16 1600.24,171.861 1594.27,168.622 1588.27,165.443 1582.24,162.324 1576.18,159.265 1570.09,156.267 1563.97,153.33 1557.82,150.455 1551.64,147.641 1545.44,144.889 1539.2,142.199 1532.94,139.572 1526.66,137.007 1520.35,134.505 1514.01,132.067 1507.65,129.692 1501.27,127.381 1494.86,125.134 1488.43,122.951 1481.98,120.832 1475.51,118.778 1469.02,116.789 1462.51,114.865 1455.98,113.006 1449.44,111.212 1442.87,109.484 1436.29,107.821 1429.69,106.225 1423.08,104.695 1416.45,103.23 1409.81,101.833 1403.15,100.501 1396.48,99.2366 1389.8,98.0386 1383.1,96.9076 1376.4,95.8435 1369.68,94.8466 1362.96,93.9168 1356.22,93.0543 1349.48,92.2593 1342.73,91.5316 1335.98,90.8715 1329.21,90.279 1322.45,89.7542 1315.67,89.2971 1308.89,88.9077 1302.11,88.5861 1295.33,88.3323 1288.54,88.1464 1281.76,88.0284 1274.97,87.9782 1268.18,87.9959 1261.39,88.0815 1254.6,88.235 1247.82,88.4564 1241.04,88.7456 1234.26,89.1026 1227.48,89.5273 1220.71,90.0198 1213.95,90.58 1207.19,91.2078 1200.43,91.9032 1193.69,92.666 1186.95,93.4963 1180.22,94.3939 1173.5,95.3588 1166.79,96.3908 1160.09,97.4899 1153.4,98.6559 1146.73,99.8887 1140.07,101.188 1133.42,102.554 1126.78,103.987 1120.16,105.486 1113.55,107.05 1106.96,108.681 1100.39,110.378 1093.83,112.14 1087.3,113.968 1080.78,115.861 1074.28,117.82 1067.8,119.843 1061.34,121.93 1054.9,124.083 1048.48,126.299 1042.09,128.58 1035.72,130.924 1029.37,133.333 1023.05,135.804 1016.75,138.338 1010.48,140.936 1004.23,143.596 998.011,146.318 991.82,149.102 985.657,151.948 979.522,154.856 973.417,157.825 967.342,160.855 961.297,163.945 955.284,167.095 949.303,170.306 943.354,173.576 937.437,176.906 931.555,180.294 925.707,183.741 919.893,187.247 914.115,190.81 908.373,194.431 902.667,198.11 896.998,201.845 891.367,205.636 885.774,209.484 880.22,213.388 874.705,217.347 869.23,221.36 863.795,225.429 858.402,229.551 853.05,233.728 847.74,237.957 842.472,242.24 837.248,246.574 832.067,250.961 826.93,255.4 821.838,259.89 816.791,264.43 811.79,269.021 806.835,273.661 801.926,278.351 797.065,283.089 792.252,287.876 787.486,292.711 782.769,297.593 778.101,302.522 773.483,307.498 768.914,312.519 764.396,317.586 759.929,322.698 755.513,327.854 751.15,333.055 746.838,338.298 742.579,343.585 738.373,348.913 734.22,354.284 730.122,359.696 726.077,365.148 722.088,370.641 718.153,376.173 714.274,381.745 710.451,387.354 706.685,393.002 702.975,398.687 699.322,404.409 695.726,410.168 692.188,415.962 688.709,421.791 685.287,427.654 681.925,433.552 678.621,439.482 675.378,445.446 672.194,451.442 669.07,457.469 666.006,463.527 663.003,469.615 660.062,475.734 657.181,481.881 654.362,488.057 651.606,494.26 648.911,500.491 646.279,506.749 643.709,513.032 641.202,519.341 638.759,525.675 636.379,532.033 634.063,538.414 631.81,544.818 629.622,551.245 627.498,557.693 625.439,564.161 623.445,570.651 621.515,577.159 619.651,583.687 617.852,590.233 616.119,596.797 614.451,603.377 612.85,609.974 611.314,616.587 609.845,623.215 608.441,629.857 607.105,636.513 605.835,643.181 604.632,649.863 603.495,656.555 602.426,663.259 601.423,669.974 600.488,676.698 599.621,683.431 598.82,690.172 598.087,696.921 597.422,703.677 596.824,710.439 596.293,717.207 595.831,723.98 595.436,730.757 595.109,737.538 594.85,744.322 594.659,751.108 594.535,757.895 594.48,764.684 \"/>\n",
       "<polyline clip-path=\"url(#clip422)\" style=\"stroke:#000000; stroke-linecap:round; stroke-linejoin:round; stroke-width:16; stroke-opacity:1; fill:none\" points=\"594.476,766.846 627.702,976.628 724.129,1165.88 874.316,1316.06 1063.56,1412.49 1273.35,1445.72 1483.13,1412.49 1672.38,1316.06 1822.56,1165.88 1918.99,976.628 1952.22,766.846 1918.99,557.064 1822.56,367.816 1672.38,217.629 1483.13,121.203 1273.35,87.9763 1063.56,121.203 874.316,217.629 724.129,367.816 627.702,557.064 594.476,766.846 \"/>\n",
       "<polyline clip-path=\"url(#clip422)\" style=\"stroke:#3da44d; stroke-linecap:round; stroke-linejoin:round; stroke-width:4; stroke-opacity:1; fill:none\" points=\"1273.35,766.846 594.476,766.846 \"/>\n",
       "<polyline clip-path=\"url(#clip422)\" style=\"stroke:#c271d2; stroke-linecap:round; stroke-linejoin:round; stroke-width:4; stroke-opacity:1; fill:none\" points=\"1273.35,766.846 627.702,976.628 \"/>\n",
       "<polyline clip-path=\"url(#clip422)\" style=\"stroke:#ac8d18; stroke-linecap:round; stroke-linejoin:round; stroke-width:4; stroke-opacity:1; fill:none\" points=\"1273.35,766.846 724.129,1165.88 \"/>\n",
       "<polyline clip-path=\"url(#clip422)\" style=\"stroke:#00a9ad; stroke-linecap:round; stroke-linejoin:round; stroke-width:4; stroke-opacity:1; fill:none\" points=\"1273.35,766.846 874.316,1316.06 \"/>\n",
       "<polyline clip-path=\"url(#clip422)\" style=\"stroke:#ed5d92; stroke-linecap:round; stroke-linejoin:round; stroke-width:4; stroke-opacity:1; fill:none\" points=\"1273.35,766.846 1063.56,1412.49 \"/>\n",
       "<polyline clip-path=\"url(#clip422)\" style=\"stroke:#c68125; stroke-linecap:round; stroke-linejoin:round; stroke-width:4; stroke-opacity:1; fill:none\" points=\"1273.35,766.846 1273.35,1445.72 \"/>\n",
       "<polyline clip-path=\"url(#clip422)\" style=\"stroke:#00a98d; stroke-linecap:round; stroke-linejoin:round; stroke-width:4; stroke-opacity:1; fill:none\" points=\"1273.35,766.846 1483.13,1412.49 \"/>\n",
       "<polyline clip-path=\"url(#clip422)\" style=\"stroke:#8e971d; stroke-linecap:round; stroke-linejoin:round; stroke-width:4; stroke-opacity:1; fill:none\" points=\"1273.35,766.846 1672.38,1316.06 \"/>\n",
       "<polyline clip-path=\"url(#clip422)\" style=\"stroke:#00a8cb; stroke-linecap:round; stroke-linejoin:round; stroke-width:4; stroke-opacity:1; fill:none\" points=\"1273.35,766.846 1822.56,1165.88 \"/>\n",
       "<polyline clip-path=\"url(#clip422)\" style=\"stroke:#9b7fe8; stroke-linecap:round; stroke-linejoin:round; stroke-width:4; stroke-opacity:1; fill:none\" points=\"1273.35,766.846 1918.99,976.628 \"/>\n",
       "<polyline clip-path=\"url(#clip422)\" style=\"stroke:#608cf6; stroke-linecap:round; stroke-linejoin:round; stroke-width:4; stroke-opacity:1; fill:none\" points=\"1273.35,766.846 1952.22,766.846 \"/>\n",
       "<polyline clip-path=\"url(#clip422)\" style=\"stroke:#f05f73; stroke-linecap:round; stroke-linejoin:round; stroke-width:4; stroke-opacity:1; fill:none\" points=\"1273.35,766.846 1918.99,557.064 \"/>\n",
       "<polyline clip-path=\"url(#clip422)\" style=\"stroke:#dd64b5; stroke-linecap:round; stroke-linejoin:round; stroke-width:4; stroke-opacity:1; fill:none\" points=\"1273.35,766.846 1822.56,367.816 \"/>\n",
       "<polyline clip-path=\"url(#clip422)\" style=\"stroke:#6b9e32; stroke-linecap:round; stroke-linejoin:round; stroke-width:4; stroke-opacity:1; fill:none\" points=\"1273.35,766.846 1672.38,217.629 \"/>\n",
       "<polyline clip-path=\"url(#clip422)\" style=\"stroke:#009af9; stroke-linecap:round; stroke-linejoin:round; stroke-width:4; stroke-opacity:1; fill:none\" points=\"1273.35,766.846 1483.13,121.203 \"/>\n",
       "<polyline clip-path=\"url(#clip422)\" style=\"stroke:#e26f46; stroke-linecap:round; stroke-linejoin:round; stroke-width:4; stroke-opacity:1; fill:none\" points=\"1273.35,766.846 1273.35,87.9763 \"/>\n",
       "<polyline clip-path=\"url(#clip422)\" style=\"stroke:#3da44d; stroke-linecap:round; stroke-linejoin:round; stroke-width:4; stroke-opacity:1; fill:none\" points=\"1273.35,766.846 1063.56,121.203 \"/>\n",
       "<polyline clip-path=\"url(#clip422)\" style=\"stroke:#c271d2; stroke-linecap:round; stroke-linejoin:round; stroke-width:4; stroke-opacity:1; fill:none\" points=\"1273.35,766.846 874.316,217.629 \"/>\n",
       "<polyline clip-path=\"url(#clip422)\" style=\"stroke:#ac8d18; stroke-linecap:round; stroke-linejoin:round; stroke-width:4; stroke-opacity:1; fill:none\" points=\"1273.35,766.846 724.129,367.816 \"/>\n",
       "<polyline clip-path=\"url(#clip422)\" style=\"stroke:#00a9ad; stroke-linecap:round; stroke-linejoin:round; stroke-width:4; stroke-opacity:1; fill:none\" points=\"1273.35,766.846 627.702,557.064 \"/>\n",
       "<polyline clip-path=\"url(#clip422)\" style=\"stroke:#ed5d92; stroke-linecap:round; stroke-linejoin:round; stroke-width:4; stroke-opacity:1; fill:none\" points=\"1273.35,766.846 594.476,766.846 \"/>\n",
       "</svg>\n"
      ]
     },
     "metadata": {},
     "output_type": "display_data"
    },
    {
     "data": {
      "text/plain": [
       "-0.05142270984031905"
      ]
     },
     "metadata": {},
     "output_type": "display_data"
    }
   ],
   "source": [
    "# Approximate the area of a unit circle via triangles\n",
    "N=20 # Number of triangles\n",
    "ths=[-pi:(2*pi/N):pi;]\n",
    "n=length(ths)\n",
    "Xs=cos.(ths)\n",
    "Ys=sin.(ths)\n",
    "p1=plot(X,Y,linewidth=6, color=:red)\n",
    "p1=plot!(Xs, Ys, legend=false, aspectratio=:equal,linewidth=4, color=:black)\n",
    "for k=1:n\n",
    "    plot!([0;Xs[k]],[0;Ys[k]])\n",
    "end\n",
    "display(p1)\n",
    "Area=0.0\n",
    "n=length(ths)\n",
    "Xs=[Xs;Xs[1]]\n",
    "Ys=[Ys;Ys[1]]\n",
    "for k=1:n\n",
    "    u=[Xs[k];Ys[k];0.0]\n",
    "    v=[Xs[k+1];Ys[k+1];0.0]\n",
    "    AreaTriangle=0.5*norm(cross(u,v))\n",
    "    Area = Area+AreaTriangle\n",
    "end\n",
    "Area-pi"
   ]
  },
  {
   "cell_type": "code",
   "execution_count": null,
   "metadata": {},
   "outputs": [],
   "source": []
  },
  {
   "cell_type": "code",
   "execution_count": null,
   "metadata": {},
   "outputs": [],
   "source": []
  },
  {
   "cell_type": "code",
   "execution_count": null,
   "metadata": {},
   "outputs": [],
   "source": []
  },
  {
   "cell_type": "code",
   "execution_count": null,
   "metadata": {},
   "outputs": [],
   "source": []
  },
  {
   "cell_type": "code",
   "execution_count": null,
   "metadata": {},
   "outputs": [],
   "source": []
  }
 ],
 "metadata": {
  "kernelspec": {
   "display_name": "Julia 1.11.2",
   "language": "julia",
   "name": "julia-1.11"
  },
  "language_info": {
   "file_extension": ".jl",
   "mimetype": "application/julia",
   "name": "julia",
   "version": "1.11.2"
  }
 },
 "nbformat": 4,
 "nbformat_minor": 2
}
