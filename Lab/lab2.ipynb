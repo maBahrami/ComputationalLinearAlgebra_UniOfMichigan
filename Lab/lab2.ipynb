{
 "cells": [
  {
   "cell_type": "markdown",
   "metadata": {},
   "source": [
    "# Lab 2: Vectors, Matrices and Systems of Linear Equations"
   ]
  },
  {
   "cell_type": "code",
   "execution_count": 1,
   "metadata": {},
   "outputs": [
    {
     "data": {
      "text/plain": [
       "1×5 Matrix{Int64}:\n",
       " 1  3  5  7  9"
      ]
     },
     "metadata": {},
     "output_type": "display_data"
    }
   ],
   "source": [
    "row_vec = [1 3 5 7 9]"
   ]
  },
  {
   "cell_type": "code",
   "execution_count": 2,
   "metadata": {},
   "outputs": [
    {
     "data": {
      "text/plain": [
       "5-element Vector{Int64}:\n",
       " 0\n",
       " 2\n",
       " 4\n",
       " 6\n",
       " 8"
      ]
     },
     "metadata": {},
     "output_type": "display_data"
    }
   ],
   "source": [
    "col_vec = [0; 2; 4; 6; 8]"
   ]
  },
  {
   "cell_type": "code",
   "execution_count": 3,
   "metadata": {},
   "outputs": [
    {
     "data": {
      "text/plain": [
       "2×4 Matrix{Int64}:\n",
       " 1  2  3  4\n",
       " 5  6  7  8"
      ]
     },
     "metadata": {},
     "output_type": "display_data"
    }
   ],
   "source": [
    "A = [1 2 3 4; 5 6 7 8]"
   ]
  },
  {
   "cell_type": "markdown",
   "metadata": {},
   "source": [
    "### Practice 1."
   ]
  },
  {
   "cell_type": "code",
   "execution_count": 4,
   "metadata": {},
   "outputs": [
    {
     "data": {
      "text/plain": [
       "5-element Vector{Float64}:\n",
       "  0.0\n",
       "  0.0\n",
       " -1.5\n",
       "  0.0\n",
       "  0.0"
      ]
     },
     "metadata": {},
     "output_type": "display_data"
    }
   ],
   "source": [
    "almost_zero_vec = [0; 0; -1.5; 0; 0]"
   ]
  },
  {
   "cell_type": "code",
   "execution_count": 5,
   "metadata": {},
   "outputs": [
    {
     "data": {
      "text/plain": [
       "3×4 Matrix{Float64}:\n",
       " 0.0  0.0  0.0  0.0\n",
       " 0.0  0.0  0.0  0.0\n",
       " 0.0  0.0  0.0  0.0"
      ]
     },
     "metadata": {},
     "output_type": "display_data"
    }
   ],
   "source": [
    "zeor_matrix = zeros(3, 4)"
   ]
  },
  {
   "cell_type": "code",
   "execution_count": 9,
   "metadata": {},
   "outputs": [
    {
     "data": {
      "text/plain": [
       "3×4 Matrix{Float64}:\n",
       " 2.0  2.0  2.0  2.0\n",
       " 2.0  2.0  2.0  2.0\n",
       " 2.0  2.0  2.0  2.0"
      ]
     },
     "metadata": {},
     "output_type": "display_data"
    }
   ],
   "source": [
    "two_matrix = ones(3, 4) .+ 1\n",
    "# pay attention to the . placed before +"
   ]
  },
  {
   "cell_type": "code",
   "execution_count": 27,
   "metadata": {},
   "outputs": [
    {
     "data": {
      "text/plain": [
       "3×4 Matrix{Float64}:\n",
       " 0.579862  0.0149088  0.839622  0.946453\n",
       " 0.411294  0.520355   0.967143  0.574323\n",
       " 0.972136  0.639562   0.131026  0.67765"
      ]
     },
     "metadata": {},
     "output_type": "display_data"
    }
   ],
   "source": [
    "using Random\n",
    "Random.seed!(1234)\n",
    "rand_matrix = rand(3, 4)"
   ]
  },
  {
   "cell_type": "markdown",
   "metadata": {},
   "source": [
    "### Example 2"
   ]
  },
  {
   "cell_type": "code",
   "execution_count": 60,
   "metadata": {},
   "outputs": [
    {
     "data": {
      "text/plain": [
       "3×4 Matrix{Float64}:\n",
       " 0.579862  0.0149088  0.839622  0.946453\n",
       " 0.411294  0.520355   0.967143  0.574323\n",
       " 0.972136  0.639562   0.131026  0.67765"
      ]
     },
     "metadata": {},
     "output_type": "display_data"
    }
   ],
   "source": [
    "row_vec = [1 3 5 7 9]\n",
    "almost_zero_vec = [0; 0; -pi; 0; 0; 0; 0]\n",
    "using Random    # using an external pacakge\n",
    "Random.seed!(1234)\n",
    "rand_matrix = rand(3, 4)"
   ]
  },
  {
   "cell_type": "code",
   "execution_count": 61,
   "metadata": {},
   "outputs": [
    {
     "data": {
      "text/plain": [
       "1"
      ]
     },
     "metadata": {},
     "output_type": "display_data"
    }
   ],
   "source": [
    "num = row_vec[1]"
   ]
  },
  {
   "cell_type": "code",
   "execution_count": 62,
   "metadata": {},
   "outputs": [
    {
     "data": {
      "text/plain": [
       "-3.141592653589793"
      ]
     },
     "metadata": {},
     "output_type": "display_data"
    }
   ],
   "source": [
    "num = almost_zero_vec[3]"
   ]
  },
  {
   "cell_type": "code",
   "execution_count": 63,
   "metadata": {},
   "outputs": [
    {
     "data": {
      "text/plain": [
       "0.014908849285099945"
      ]
     },
     "metadata": {},
     "output_type": "display_data"
    }
   ],
   "source": [
    "num = rand_matrix[1, 2]"
   ]
  },
  {
   "cell_type": "code",
   "execution_count": 64,
   "metadata": {},
   "outputs": [
    {
     "data": {
      "text/plain": [
       "3-element Vector{Float64}:\n",
       " 0.9464532262313834\n",
       " 0.5743234852783174\n",
       " 0.6776499075995779"
      ]
     },
     "metadata": {},
     "output_type": "display_data"
    }
   ],
   "source": [
    "vect = rand_matrix[:, 4]"
   ]
  },
  {
   "cell_type": "code",
   "execution_count": 66,
   "metadata": {},
   "outputs": [
    {
     "data": {
      "text/plain": [
       "4-element Vector{Float64}:\n",
       " 0.5798621201341324\n",
       " 0.014908849285099945\n",
       " 0.8396219340580711\n",
       " 0.9464532262313834"
      ]
     },
     "metadata": {},
     "output_type": "display_data"
    }
   ],
   "source": [
    "vect = rand_matrix[1, :]"
   ]
  },
  {
   "cell_type": "code",
   "execution_count": 67,
   "metadata": {},
   "outputs": [
    {
     "data": {
      "text/plain": [
       "1×4 Matrix{Float64}:\n",
       " 0.579862  0.0149088  0.839622  0.946453"
      ]
     },
     "metadata": {},
     "output_type": "display_data"
    }
   ],
   "source": [
    "vect = rand_matrix[1:1, 1:end]"
   ]
  },
  {
   "cell_type": "code",
   "execution_count": 68,
   "metadata": {},
   "outputs": [
    {
     "data": {
      "text/plain": [
       "1×4 Matrix{Float64}:\n",
       " 0.579862  0.0149088  0.839622  0.946453"
      ]
     },
     "metadata": {},
     "output_type": "display_data"
    }
   ],
   "source": [
    "vect = rand_matrix[1:1, :]"
   ]
  },
  {
   "cell_type": "code",
   "execution_count": null,
   "metadata": {},
   "outputs": [
    {
     "data": {
      "text/plain": [
       "3-element Vector{Float64}:\n",
       " 0.5798621201341324\n",
       " 0.4112941179498505\n",
       " 0.9721360824554687"
      ]
     },
     "metadata": {},
     "output_type": "display_data"
    }
   ],
   "source": []
  },
  {
   "cell_type": "code",
   "execution_count": 71,
   "metadata": {},
   "outputs": [
    {
     "data": {
      "text/plain": [
       "4×4 Matrix{Int64}:\n",
       " 1  2  3  0\n",
       " 4  5  6  0\n",
       " 7  8  9  0\n",
       " 0  0  0  0"
      ]
     },
     "metadata": {},
     "output_type": "display_data"
    }
   ],
   "source": [
    "A = [1 2 3 0; 4 5 6 0; 7 8 9 0; 0 0 0 0]"
   ]
  },
  {
   "cell_type": "code",
   "execution_count": 72,
   "metadata": {},
   "outputs": [
    {
     "data": {
      "text/plain": [
       "3×3 Matrix{Int64}:\n",
       " 1  2  3\n",
       " 4  5  6\n",
       " 7  8  9"
      ]
     },
     "metadata": {},
     "output_type": "display_data"
    }
   ],
   "source": [
    "block = A[1:3, 1:3]"
   ]
  },
  {
   "cell_type": "code",
   "execution_count": 73,
   "metadata": {},
   "outputs": [
    {
     "data": {
      "text/plain": [
       "1×1 Matrix{Int64}:\n",
       " 5"
      ]
     },
     "metadata": {},
     "output_type": "display_data"
    }
   ],
   "source": [
    "small_block = block[2:2, 2:2]"
   ]
  },
  {
   "cell_type": "code",
   "execution_count": 75,
   "metadata": {},
   "outputs": [
    {
     "data": {
      "text/plain": [
       "5"
      ]
     },
     "metadata": {},
     "output_type": "display_data"
    }
   ],
   "source": [
    "num = small_block[1]"
   ]
  },
  {
   "cell_type": "code",
   "execution_count": 76,
   "metadata": {},
   "outputs": [
    {
     "ename": "MethodError",
     "evalue": "MethodError: no method matching /(::Irrational{:π}, ::Matrix{Int64})\nThe function `/` exists, but no method is defined for this combination of argument types.\n\nYou might have used a 2d row vector where a 1d column vector was required.\nNote the difference between 1d column vector [1,2,3] and 2d row vector [1 2 3].\nYou can convert to a column vector with the vec() function.\n\nClosest candidates are:\n  /(::Number, !Matched::BitArray)\n   @ Base bitarray.jl:1205\n  /(::Number, !Matched::AbstractVector)\n   @ LinearAlgebra C:\\Users\\mabah\\AppData\\Local\\Programs\\Julia-1.11.2\\share\\julia\\stdlib\\v1.11\\LinearAlgebra\\src\\generic.jl:1168\n  /(::Number, !Matched::Missing)\n   @ Base missing.jl:124\n  ...\n",
     "output_type": "error",
     "traceback": [
      "MethodError: no method matching /(::Irrational{:π}, ::Matrix{Int64})\n",
      "The function `/` exists, but no method is defined for this combination of argument types.\n",
      "\n",
      "You might have used a 2d row vector where a 1d column vector was required.\n",
      "Note the difference between 1d column vector [1,2,3] and 2d row vector [1 2 3].\n",
      "You can convert to a column vector with the vec() function.\n",
      "\n",
      "Closest candidates are:\n",
      "  /(::Number, !Matched::BitArray)\n",
      "   @ Base bitarray.jl:1205\n",
      "  /(::Number, !Matched::AbstractVector)\n",
      "   @ LinearAlgebra C:\\Users\\mabah\\AppData\\Local\\Programs\\Julia-1.11.2\\share\\julia\\stdlib\\v1.11\\LinearAlgebra\\src\\generic.jl:1168\n",
      "  /(::Number, !Matched::Missing)\n",
      "   @ Base missing.jl:124\n",
      "  ...\n",
      "\n",
      "\n",
      "Stacktrace:\n",
      " [1] top-level scope\n",
      "   @ c:\\Users\\mabah\\Desktop\\ComputationalLinearAlgebra_UniOfMichigan_F21\\Lab\\jl_notebook_cell_df34fa98e69747e1a8f8a730347b8e2f_X35sZmlsZQ==.jl:1"
     ]
    }
   ],
   "source": [
    "pi / small_block"
   ]
  },
  {
   "cell_type": "code",
   "execution_count": 77,
   "metadata": {},
   "outputs": [
    {
     "data": {
      "text/plain": [
       "1×1 Matrix{Float64}:\n",
       " 0.6283185307179586"
      ]
     },
     "metadata": {},
     "output_type": "display_data"
    }
   ],
   "source": [
    "pi ./ small_block"
   ]
  },
  {
   "cell_type": "code",
   "execution_count": 80,
   "metadata": {},
   "outputs": [
    {
     "data": {
      "text/plain": [
       "0.6283185307179586"
      ]
     },
     "metadata": {},
     "output_type": "display_data"
    }
   ],
   "source": [
    "pi / small_block[1]"
   ]
  },
  {
   "cell_type": "code",
   "execution_count": 87,
   "metadata": {},
   "outputs": [
    {
     "data": {
      "text/plain": [
       "3×3 Matrix{Int64}:\n",
       " 1  2  3\n",
       " 4  5  6\n",
       " 7  8  9"
      ]
     },
     "metadata": {},
     "output_type": "display_data"
    }
   ],
   "source": [
    "block"
   ]
  },
  {
   "cell_type": "code",
   "execution_count": 88,
   "metadata": {},
   "outputs": [
    {
     "data": {
      "text/plain": [
       "3-element Vector{Int64}:\n",
       " 1\n",
       " 2\n",
       " 3"
      ]
     },
     "metadata": {},
     "output_type": "display_data"
    }
   ],
   "source": [
    "block[1, :]"
   ]
  },
  {
   "cell_type": "code",
   "execution_count": 89,
   "metadata": {},
   "outputs": [
    {
     "data": {
      "text/plain": [
       "1×3 Matrix{Int64}:\n",
       " 1  2  3"
      ]
     },
     "metadata": {},
     "output_type": "display_data"
    }
   ],
   "source": [
    "block[1:1, :]"
   ]
  },
  {
   "cell_type": "code",
   "execution_count": 90,
   "metadata": {},
   "outputs": [
    {
     "data": {
      "text/plain": [
       "1×3 Matrix{Int64}:\n",
       " 1  2  3"
      ]
     },
     "metadata": {},
     "output_type": "display_data"
    }
   ],
   "source": [
    "Q = [1 2 3]"
   ]
  },
  {
   "cell_type": "code",
   "execution_count": 92,
   "metadata": {},
   "outputs": [
    {
     "data": {
      "text/plain": [
       "3×1 adjoint(::Matrix{Int64}) with eltype Int64:\n",
       " 1\n",
       " 2\n",
       " 3"
      ]
     },
     "metadata": {},
     "output_type": "display_data"
    }
   ],
   "source": [
    "Q'      # ' is matrix Transpose operator"
   ]
  },
  {
   "cell_type": "markdown",
   "metadata": {},
   "source": [
    "### Practice 2."
   ]
  },
  {
   "cell_type": "code",
   "execution_count": 94,
   "metadata": {},
   "outputs": [
    {
     "data": {
      "text/plain": [
       "3×4 Matrix{Float64}:\n",
       " 0.579862  0.0149088  0.839622  0.946453\n",
       " 0.411294  0.520355   0.967143  0.574323\n",
       " 0.972136  0.639562   0.131026  0.67765"
      ]
     },
     "metadata": {},
     "output_type": "display_data"
    }
   ],
   "source": [
    "rand_matrix"
   ]
  },
  {
   "cell_type": "code",
   "execution_count": 95,
   "metadata": {},
   "outputs": [
    {
     "data": {
      "text/plain": [
       "0.014908849285099945"
      ]
     },
     "metadata": {},
     "output_type": "display_data"
    }
   ],
   "source": [
    "small_num = rand_matrix[1, 2]"
   ]
  },
  {
   "cell_type": "code",
   "execution_count": 100,
   "metadata": {},
   "outputs": [
    {
     "data": {
      "text/plain": [
       "1×3 adjoint(::Vector{Float64}) with eltype Float64:\n",
       " 0.0149088  0.520355  0.639562"
      ]
     },
     "metadata": {},
     "output_type": "display_data"
    }
   ],
   "source": [
    "row_vec = rand_matrix[:, 2]'"
   ]
  },
  {
   "cell_type": "markdown",
   "metadata": {},
   "source": [
    "## Example 3. for loops"
   ]
  },
  {
   "cell_type": "code",
   "execution_count": 101,
   "metadata": {},
   "outputs": [
    {
     "data": {
      "text/plain": [
       "3×3 Matrix{Int64}:\n",
       " 1  8  2\n",
       " 0  3  7\n",
       " 6  2  9"
      ]
     },
     "metadata": {},
     "output_type": "display_data"
    }
   ],
   "source": [
    "A = [1 8 2; 0 3 7; 6 2 9]"
   ]
  },
  {
   "cell_type": "code",
   "execution_count": 102,
   "metadata": {},
   "outputs": [
    {
     "data": {
      "text/plain": [
       "13"
      ]
     },
     "metadata": {},
     "output_type": "display_data"
    }
   ],
   "source": [
    "sums = A[1, 1] + A[2, 2] + A[3, 3]"
   ]
  },
  {
   "cell_type": "code",
   "execution_count": 103,
   "metadata": {},
   "outputs": [
    {
     "data": {
      "text/plain": [
       "5×5 Matrix{Int64}:\n",
       " 2  7  3  4  1\n",
       " 9  1  0  3  2\n",
       " 7  4  9  2  0\n",
       " 1  7  6  4  2\n",
       " 7  4  9  5  8"
      ]
     },
     "metadata": {},
     "output_type": "display_data"
    }
   ],
   "source": [
    "A = [2 7 3 4 1; 9 1 0 3 2; 7 4 9 2 0; 1 7 6 4 2; 7 4 9 5 8]"
   ]
  },
  {
   "cell_type": "code",
   "execution_count": 104,
   "metadata": {},
   "outputs": [
    {
     "data": {
      "text/plain": [
       "24"
      ]
     },
     "metadata": {},
     "output_type": "display_data"
    }
   ],
   "source": [
    "sums = A[1, 1] + A[2, 2] + A[3, 3] + A[4, 4] + A[5, 5]"
   ]
  },
  {
   "cell_type": "code",
   "execution_count": 105,
   "metadata": {},
   "outputs": [
    {
     "name": "stdout",
     "output_type": "stream",
     "text": [
      "1\n",
      "2\n",
      "3\n",
      "4\n",
      "5\n",
      "6\n",
      "7\n",
      "8\n",
      "9\n",
      "10\n"
     ]
    }
   ],
   "source": [
    "for k in 1 : 10\n",
    "    println(k)\n",
    "end"
   ]
  },
  {
   "cell_type": "code",
   "execution_count": 106,
   "metadata": {},
   "outputs": [
    {
     "name": "stdout",
     "output_type": "stream",
     "text": [
      "2\n",
      "4\n",
      "6\n",
      "8\n",
      "10\n",
      "12\n",
      "14\n",
      "16\n",
      "18\n",
      "20\n"
     ]
    }
   ],
   "source": [
    "for k in 2:2:20   #   start : step : stop\n",
    "    println(k)\n",
    "end"
   ]
  },
  {
   "cell_type": "code",
   "execution_count": 109,
   "metadata": {},
   "outputs": [
    {
     "name": "stdout",
     "output_type": "stream",
     "text": [
      "5.0\n",
      "3.5\n",
      "2.0\n",
      "0.5\n"
     ]
    }
   ],
   "source": [
    "for k in 5:-1.5:0\n",
    "    println(k)\n",
    "end"
   ]
  },
  {
   "cell_type": "code",
   "execution_count": 110,
   "metadata": {},
   "outputs": [
    {
     "data": {
      "text/plain": [
       "30×30 Matrix{Float64}:\n",
       " 0.579862   0.00543656  0.126386  …  0.571334   0.328323   0.673974\n",
       " 0.411294   0.698478    0.965243     0.124163   0.349247   0.245734\n",
       " 0.972136   0.349231    0.515818     0.587931   0.793972   0.316147\n",
       " 0.0149088  0.91097     0.488476     0.321161   0.0952038  0.585489\n",
       " 0.520355   0.973653    0.527837     0.531414   0.665992   0.852246\n",
       " 0.639562   0.76066     0.917137  …  0.59433    0.799811   0.580852\n",
       " 0.839622   0.488912    0.706951     0.290677   0.171014   0.183946\n",
       " 0.967143   0.362643    0.753203     0.855815   0.689584   0.202328\n",
       " 0.789764   0.708738    0.573645     0.555287   0.270649   0.488165\n",
       " 0.696041   0.656694    0.731872     0.861586   0.480495   0.988048\n",
       " ⋮                                ⋱                        \n",
       " 0.0779683  0.514119    0.381363     0.566666   0.606252   0.808455\n",
       " 0.966197   0.652465    0.42562      0.22972    0.706679   0.901708\n",
       " 0.666558   0.895855    0.661096     0.175631   0.104724   0.130924\n",
       " 0.333859   0.688344    0.195737     0.796953   0.578079   0.550256\n",
       " 0.802199   0.661561    0.811324  …  0.351131   0.889768   0.819181\n",
       " 0.156458   0.752155    0.594965     0.0457602  0.488776   0.131026\n",
       " 0.380799   0.869142    0.270995     0.807679   0.486645   0.946453\n",
       " 0.0687591  0.679021    0.566878     0.926269   0.209923   0.574323\n",
       " 0.861725   0.999183    0.607905     0.319058   0.928159   0.67765"
      ]
     },
     "metadata": {},
     "output_type": "display_data"
    }
   ],
   "source": [
    "using Random\n",
    "Random.seed!(1234)\n",
    "A = rand(30, 30)"
   ]
  },
  {
   "cell_type": "code",
   "execution_count": 117,
   "metadata": {},
   "outputs": [
    {
     "name": "stdout",
     "output_type": "stream",
     "text": [
      "15.828121297692357"
     ]
    }
   ],
   "source": [
    "sum = 0\n",
    "for k in 1:30\n",
    "    sum += A[k, k]\n",
    "end\n",
    "print(sum)"
   ]
  },
  {
   "cell_type": "code",
   "execution_count": 118,
   "metadata": {},
   "outputs": [
    {
     "data": {
      "text/plain": [
       "3×3 Matrix{Int64}:\n",
       " 1  2  3\n",
       " 4  5  6\n",
       " 7  8  9"
      ]
     },
     "metadata": {},
     "output_type": "display_data"
    }
   ],
   "source": [
    "A = [1 2 3; 4 5 6; 7 8 9]"
   ]
  },
  {
   "cell_type": "code",
   "execution_count": 119,
   "metadata": {},
   "outputs": [
    {
     "name": "stdout",
     "output_type": "stream",
     "text": [
      "1\n",
      "4\n",
      "5\n",
      "7\n",
      "8\n",
      "9\n"
     ]
    }
   ],
   "source": [
    "# Print all the numbers on and below the matrix primary diagonal\n",
    "for i in 1:3\n",
    "    for j in 1:i\n",
    "        println(A[i, j])\n",
    "    end\n",
    "end"
   ]
  },
  {
   "cell_type": "markdown",
   "metadata": {},
   "source": [
    "### Practice 3."
   ]
  },
  {
   "cell_type": "code",
   "execution_count": 120,
   "metadata": {},
   "outputs": [
    {
     "data": {
      "text/plain": [
       "10×10 Matrix{Float64}:\n",
       " 0.579862   0.566704  0.526344   0.00543656  …  0.829076  0.587688  0.850302\n",
       " 0.411294   0.536369  0.0779683  0.698478       0.892646  0.381363  0.124847\n",
       " 0.972136   0.711389  0.966197   0.349231       0.806471  0.42562   0.993609\n",
       " 0.0149088  0.103929  0.666558   0.91097        0.011625  0.661096  0.0686571\n",
       " 0.520355   0.806704  0.333859   0.973653       0.249676  0.195737  0.953362\n",
       " 0.639562   0.870539  0.802199   0.76066     …  0.139687  0.811324  0.484337\n",
       " 0.839622   0.962715  0.156458   0.488912       0.180998  0.594965  0.131026\n",
       " 0.967143   0.15118   0.380799   0.362643       0.813512  0.270995  0.946453\n",
       " 0.789764   0.715355  0.0687591  0.708738       0.994935  0.566878  0.574323\n",
       " 0.696041   0.939548  0.861725   0.656694       0.77916   0.607905  0.67765"
      ]
     },
     "metadata": {},
     "output_type": "display_data"
    }
   ],
   "source": [
    "using Random\n",
    "Random.seed!(1234)\n",
    "A = rand(10, 10)"
   ]
  },
  {
   "cell_type": "code",
   "execution_count": 123,
   "metadata": {},
   "outputs": [
    {
     "name": "stdout",
     "output_type": "stream",
     "text": [
      "6.84133867975218\n"
     ]
    }
   ],
   "source": [
    "sum = 0\n",
    "for i in 1:10\n",
    "    sum += A[i, i]\n",
    "end\n",
    "println(sum)"
   ]
  },
  {
   "cell_type": "code",
   "execution_count": 124,
   "metadata": {},
   "outputs": [
    {
     "name": "stdout",
     "output_type": "stream",
     "text": [
      "28.902991362437746\n"
     ]
    }
   ],
   "source": [
    "sum = 0\n",
    "for i in 1:10\n",
    "    for j in i:10\n",
    "        sum += A[i, j]\n",
    "    end\n",
    "end\n",
    "println(sum)"
   ]
  },
  {
   "cell_type": "markdown",
   "metadata": {},
   "source": [
    "### Example 4. "
   ]
  },
  {
   "cell_type": "code",
   "execution_count": 126,
   "metadata": {},
   "outputs": [
    {
     "data": {
      "text/plain": [
       "3-element Vector{Float64}:\n",
       " -1.0696035242290747\n",
       "  2.028193832599119\n",
       " -1.1691629955947136"
      ]
     },
     "metadata": {},
     "output_type": "display_data"
    }
   ],
   "source": [
    "A = [1 3 6; 0 6 1; 7 8 2]\n",
    "b = [-2; 11; 6.4]\n",
    "\n",
    "using LinearAlgebra\n",
    "x = inv(A) * b"
   ]
  },
  {
   "cell_type": "markdown",
   "metadata": {},
   "source": [
    "## Area of a shape via triangles"
   ]
  },
  {
   "cell_type": "code",
   "execution_count": 26,
   "metadata": {},
   "outputs": [],
   "source": [
    "using LinearAlgebra\n",
    "using Plots"
   ]
  },
  {
   "cell_type": "code",
   "execution_count": 35,
   "metadata": {},
   "outputs": [
    {
     "data": {
      "image/png": "[encoded data removed]",
      "image/svg+xml": [
       "<?xml version=\"1.0\" encoding=\"utf-8\"?>\n",
       "<svg xmlns=\"http://www.w3.org/2000/svg\" xmlns:xlink=\"http://www.w3.org/1999/xlink\" width=\"600\" height=\"400\" viewBox=\"0 0 2400 1600\">\n",
       "<defs>\n",
       "  <clipPath id=\"clip830\">\n",
       "    <rect x=\"0\" y=\"0\" width=\"2400\" height=\"1600\"/>\n",
       "  </clipPath>\n",
       "</defs>\n",
       "<path clip-path=\"url(#clip830)\" d=\"M0 1600 L2400 1600 L2400 0 L0 0  Z\" fill=\"#ffffff\" fill-rule=\"evenodd\" fill-opacity=\"1\"/>\n",
       "<defs>\n",
       "  <clipPath id=\"clip831\">\n",
       "    <rect x=\"480\" y=\"0\" width=\"1681\" height=\"1600\"/>\n",
       "  </clipPath>\n",
       "</defs>\n",
       "<path clip-path=\"url(#clip830)\" d=\"M147.478 1486.45 L2352.76 1486.45 L2352.76 47.2441 L147.478 47.2441  Z\" fill=\"#ffffff\" fill-rule=\"evenodd\" fill-opacity=\"1\"/>\n",
       "<defs>\n",
       "  <clipPath id=\"clip832\">\n",
       "    <rect x=\"147\" y=\"47\" width=\"2206\" height=\"1440\"/>\n",
       "  </clipPath>\n",
       "</defs>\n",
       "<polyline clip-path=\"url(#clip832)\" style=\"stroke:#000000; stroke-linecap:round; stroke-linejoin:round; stroke-width:2; stroke-opacity:0.1; fill:none\" points=\"231.81,1486.45 231.81,47.2441 \"/>\n",
       "<polyline clip-path=\"url(#clip832)\" style=\"stroke:#000000; stroke-linecap:round; stroke-linejoin:round; stroke-width:2; stroke-opacity:0.1; fill:none\" points=\"571.246,1486.45 571.246,47.2441 \"/>\n",
       "<polyline clip-path=\"url(#clip832)\" style=\"stroke:#000000; stroke-linecap:round; stroke-linejoin:round; stroke-width:2; stroke-opacity:0.1; fill:none\" points=\"910.681,1486.45 910.681,47.2441 \"/>\n",
       "<polyline clip-path=\"url(#clip832)\" style=\"stroke:#000000; stroke-linecap:round; stroke-linejoin:round; stroke-width:2; stroke-opacity:0.1; fill:none\" points=\"1250.12,1486.45 1250.12,47.2441 \"/>\n",
       "<polyline clip-path=\"url(#clip832)\" style=\"stroke:#000000; stroke-linecap:round; stroke-linejoin:round; stroke-width:2; stroke-opacity:0.1; fill:none\" points=\"1589.55,1486.45 1589.55,47.2441 \"/>\n",
       "<polyline clip-path=\"url(#clip832)\" style=\"stroke:#000000; stroke-linecap:round; stroke-linejoin:round; stroke-width:2; stroke-opacity:0.1; fill:none\" points=\"1928.99,1486.45 1928.99,47.2441 \"/>\n",
       "<polyline clip-path=\"url(#clip832)\" style=\"stroke:#000000; stroke-linecap:round; stroke-linejoin:round; stroke-width:2; stroke-opacity:0.1; fill:none\" points=\"2268.42,1486.45 2268.42,47.2441 \"/>\n",
       "<polyline clip-path=\"url(#clip832)\" style=\"stroke:#000000; stroke-linecap:round; stroke-linejoin:round; stroke-width:2; stroke-opacity:0.1; fill:none\" points=\"147.478,1445.72 2352.76,1445.72 \"/>\n",
       "<polyline clip-path=\"url(#clip832)\" style=\"stroke:#000000; stroke-linecap:round; stroke-linejoin:round; stroke-width:2; stroke-opacity:0.1; fill:none\" points=\"147.478,1106.28 2352.76,1106.28 \"/>\n",
       "<polyline clip-path=\"url(#clip832)\" style=\"stroke:#000000; stroke-linecap:round; stroke-linejoin:round; stroke-width:2; stroke-opacity:0.1; fill:none\" points=\"147.478,766.847 2352.76,766.847 \"/>\n",
       "<polyline clip-path=\"url(#clip832)\" style=\"stroke:#000000; stroke-linecap:round; stroke-linejoin:round; stroke-width:2; stroke-opacity:0.1; fill:none\" points=\"147.478,427.411 2352.76,427.411 \"/>\n",
       "<polyline clip-path=\"url(#clip832)\" style=\"stroke:#000000; stroke-linecap:round; stroke-linejoin:round; stroke-width:2; stroke-opacity:0.1; fill:none\" points=\"147.478,87.9761 2352.76,87.9761 \"/>\n",
       "<polyline clip-path=\"url(#clip830)\" style=\"stroke:#000000; stroke-linecap:round; stroke-linejoin:round; stroke-width:4; stroke-opacity:1; fill:none\" points=\"147.478,1486.45 2352.76,1486.45 \"/>\n",
       "<polyline clip-path=\"url(#clip830)\" style=\"stroke:#000000; stroke-linecap:round; stroke-linejoin:round; stroke-width:4; stroke-opacity:1; fill:none\" points=\"231.81,1486.45 231.81,1467.55 \"/>\n",
       "<polyline clip-path=\"url(#clip830)\" style=\"stroke:#000000; stroke-linecap:round; stroke-linejoin:round; stroke-width:4; stroke-opacity:1; fill:none\" points=\"571.246,1486.45 571.246,1467.55 \"/>\n",
       "<polyline clip-path=\"url(#clip830)\" style=\"stroke:#000000; stroke-linecap:round; stroke-linejoin:round; stroke-width:4; stroke-opacity:1; fill:none\" points=\"910.681,1486.45 910.681,1467.55 \"/>\n",
       "<polyline clip-path=\"url(#clip830)\" style=\"stroke:#000000; stroke-linecap:round; stroke-linejoin:round; stroke-width:4; stroke-opacity:1; fill:none\" points=\"1250.12,1486.45 1250.12,1467.55 \"/>\n",
       "<polyline clip-path=\"url(#clip830)\" style=\"stroke:#000000; stroke-linecap:round; stroke-linejoin:round; stroke-width:4; stroke-opacity:1; fill:none\" points=\"1589.55,1486.45 1589.55,1467.55 \"/>\n",
       "<polyline clip-path=\"url(#clip830)\" style=\"stroke:#000000; stroke-linecap:round; stroke-linejoin:round; stroke-width:4; stroke-opacity:1; fill:none\" points=\"1928.99,1486.45 1928.99,1467.55 \"/>\n",
       "<polyline clip-path=\"url(#clip830)\" style=\"stroke:#000000; stroke-linecap:round; stroke-linejoin:round; stroke-width:4; stroke-opacity:1; fill:none\" points=\"2268.42,1486.45 2268.42,1467.55 \"/>\n",
       "<path clip-path=\"url(#clip830)\" d=\"M201.278 1532.02 L230.954 1532.02 L230.954 1535.95 L201.278 1535.95 L201.278 1532.02 Z\" fill=\"#000000\" fill-rule=\"nonzero\" fill-opacity=\"1\" /><path clip-path=\"url(#clip830)\" d=\"M255.213 1530.21 Q258.569 1530.93 260.444 1533.2 Q262.343 1535.47 262.343 1538.8 Q262.343 1543.92 258.824 1546.72 Q255.306 1549.52 248.824 1549.52 Q246.648 1549.52 244.333 1549.08 Q242.042 1548.66 239.588 1547.81 L239.588 1543.29 Q241.532 1544.43 243.847 1545.01 Q246.162 1545.58 248.685 1545.58 Q253.083 1545.58 255.375 1543.85 Q257.69 1542.11 257.69 1538.8 Q257.69 1535.75 255.537 1534.03 Q253.407 1532.3 249.588 1532.3 L245.56 1532.3 L245.56 1528.45 L249.773 1528.45 Q253.222 1528.45 255.051 1527.09 Q256.88 1525.7 256.88 1523.11 Q256.88 1520.45 254.981 1519.03 Q253.106 1517.6 249.588 1517.6 Q247.667 1517.6 245.468 1518.01 Q243.269 1518.43 240.63 1519.31 L240.63 1515.14 Q243.292 1514.4 245.607 1514.03 Q247.944 1513.66 250.005 1513.66 Q255.329 1513.66 258.431 1516.09 Q261.532 1518.5 261.532 1522.62 Q261.532 1525.49 259.889 1527.48 Q258.245 1529.45 255.213 1530.21 Z\" fill=\"#000000\" fill-rule=\"nonzero\" fill-opacity=\"1\" /><path clip-path=\"url(#clip830)\" d=\"M541.188 1532.02 L570.864 1532.02 L570.864 1535.95 L541.188 1535.95 L541.188 1532.02 Z\" fill=\"#000000\" fill-rule=\"nonzero\" fill-opacity=\"1\" /><path clip-path=\"url(#clip830)\" d=\"M584.984 1544.91 L601.303 1544.91 L601.303 1548.85 L579.359 1548.85 L579.359 1544.91 Q582.021 1542.16 586.604 1537.53 Q591.211 1532.88 592.391 1531.53 Q594.637 1529.01 595.516 1527.27 Q596.419 1525.51 596.419 1523.82 Q596.419 1521.07 594.475 1519.33 Q592.553 1517.6 589.452 1517.6 Q587.253 1517.6 584.799 1518.36 Q582.368 1519.13 579.591 1520.68 L579.591 1515.95 Q582.415 1514.82 584.868 1514.24 Q587.322 1513.66 589.359 1513.66 Q594.729 1513.66 597.924 1516.35 Q601.118 1519.03 601.118 1523.52 Q601.118 1525.65 600.308 1527.57 Q599.521 1529.47 597.415 1532.07 Q596.836 1532.74 593.734 1535.95 Q590.632 1539.15 584.984 1544.91 Z\" fill=\"#000000\" fill-rule=\"nonzero\" fill-opacity=\"1\" /><path clip-path=\"url(#clip830)\" d=\"M880.438 1532.02 L910.114 1532.02 L910.114 1535.95 L880.438 1535.95 L880.438 1532.02 Z\" fill=\"#000000\" fill-rule=\"nonzero\" fill-opacity=\"1\" /><path clip-path=\"url(#clip830)\" d=\"M921.017 1544.91 L928.656 1544.91 L928.656 1518.55 L920.345 1520.21 L920.345 1515.95 L928.609 1514.29 L933.285 1514.29 L933.285 1544.91 L940.924 1544.91 L940.924 1548.85 L921.017 1548.85 L921.017 1544.91 Z\" fill=\"#000000\" fill-rule=\"nonzero\" fill-opacity=\"1\" /><path clip-path=\"url(#clip830)\" d=\"M1250.12 1517.37 Q1246.51 1517.37 1244.68 1520.93 Q1242.87 1524.47 1242.87 1531.6 Q1242.87 1538.71 1244.68 1542.27 Q1246.51 1545.82 1250.12 1545.82 Q1253.75 1545.82 1255.56 1542.27 Q1257.38 1538.71 1257.38 1531.6 Q1257.38 1524.47 1255.56 1520.93 Q1253.75 1517.37 1250.12 1517.37 M1250.12 1513.66 Q1255.93 1513.66 1258.98 1518.27 Q1262.06 1522.85 1262.06 1531.6 Q1262.06 1540.33 1258.98 1544.94 Q1255.93 1549.52 1250.12 1549.52 Q1244.31 1549.52 1241.23 1544.94 Q1238.17 1540.33 1238.17 1531.6 Q1238.17 1522.85 1241.23 1518.27 Q1244.31 1513.66 1250.12 1513.66 Z\" fill=\"#000000\" fill-rule=\"nonzero\" fill-opacity=\"1\" /><path clip-path=\"url(#clip830)\" d=\"M1579.93 1544.91 L1587.57 1544.91 L1587.57 1518.55 L1579.26 1520.21 L1579.26 1515.95 L1587.53 1514.29 L1592.2 1514.29 L1592.2 1544.91 L1599.84 1544.91 L1599.84 1548.85 L1579.93 1548.85 L1579.93 1544.91 Z\" fill=\"#000000\" fill-rule=\"nonzero\" fill-opacity=\"1\" /><path clip-path=\"url(#clip830)\" d=\"M1923.64 1544.91 L1939.96 1544.91 L1939.96 1548.85 L1918.02 1548.85 L1918.02 1544.91 Q1920.68 1542.16 1925.26 1537.53 Q1929.87 1532.88 1931.05 1531.53 Q1933.29 1529.01 1934.17 1527.27 Q1935.08 1525.51 1935.08 1523.82 Q1935.08 1521.07 1933.13 1519.33 Q1931.21 1517.6 1928.11 1517.6 Q1925.91 1517.6 1923.45 1518.36 Q1921.02 1519.13 1918.25 1520.68 L1918.25 1515.95 Q1921.07 1514.82 1923.52 1514.24 Q1925.98 1513.66 1928.02 1513.66 Q1933.39 1513.66 1936.58 1516.35 Q1939.77 1519.03 1939.77 1523.52 Q1939.77 1525.65 1938.96 1527.57 Q1938.18 1529.47 1936.07 1532.07 Q1935.49 1532.74 1932.39 1535.95 Q1929.29 1539.15 1923.64 1544.91 Z\" fill=\"#000000\" fill-rule=\"nonzero\" fill-opacity=\"1\" /><path clip-path=\"url(#clip830)\" d=\"M2272.67 1530.21 Q2276.03 1530.93 2277.9 1533.2 Q2279.8 1535.47 2279.8 1538.8 Q2279.8 1543.92 2276.28 1546.72 Q2272.76 1549.52 2266.28 1549.52 Q2264.11 1549.52 2261.79 1549.08 Q2259.5 1548.66 2257.05 1547.81 L2257.05 1543.29 Q2258.99 1544.43 2261.3 1545.01 Q2263.62 1545.58 2266.14 1545.58 Q2270.54 1545.58 2272.83 1543.85 Q2275.15 1542.11 2275.15 1538.8 Q2275.15 1535.75 2272.99 1534.03 Q2270.86 1532.3 2267.05 1532.3 L2263.02 1532.3 L2263.02 1528.45 L2267.23 1528.45 Q2270.68 1528.45 2272.51 1527.09 Q2274.34 1525.7 2274.34 1523.11 Q2274.34 1520.45 2272.44 1519.03 Q2270.56 1517.6 2267.05 1517.6 Q2265.12 1517.6 2262.92 1518.01 Q2260.73 1518.43 2258.09 1519.31 L2258.09 1515.14 Q2260.75 1514.4 2263.06 1514.03 Q2265.4 1513.66 2267.46 1513.66 Q2272.79 1513.66 2275.89 1516.09 Q2278.99 1518.5 2278.99 1522.62 Q2278.99 1525.49 2277.35 1527.48 Q2275.7 1529.45 2272.67 1530.21 Z\" fill=\"#000000\" fill-rule=\"nonzero\" fill-opacity=\"1\" /><polyline clip-path=\"url(#clip830)\" style=\"stroke:#000000; stroke-linecap:round; stroke-linejoin:round; stroke-width:4; stroke-opacity:1; fill:none\" points=\"147.478,1486.45 147.478,47.2441 \"/>\n",
       "<polyline clip-path=\"url(#clip830)\" style=\"stroke:#000000; stroke-linecap:round; stroke-linejoin:round; stroke-width:4; stroke-opacity:1; fill:none\" points=\"147.478,1445.72 166.376,1445.72 \"/>\n",
       "<polyline clip-path=\"url(#clip830)\" style=\"stroke:#000000; stroke-linecap:round; stroke-linejoin:round; stroke-width:4; stroke-opacity:1; fill:none\" points=\"147.478,1106.28 166.376,1106.28 \"/>\n",
       "<polyline clip-path=\"url(#clip830)\" style=\"stroke:#000000; stroke-linecap:round; stroke-linejoin:round; stroke-width:4; stroke-opacity:1; fill:none\" points=\"147.478,766.847 166.376,766.847 \"/>\n",
       "<polyline clip-path=\"url(#clip830)\" style=\"stroke:#000000; stroke-linecap:round; stroke-linejoin:round; stroke-width:4; stroke-opacity:1; fill:none\" points=\"147.478,427.411 166.376,427.411 \"/>\n",
       "<polyline clip-path=\"url(#clip830)\" style=\"stroke:#000000; stroke-linecap:round; stroke-linejoin:round; stroke-width:4; stroke-opacity:1; fill:none\" points=\"147.478,87.9761 166.376,87.9761 \"/>\n",
       "<path clip-path=\"url(#clip830)\" d=\"M51.3625 1446.17 L81.0383 1446.17 L81.0383 1450.1 L51.3625 1450.1 L51.3625 1446.17 Z\" fill=\"#000000\" fill-rule=\"nonzero\" fill-opacity=\"1\" /><path clip-path=\"url(#clip830)\" d=\"M95.1586 1459.06 L111.478 1459.06 L111.478 1463 L89.5336 1463 L89.5336 1459.06 Q92.1956 1456.31 96.7789 1451.68 Q101.385 1447.03 102.566 1445.68 Q104.811 1443.16 105.691 1441.42 Q106.594 1439.66 106.594 1437.97 Q106.594 1435.22 104.649 1433.48 Q102.728 1431.75 99.6261 1431.75 Q97.4271 1431.75 94.9734 1432.51 Q92.5428 1433.28 89.7651 1434.83 L89.7651 1430.1 Q92.5891 1428.97 95.0428 1428.39 Q97.4965 1427.81 99.5335 1427.81 Q104.904 1427.81 108.098 1430.5 Q111.293 1433.18 111.293 1437.67 Q111.293 1439.8 110.483 1441.72 Q109.696 1443.62 107.589 1446.22 Q107.01 1446.89 103.909 1450.1 Q100.807 1453.3 95.1586 1459.06 Z\" fill=\"#000000\" fill-rule=\"nonzero\" fill-opacity=\"1\" /><path clip-path=\"url(#clip830)\" d=\"M50.9921 1106.73 L80.6679 1106.73 L80.6679 1110.67 L50.9921 1110.67 L50.9921 1106.73 Z\" fill=\"#000000\" fill-rule=\"nonzero\" fill-opacity=\"1\" /><path clip-path=\"url(#clip830)\" d=\"M91.5706 1119.63 L99.2095 1119.63 L99.2095 1093.26 L90.8993 1094.93 L90.8993 1090.67 L99.1632 1089 L103.839 1089 L103.839 1119.63 L111.478 1119.63 L111.478 1123.56 L91.5706 1123.56 L91.5706 1119.63 Z\" fill=\"#000000\" fill-rule=\"nonzero\" fill-opacity=\"1\" /><path clip-path=\"url(#clip830)\" d=\"M99.5335 752.646 Q95.9224 752.646 94.0937 756.21 Q92.2882 759.752 92.2882 766.882 Q92.2882 773.988 94.0937 777.553 Q95.9224 781.094 99.5335 781.094 Q103.168 781.094 104.973 777.553 Q106.802 773.988 106.802 766.882 Q106.802 759.752 104.973 756.21 Q103.168 752.646 99.5335 752.646 M99.5335 748.942 Q105.344 748.942 108.399 753.548 Q111.478 758.132 111.478 766.882 Q111.478 775.608 108.399 780.215 Q105.344 784.798 99.5335 784.798 Q93.7234 784.798 90.6447 780.215 Q87.5892 775.608 87.5892 766.882 Q87.5892 758.132 90.6447 753.548 Q93.7234 748.942 99.5335 748.942 Z\" fill=\"#000000\" fill-rule=\"nonzero\" fill-opacity=\"1\" /><path clip-path=\"url(#clip830)\" d=\"M91.5706 440.756 L99.2095 440.756 L99.2095 414.391 L90.8993 416.057 L90.8993 411.798 L99.1632 410.131 L103.839 410.131 L103.839 440.756 L111.478 440.756 L111.478 444.691 L91.5706 444.691 L91.5706 440.756 Z\" fill=\"#000000\" fill-rule=\"nonzero\" fill-opacity=\"1\" /><path clip-path=\"url(#clip830)\" d=\"M95.1586 101.321 L111.478 101.321 L111.478 105.256 L89.5336 105.256 L89.5336 101.321 Q92.1956 98.5663 96.7789 93.9367 Q101.385 89.2839 102.566 87.9413 Q104.811 85.4182 105.691 83.6821 Q106.594 81.9229 106.594 80.233 Q106.594 77.4784 104.649 75.7423 Q102.728 74.0062 99.6261 74.0062 Q97.4271 74.0062 94.9734 74.7701 Q92.5428 75.534 89.7651 77.0849 L89.7651 72.3627 Q92.5891 71.2285 95.0428 70.6498 Q97.4965 70.0711 99.5335 70.0711 Q104.904 70.0711 108.098 72.7562 Q111.293 75.4414 111.293 79.9321 Q111.293 82.0617 110.483 83.983 Q109.696 85.8812 107.589 88.4737 Q107.01 89.145 103.909 92.3626 Q100.807 95.557 95.1586 101.321 Z\" fill=\"#000000\" fill-rule=\"nonzero\" fill-opacity=\"1\" /><polyline clip-path=\"url(#clip832)\" style=\"stroke:#009af9; stroke-linecap:round; stroke-linejoin:round; stroke-width:4; stroke-opacity:1; fill:none\" points=\"1928.99,766.847 1928.95,760.058 1928.85,753.27 1928.68,746.484 1928.44,739.699 1928.14,732.917 1927.77,726.139 1927.32,719.365 1926.82,712.595 1926.24,705.831 1925.6,699.073 1924.88,692.322 1924.11,685.578 1923.26,678.842 1922.35,672.115 1921.36,665.398 1920.32,658.69 1919.2,651.994 1918.02,645.309 1916.77,638.636 1915.46,631.976 1914.07,625.33 1912.62,618.697 1911.11,612.08 1909.53,605.477 1907.88,598.892 1906.17,592.322 1904.39,585.771 1902.55,579.237 1900.64,572.722 1898.67,566.227 1896.63,559.751 1894.52,553.297 1892.36,546.864 1890.13,540.452 1887.83,534.064 1885.47,527.698 1883.05,521.357 1880.56,515.04 1878.01,508.748 1875.4,502.482 1872.72,496.243 1869.99,490.03 1867.19,483.845 1864.33,477.689 1861.4,471.561 1858.42,465.463 1855.38,459.396 1852.27,453.358 1849.11,447.353 1845.88,441.379 1842.6,435.438 1839.25,429.529 1835.85,423.655 1832.39,417.815 1828.87,412.01 1825.29,406.24 1821.66,400.506 1817.97,394.809 1814.22,389.15 1810.41,383.528 1806.55,377.944 1802.63,372.399 1798.66,366.894 1794.64,361.428 1790.55,356.003 1786.42,350.62 1782.23,345.278 1777.99,339.978 1773.69,334.72 1769.35,329.506 1764.95,324.336 1760.5,319.21 1755.99,314.129 1751.44,309.092 1746.84,304.102 1742.19,299.158 1737.49,294.261 1732.73,289.411 1727.94,284.609 1723.09,279.855 1718.2,275.149 1713.26,270.493 1708.27,265.887 1703.24,261.33 1698.16,256.825 1693.04,252.37 1687.87,247.966 1682.66,243.615 1677.41,239.316 1672.11,235.069 1666.77,230.876 1661.39,226.736 1655.97,222.65 1650.51,218.619 1645,214.643 1639.46,210.722 1633.88,206.856 1628.26,203.046 1622.61,199.293 1616.91,195.597 1611.18,191.957 1605.41,188.376 1599.61,184.852 1593.77,181.386 1587.9,177.979 1582,174.63 1576.06,171.341 1570.09,168.111 1564.08,164.942 1558.05,161.832 1551.98,158.783 1545.89,155.795 1539.76,152.868 1533.61,150.002 1527.43,147.198 1521.22,144.456 1514.98,141.776 1508.72,139.159 1502.43,136.604 1496.11,134.113 1489.77,131.684 1483.41,129.32 1477.02,127.019 1470.61,124.782 1464.18,122.609 1457.73,120.501 1451.25,118.457 1444.76,116.478 1438.25,114.564 1431.71,112.715 1425.16,110.932 1418.6,109.214 1412.01,107.563 1405.41,105.977 1398.79,104.457 1392.16,103.003 1385.52,101.616 1378.86,100.295 1372.19,99.0411 1365.5,97.8538 1358.81,96.7334 1352.1,95.68 1345.38,94.6938 1338.66,93.7747 1331.92,92.923 1325.18,92.1387 1318.43,91.4218 1311.67,90.7724 1304.91,90.1907 1298.14,89.6766 1291.36,89.2303 1284.59,88.8517 1277.8,88.5409 1271.02,88.298 1264.23,88.1229 1257.45,88.0156 1250.66,87.9763 1243.87,88.0048 1237.08,88.1012 1230.29,88.2655 1223.51,88.4977 1216.73,88.7977 1209.95,89.1655 1203.17,89.601 1196.4,90.1043 1189.64,90.6753 1182.88,91.3138 1176.13,92.02 1169.38,92.7936 1162.65,93.6346 1155.92,94.5429 1149.2,95.5185 1142.49,96.5612 1135.8,97.6709 1129.11,98.8475 1122.44,100.091 1115.78,101.401 1109.13,102.778 1102.49,104.221 1095.88,105.73 1089.27,107.306 1082.69,108.947 1076.11,110.654 1069.56,112.427 1063.03,114.265 1056.51,116.169 1050.01,118.137 1043.54,120.171 1037.08,122.269 1030.64,124.431 1024.23,126.658 1017.84,128.949 1011.47,131.304 1005.13,133.722 998.812,136.203 992.518,138.748 986.25,141.355 980.008,144.025 973.794,146.757 967.607,149.551 961.448,152.407 955.318,155.325 949.218,158.303 943.147,161.343 937.108,164.442 931.099,167.603 925.123,170.823 919.179,174.102 913.268,177.441 907.391,180.839 901.548,184.296 895.74,187.81 889.968,191.383 884.231,195.013 878.531,198.701 872.869,202.445 867.244,206.246 861.657,210.102 856.109,214.015 850.6,217.982 845.132,222.005 839.704,226.082 834.317,230.213 828.971,234.398 823.668,238.636 818.407,242.927 813.19,247.27 808.016,251.665 802.886,256.112 797.801,260.609 792.761,265.158 787.768,269.756 782.82,274.405 777.919,279.102 773.065,283.848 768.259,288.643 763.501,293.485 758.792,298.375 754.132,303.312 749.521,308.295 744.961,313.323 740.451,318.398 735.992,323.517 731.585,328.68 727.229,333.887 722.926,339.137 718.675,344.431 714.477,349.766 710.333,355.143 706.243,360.562 702.208,366.021 698.227,371.52 694.301,377.058 690.431,382.636 686.617,388.252 682.86,393.905 679.159,399.597 675.515,405.324 671.928,411.088 668.4,416.888 664.929,422.723 661.517,428.592 658.164,434.494 654.87,440.43 651.636,446.399 648.462,452.4 645.347,458.432 642.293,464.495 639.3,470.588 636.368,476.711 633.498,482.863 630.689,489.043 627.942,495.251 625.257,501.487 622.635,507.748 620.075,514.036 617.578,520.349 615.145,526.687 612.775,533.048 610.469,539.433 608.227,545.841 606.049,552.271 603.936,558.722 601.887,565.194 599.903,571.686 597.984,578.198 596.13,584.729 594.341,591.278 592.618,597.844 590.961,604.427 589.37,611.027 587.845,617.642 586.386,624.272 584.994,630.917 583.668,637.574 582.408,644.245 581.216,650.928 580.09,657.623 579.031,664.329 578.039,671.045 577.115,677.77 576.258,684.504 575.468,691.247 574.746,697.997 574.091,704.754 573.504,711.517 572.985,718.286 572.533,725.06 572.149,731.838 571.833,738.619 571.584,745.403 571.404,752.189 571.291,758.977 571.247,765.766 571.27,772.554 571.361,779.342 571.52,786.129 571.746,792.914 572.041,799.696 572.403,806.475 572.833,813.25 573.331,820.021 573.897,826.786 574.53,833.545 575.231,840.297 575.999,847.042 576.835,853.779 577.738,860.508 578.708,867.227 579.745,873.936 580.85,880.634 582.021,887.321 583.259,893.996 584.564,900.658 585.935,907.307 587.373,913.941 588.877,920.561 590.447,927.166 592.083,933.754 593.785,940.326 595.553,946.881 597.386,953.417 599.284,959.935 601.248,966.434 603.276,972.912 605.369,979.37 607.526,985.807 609.748,992.222 612.034,998.614 614.383,1004.98 616.797,1011.33 619.273,1017.65 621.812,1023.95 624.415,1030.22 627.08,1036.46 629.807,1042.68 632.596,1048.87 635.447,1055.03 638.36,1061.16 641.333,1067.26 644.368,1073.33 647.463,1079.38 650.618,1085.39 653.834,1091.37 657.109,1097.31 660.443,1103.23 663.836,1109.11 667.288,1114.95 670.798,1120.76 674.366,1126.54 677.992,1132.28 681.675,1137.98 685.414,1143.65 689.21,1149.27 693.063,1154.86 696.971,1160.41 700.934,1165.93 704.952,1171.4 709.025,1176.83 713.152,1182.22 717.332,1187.57 721.566,1192.87 725.853,1198.14 730.192,1203.36 734.583,1208.54 739.025,1213.67 743.519,1218.76 748.063,1223.8 752.658,1228.8 757.302,1233.75 761.996,1238.66 766.738,1243.51 771.529,1248.32 776.368,1253.09 781.254,1257.8 786.187,1262.46 791.166,1267.08 796.191,1271.64 801.261,1276.15 806.377,1280.62 811.537,1285.03 816.74,1289.39 821.987,1293.7 827.277,1297.95 832.609,1302.15 837.983,1306.3 843.398,1310.4 848.854,1314.44 854.35,1318.42 859.885,1322.35 865.46,1326.23 871.073,1330.04 876.724,1333.81 882.412,1337.51 888.137,1341.16 893.898,1344.75 899.695,1348.28 905.526,1351.76 911.393,1355.18 917.293,1358.53 923.226,1361.83 929.192,1365.07 935.19,1368.25 941.22,1371.37 947.281,1374.43 953.372,1377.43 959.492,1380.36 965.642,1383.24 971.82,1386.05 978.026,1388.81 984.259,1391.49 990.518,1394.12 996.804,1396.69 1003.11,1399.19 1009.45,1401.63 1015.81,1404 1022.19,1406.31 1028.6,1408.56 1035.03,1410.74 1041.48,1412.86 1047.95,1414.92 1054.44,1416.91 1060.95,1418.83 1067.48,1420.69 1074.03,1422.48 1080.59,1424.21 1087.17,1425.87 1093.77,1427.47 1100.38,1429 1107.01,1430.46 1113.66,1431.86 1120.31,1433.19 1126.98,1434.46 1133.67,1435.66 1140.36,1436.79 1147.06,1437.85 1153.78,1438.85 1160.5,1439.78 1167.24,1440.64 1173.98,1441.43 1180.73,1442.16 1187.49,1442.82 1194.25,1443.41 1201.02,1443.94 1207.79,1444.4 1214.57,1444.79 1221.35,1445.11 1228.13,1445.36 1234.92,1445.55 1241.71,1445.67 1248.49,1445.72 1255.28,1445.7 1262.07,1445.61 1268.86,1445.46 1275.64,1445.24 1282.43,1444.95 1289.21,1444.59 1295.98,1444.17 1302.75,1443.67 1309.52,1443.11 1316.28,1442.49 1323.03,1441.79 1329.78,1441.03 1336.51,1440.2 1343.24,1439.3 1349.96,1438.34 1356.67,1437.3 1363.37,1436.2 1370.06,1435.04 1376.73,1433.81 1383.4,1432.51 1390.05,1431.14 1396.68,1429.71 1403.3,1428.21 1409.91,1426.64 1416.5,1425.01 1423.07,1423.32 1429.63,1421.55 1436.17,1419.73 1442.69,1417.83 1449.19,1415.87 1455.67,1413.85 1462.13,1411.76 1468.56,1409.61 1474.98,1407.39 1481.38,1405.11 1487.75,1402.77 1494.09,1400.36 1500.42,1397.89 1506.71,1395.36 1512.99,1392.76 1519.23,1390.1 1525.45,1387.38 1531.64,1384.59 1537.81,1381.75 1543.94,1378.84 1550.05,1375.87 1556.12,1372.84 1562.17,1369.75 1568.18,1366.6 1574.16,1363.39 1580.11,1360.12 1586.03,1356.79 1591.91,1353.4 1597.76,1349.95 1603.57,1346.45 1609.35,1342.88 1615.09,1339.26 1620.8,1335.58 1626.47,1331.85 1632.1,1328.06 1637.69,1324.21 1643.24,1320.31 1648.76,1316.35 1654.23,1312.33 1659.67,1308.26 1665.06,1304.14 1670.41,1299.97 1675.72,1295.74 1680.99,1291.45 1686.22,1287.12 1691.4,1282.73 1696.53,1278.29 1701.62,1273.8 1706.67,1269.26 1711.67,1264.67 1716.63,1260.03 1721.54,1255.34 1726.4,1250.6 1731.21,1245.82 1735.98,1240.98 1740.69,1236.1 1745.36,1231.17 1749.98,1226.2 1754.55,1221.17 1759.07,1216.11 1763.53,1211 1767.95,1205.84 1772.31,1200.64 1776.63,1195.4 1780.88,1190.11 1785.09,1184.78 1789.24,1179.41 1793.34,1174 1797.39,1168.55 1801.38,1163.05 1805.31,1157.52 1809.19,1151.95 1813.01,1146.34 1816.78,1140.69 1820.49,1135.01 1824.14,1129.28 1827.74,1123.53 1831.28,1117.73 1834.75,1111.9 1838.18,1106.04 1841.54,1100.14 1844.84,1094.21 1848.09,1088.25 1851.27,1082.25 1854.39,1076.22 1857.46,1070.17 1860.46,1064.08 1863.4,1057.96 1866.28,1051.81 1869.1,1045.64 1871.86,1039.43 1874.55,1033.2 1877.18,1026.94 1879.75,1020.66 1882.26,1014.35 1884.7,1008.02 1887.08,1001.66 1889.4,995.279 1891.65,988.875 1893.84,982.448 1895.96,976.001 1898.02,969.532 1900.02,963.043 1901.95,956.534 1903.81,950.006 1905.61,943.46 1907.34,936.896 1909.01,930.316 1910.61,923.719 1912.15,917.106 1913.62,910.478 1915.02,903.836 1916.36,897.18 1917.63,890.512 1918.83,883.83 1919.97,877.138 1921.04,870.434 1922.04,863.719 1922.98,856.995 1923.84,850.262 1924.64,843.521 1925.38,836.772 1926.04,830.016 1926.64,823.254 1927.17,816.486 1927.63,809.713 1928.03,802.936 1928.35,796.155 1928.61,789.371 1928.8,782.585 1928.93,775.798 1928.98,769.009 \"/>\n",
       "<path clip-path=\"url(#clip830)\" d=\"M2006.29 1438.47 L2279.25 1438.47 L2279.25 1334.79 L2006.29 1334.79  Z\" fill=\"#ffffff\" fill-rule=\"evenodd\" fill-opacity=\"1\"/>\n",
       "<polyline clip-path=\"url(#clip830)\" style=\"stroke:#000000; stroke-linecap:round; stroke-linejoin:round; stroke-width:4; stroke-opacity:1; fill:none\" points=\"2006.29,1438.47 2279.25,1438.47 2279.25,1334.79 2006.29,1334.79 2006.29,1438.47 \"/>\n",
       "<polyline clip-path=\"url(#clip830)\" style=\"stroke:#009af9; stroke-linecap:round; stroke-linejoin:round; stroke-width:4; stroke-opacity:1; fill:none\" points=\"2030.79,1386.63 2177.81,1386.63 \"/>\n",
       "<path clip-path=\"url(#clip830)\" d=\"M2216.16 1406.32 Q2214.35 1410.95 2212.64 1412.36 Q2210.92 1413.78 2208.05 1413.78 L2204.65 1413.78 L2204.65 1410.21 L2207.15 1410.21 Q2208.91 1410.21 2209.88 1409.38 Q2210.85 1408.54 2212.04 1405.44 L2212.8 1403.5 L2202.31 1377.99 L2206.83 1377.99 L2214.93 1398.27 L2223.03 1377.99 L2227.54 1377.99 L2216.16 1406.32 Z\" fill=\"#000000\" fill-rule=\"nonzero\" fill-opacity=\"1\" /><path clip-path=\"url(#clip830)\" d=\"M2234.84 1399.98 L2242.48 1399.98 L2242.48 1373.61 L2234.16 1375.28 L2234.16 1371.02 L2242.43 1369.35 L2247.1 1369.35 L2247.1 1399.98 L2254.74 1399.98 L2254.74 1403.91 L2234.84 1403.91 L2234.84 1399.98 Z\" fill=\"#000000\" fill-rule=\"nonzero\" fill-opacity=\"1\" /></svg>\n"
      ],
      "text/html": [
       "<?xml version=\"1.0\" encoding=\"utf-8\"?>\n",
       "<svg xmlns=\"http://www.w3.org/2000/svg\" xmlns:xlink=\"http://www.w3.org/1999/xlink\" width=\"600\" height=\"400\" viewBox=\"0 0 2400 1600\">\n",
       "<defs>\n",
       "  <clipPath id=\"clip880\">\n",
       "    <rect x=\"0\" y=\"0\" width=\"2400\" height=\"1600\"/>\n",
       "  </clipPath>\n",
       "</defs>\n",
       "<path clip-path=\"url(#clip880)\" d=\"M0 1600 L2400 1600 L2400 0 L0 0  Z\" fill=\"#ffffff\" fill-rule=\"evenodd\" fill-opacity=\"1\"/>\n",
       "<defs>\n",
       "  <clipPath id=\"clip881\">\n",
       "    <rect x=\"480\" y=\"0\" width=\"1681\" height=\"1600\"/>\n",
       "  </clipPath>\n",
       "</defs>\n",
       "<path clip-path=\"url(#clip880)\" d=\"M147.478 1486.45 L2352.76 1486.45 L2352.76 47.2441 L147.478 47.2441  Z\" fill=\"#ffffff\" fill-rule=\"evenodd\" fill-opacity=\"1\"/>\n",
       "<defs>\n",
       "  <clipPath id=\"clip882\">\n",
       "    <rect x=\"147\" y=\"47\" width=\"2206\" height=\"1440\"/>\n",
       "  </clipPath>\n",
       "</defs>\n",
       "<polyline clip-path=\"url(#clip882)\" style=\"stroke:#000000; stroke-linecap:round; stroke-linejoin:round; stroke-width:2; stroke-opacity:0.1; fill:none\" points=\"231.81,1486.45 231.81,47.2441 \"/>\n",
       "<polyline clip-path=\"url(#clip882)\" style=\"stroke:#000000; stroke-linecap:round; stroke-linejoin:round; stroke-width:2; stroke-opacity:0.1; fill:none\" points=\"571.246,1486.45 571.246,47.2441 \"/>\n",
       "<polyline clip-path=\"url(#clip882)\" style=\"stroke:#000000; stroke-linecap:round; stroke-linejoin:round; stroke-width:2; stroke-opacity:0.1; fill:none\" points=\"910.681,1486.45 910.681,47.2441 \"/>\n",
       "<polyline clip-path=\"url(#clip882)\" style=\"stroke:#000000; stroke-linecap:round; stroke-linejoin:round; stroke-width:2; stroke-opacity:0.1; fill:none\" points=\"1250.12,1486.45 1250.12,47.2441 \"/>\n",
       "<polyline clip-path=\"url(#clip882)\" style=\"stroke:#000000; stroke-linecap:round; stroke-linejoin:round; stroke-width:2; stroke-opacity:0.1; fill:none\" points=\"1589.55,1486.45 1589.55,47.2441 \"/>\n",
       "<polyline clip-path=\"url(#clip882)\" style=\"stroke:#000000; stroke-linecap:round; stroke-linejoin:round; stroke-width:2; stroke-opacity:0.1; fill:none\" points=\"1928.99,1486.45 1928.99,47.2441 \"/>\n",
       "<polyline clip-path=\"url(#clip882)\" style=\"stroke:#000000; stroke-linecap:round; stroke-linejoin:round; stroke-width:2; stroke-opacity:0.1; fill:none\" points=\"2268.42,1486.45 2268.42,47.2441 \"/>\n",
       "<polyline clip-path=\"url(#clip882)\" style=\"stroke:#000000; stroke-linecap:round; stroke-linejoin:round; stroke-width:2; stroke-opacity:0.1; fill:none\" points=\"147.478,1445.72 2352.76,1445.72 \"/>\n",
       "<polyline clip-path=\"url(#clip882)\" style=\"stroke:#000000; stroke-linecap:round; stroke-linejoin:round; stroke-width:2; stroke-opacity:0.1; fill:none\" points=\"147.478,1106.28 2352.76,1106.28 \"/>\n",
       "<polyline clip-path=\"url(#clip882)\" style=\"stroke:#000000; stroke-linecap:round; stroke-linejoin:round; stroke-width:2; stroke-opacity:0.1; fill:none\" points=\"147.478,766.847 2352.76,766.847 \"/>\n",
       "<polyline clip-path=\"url(#clip882)\" style=\"stroke:#000000; stroke-linecap:round; stroke-linejoin:round; stroke-width:2; stroke-opacity:0.1; fill:none\" points=\"147.478,427.411 2352.76,427.411 \"/>\n",
       "<polyline clip-path=\"url(#clip882)\" style=\"stroke:#000000; stroke-linecap:round; stroke-linejoin:round; stroke-width:2; stroke-opacity:0.1; fill:none\" points=\"147.478,87.9761 2352.76,87.9761 \"/>\n",
       "<polyline clip-path=\"url(#clip880)\" style=\"stroke:#000000; stroke-linecap:round; stroke-linejoin:round; stroke-width:4; stroke-opacity:1; fill:none\" points=\"147.478,1486.45 2352.76,1486.45 \"/>\n",
       "<polyline clip-path=\"url(#clip880)\" style=\"stroke:#000000; stroke-linecap:round; stroke-linejoin:round; stroke-width:4; stroke-opacity:1; fill:none\" points=\"231.81,1486.45 231.81,1467.55 \"/>\n",
       "<polyline clip-path=\"url(#clip880)\" style=\"stroke:#000000; stroke-linecap:round; stroke-linejoin:round; stroke-width:4; stroke-opacity:1; fill:none\" points=\"571.246,1486.45 571.246,1467.55 \"/>\n",
       "<polyline clip-path=\"url(#clip880)\" style=\"stroke:#000000; stroke-linecap:round; stroke-linejoin:round; stroke-width:4; stroke-opacity:1; fill:none\" points=\"910.681,1486.45 910.681,1467.55 \"/>\n",
       "<polyline clip-path=\"url(#clip880)\" style=\"stroke:#000000; stroke-linecap:round; stroke-linejoin:round; stroke-width:4; stroke-opacity:1; fill:none\" points=\"1250.12,1486.45 1250.12,1467.55 \"/>\n",
       "<polyline clip-path=\"url(#clip880)\" style=\"stroke:#000000; stroke-linecap:round; stroke-linejoin:round; stroke-width:4; stroke-opacity:1; fill:none\" points=\"1589.55,1486.45 1589.55,1467.55 \"/>\n",
       "<polyline clip-path=\"url(#clip880)\" style=\"stroke:#000000; stroke-linecap:round; stroke-linejoin:round; stroke-width:4; stroke-opacity:1; fill:none\" points=\"1928.99,1486.45 1928.99,1467.55 \"/>\n",
       "<polyline clip-path=\"url(#clip880)\" style=\"stroke:#000000; stroke-linecap:round; stroke-linejoin:round; stroke-width:4; stroke-opacity:1; fill:none\" points=\"2268.42,1486.45 2268.42,1467.55 \"/>\n",
       "<path clip-path=\"url(#clip880)\" d=\"M201.278 1532.02 L230.954 1532.02 L230.954 1535.95 L201.278 1535.95 L201.278 1532.02 Z\" fill=\"#000000\" fill-rule=\"nonzero\" fill-opacity=\"1\" /><path clip-path=\"url(#clip880)\" d=\"M255.213 1530.21 Q258.569 1530.93 260.444 1533.2 Q262.343 1535.47 262.343 1538.8 Q262.343 1543.92 258.824 1546.72 Q255.306 1549.52 248.824 1549.52 Q246.648 1549.52 244.333 1549.08 Q242.042 1548.66 239.588 1547.81 L239.588 1543.29 Q241.532 1544.43 243.847 1545.01 Q246.162 1545.58 248.685 1545.58 Q253.083 1545.58 255.375 1543.85 Q257.69 1542.11 257.69 1538.8 Q257.69 1535.75 255.537 1534.03 Q253.407 1532.3 249.588 1532.3 L245.56 1532.3 L245.56 1528.45 L249.773 1528.45 Q253.222 1528.45 255.051 1527.09 Q256.88 1525.7 256.88 1523.11 Q256.88 1520.45 254.981 1519.03 Q253.106 1517.6 249.588 1517.6 Q247.667 1517.6 245.468 1518.01 Q243.269 1518.43 240.63 1519.31 L240.63 1515.14 Q243.292 1514.4 245.607 1514.03 Q247.944 1513.66 250.005 1513.66 Q255.329 1513.66 258.431 1516.09 Q261.532 1518.5 261.532 1522.62 Q261.532 1525.49 259.889 1527.48 Q258.245 1529.45 255.213 1530.21 Z\" fill=\"#000000\" fill-rule=\"nonzero\" fill-opacity=\"1\" /><path clip-path=\"url(#clip880)\" d=\"M541.188 1532.02 L570.864 1532.02 L570.864 1535.95 L541.188 1535.95 L541.188 1532.02 Z\" fill=\"#000000\" fill-rule=\"nonzero\" fill-opacity=\"1\" /><path clip-path=\"url(#clip880)\" d=\"M584.984 1544.91 L601.303 1544.91 L601.303 1548.85 L579.359 1548.85 L579.359 1544.91 Q582.021 1542.16 586.604 1537.53 Q591.211 1532.88 592.391 1531.53 Q594.637 1529.01 595.516 1527.27 Q596.419 1525.51 596.419 1523.82 Q596.419 1521.07 594.475 1519.33 Q592.553 1517.6 589.452 1517.6 Q587.253 1517.6 584.799 1518.36 Q582.368 1519.13 579.591 1520.68 L579.591 1515.95 Q582.415 1514.82 584.868 1514.24 Q587.322 1513.66 589.359 1513.66 Q594.729 1513.66 597.924 1516.35 Q601.118 1519.03 601.118 1523.52 Q601.118 1525.65 600.308 1527.57 Q599.521 1529.47 597.415 1532.07 Q596.836 1532.74 593.734 1535.95 Q590.632 1539.15 584.984 1544.91 Z\" fill=\"#000000\" fill-rule=\"nonzero\" fill-opacity=\"1\" /><path clip-path=\"url(#clip880)\" d=\"M880.438 1532.02 L910.114 1532.02 L910.114 1535.95 L880.438 1535.95 L880.438 1532.02 Z\" fill=\"#000000\" fill-rule=\"nonzero\" fill-opacity=\"1\" /><path clip-path=\"url(#clip880)\" d=\"M921.017 1544.91 L928.656 1544.91 L928.656 1518.55 L920.345 1520.21 L920.345 1515.95 L928.609 1514.29 L933.285 1514.29 L933.285 1544.91 L940.924 1544.91 L940.924 1548.85 L921.017 1548.85 L921.017 1544.91 Z\" fill=\"#000000\" fill-rule=\"nonzero\" fill-opacity=\"1\" /><path clip-path=\"url(#clip880)\" d=\"M1250.12 1517.37 Q1246.51 1517.37 1244.68 1520.93 Q1242.87 1524.47 1242.87 1531.6 Q1242.87 1538.71 1244.68 1542.27 Q1246.51 1545.82 1250.12 1545.82 Q1253.75 1545.82 1255.56 1542.27 Q1257.38 1538.71 1257.38 1531.6 Q1257.38 1524.47 1255.56 1520.93 Q1253.75 1517.37 1250.12 1517.37 M1250.12 1513.66 Q1255.93 1513.66 1258.98 1518.27 Q1262.06 1522.85 1262.06 1531.6 Q1262.06 1540.33 1258.98 1544.94 Q1255.93 1549.52 1250.12 1549.52 Q1244.31 1549.52 1241.23 1544.94 Q1238.17 1540.33 1238.17 1531.6 Q1238.17 1522.85 1241.23 1518.27 Q1244.31 1513.66 1250.12 1513.66 Z\" fill=\"#000000\" fill-rule=\"nonzero\" fill-opacity=\"1\" /><path clip-path=\"url(#clip880)\" d=\"M1579.93 1544.91 L1587.57 1544.91 L1587.57 1518.55 L1579.26 1520.21 L1579.26 1515.95 L1587.53 1514.29 L1592.2 1514.29 L1592.2 1544.91 L1599.84 1544.91 L1599.84 1548.85 L1579.93 1548.85 L1579.93 1544.91 Z\" fill=\"#000000\" fill-rule=\"nonzero\" fill-opacity=\"1\" /><path clip-path=\"url(#clip880)\" d=\"M1923.64 1544.91 L1939.96 1544.91 L1939.96 1548.85 L1918.02 1548.85 L1918.02 1544.91 Q1920.68 1542.16 1925.26 1537.53 Q1929.87 1532.88 1931.05 1531.53 Q1933.29 1529.01 1934.17 1527.27 Q1935.08 1525.51 1935.08 1523.82 Q1935.08 1521.07 1933.13 1519.33 Q1931.21 1517.6 1928.11 1517.6 Q1925.91 1517.6 1923.45 1518.36 Q1921.02 1519.13 1918.25 1520.68 L1918.25 1515.95 Q1921.07 1514.82 1923.52 1514.24 Q1925.98 1513.66 1928.02 1513.66 Q1933.39 1513.66 1936.58 1516.35 Q1939.77 1519.03 1939.77 1523.52 Q1939.77 1525.65 1938.96 1527.57 Q1938.18 1529.47 1936.07 1532.07 Q1935.49 1532.74 1932.39 1535.95 Q1929.29 1539.15 1923.64 1544.91 Z\" fill=\"#000000\" fill-rule=\"nonzero\" fill-opacity=\"1\" /><path clip-path=\"url(#clip880)\" d=\"M2272.67 1530.21 Q2276.03 1530.93 2277.9 1533.2 Q2279.8 1535.47 2279.8 1538.8 Q2279.8 1543.92 2276.28 1546.72 Q2272.76 1549.52 2266.28 1549.52 Q2264.11 1549.52 2261.79 1549.08 Q2259.5 1548.66 2257.05 1547.81 L2257.05 1543.29 Q2258.99 1544.43 2261.3 1545.01 Q2263.62 1545.58 2266.14 1545.58 Q2270.54 1545.58 2272.83 1543.85 Q2275.15 1542.11 2275.15 1538.8 Q2275.15 1535.75 2272.99 1534.03 Q2270.86 1532.3 2267.05 1532.3 L2263.02 1532.3 L2263.02 1528.45 L2267.23 1528.45 Q2270.68 1528.45 2272.51 1527.09 Q2274.34 1525.7 2274.34 1523.11 Q2274.34 1520.45 2272.44 1519.03 Q2270.56 1517.6 2267.05 1517.6 Q2265.12 1517.6 2262.92 1518.01 Q2260.73 1518.43 2258.09 1519.31 L2258.09 1515.14 Q2260.75 1514.4 2263.06 1514.03 Q2265.4 1513.66 2267.46 1513.66 Q2272.79 1513.66 2275.89 1516.09 Q2278.99 1518.5 2278.99 1522.62 Q2278.99 1525.49 2277.35 1527.48 Q2275.7 1529.45 2272.67 1530.21 Z\" fill=\"#000000\" fill-rule=\"nonzero\" fill-opacity=\"1\" /><polyline clip-path=\"url(#clip880)\" style=\"stroke:#000000; stroke-linecap:round; stroke-linejoin:round; stroke-width:4; stroke-opacity:1; fill:none\" points=\"147.478,1486.45 147.478,47.2441 \"/>\n",
       "<polyline clip-path=\"url(#clip880)\" style=\"stroke:#000000; stroke-linecap:round; stroke-linejoin:round; stroke-width:4; stroke-opacity:1; fill:none\" points=\"147.478,1445.72 166.376,1445.72 \"/>\n",
       "<polyline clip-path=\"url(#clip880)\" style=\"stroke:#000000; stroke-linecap:round; stroke-linejoin:round; stroke-width:4; stroke-opacity:1; fill:none\" points=\"147.478,1106.28 166.376,1106.28 \"/>\n",
       "<polyline clip-path=\"url(#clip880)\" style=\"stroke:#000000; stroke-linecap:round; stroke-linejoin:round; stroke-width:4; stroke-opacity:1; fill:none\" points=\"147.478,766.847 166.376,766.847 \"/>\n",
       "<polyline clip-path=\"url(#clip880)\" style=\"stroke:#000000; stroke-linecap:round; stroke-linejoin:round; stroke-width:4; stroke-opacity:1; fill:none\" points=\"147.478,427.411 166.376,427.411 \"/>\n",
       "<polyline clip-path=\"url(#clip880)\" style=\"stroke:#000000; stroke-linecap:round; stroke-linejoin:round; stroke-width:4; stroke-opacity:1; fill:none\" points=\"147.478,87.9761 166.376,87.9761 \"/>\n",
       "<path clip-path=\"url(#clip880)\" d=\"M51.3625 1446.17 L81.0383 1446.17 L81.0383 1450.1 L51.3625 1450.1 L51.3625 1446.17 Z\" fill=\"#000000\" fill-rule=\"nonzero\" fill-opacity=\"1\" /><path clip-path=\"url(#clip880)\" d=\"M95.1586 1459.06 L111.478 1459.06 L111.478 1463 L89.5336 1463 L89.5336 1459.06 Q92.1956 1456.31 96.7789 1451.68 Q101.385 1447.03 102.566 1445.68 Q104.811 1443.16 105.691 1441.42 Q106.594 1439.66 106.594 1437.97 Q106.594 1435.22 104.649 1433.48 Q102.728 1431.75 99.6261 1431.75 Q97.4271 1431.75 94.9734 1432.51 Q92.5428 1433.28 89.7651 1434.83 L89.7651 1430.1 Q92.5891 1428.97 95.0428 1428.39 Q97.4965 1427.81 99.5335 1427.81 Q104.904 1427.81 108.098 1430.5 Q111.293 1433.18 111.293 1437.67 Q111.293 1439.8 110.483 1441.72 Q109.696 1443.62 107.589 1446.22 Q107.01 1446.89 103.909 1450.1 Q100.807 1453.3 95.1586 1459.06 Z\" fill=\"#000000\" fill-rule=\"nonzero\" fill-opacity=\"1\" /><path clip-path=\"url(#clip880)\" d=\"M50.9921 1106.73 L80.6679 1106.73 L80.6679 1110.67 L50.9921 1110.67 L50.9921 1106.73 Z\" fill=\"#000000\" fill-rule=\"nonzero\" fill-opacity=\"1\" /><path clip-path=\"url(#clip880)\" d=\"M91.5706 1119.63 L99.2095 1119.63 L99.2095 1093.26 L90.8993 1094.93 L90.8993 1090.67 L99.1632 1089 L103.839 1089 L103.839 1119.63 L111.478 1119.63 L111.478 1123.56 L91.5706 1123.56 L91.5706 1119.63 Z\" fill=\"#000000\" fill-rule=\"nonzero\" fill-opacity=\"1\" /><path clip-path=\"url(#clip880)\" d=\"M99.5335 752.646 Q95.9224 752.646 94.0937 756.21 Q92.2882 759.752 92.2882 766.882 Q92.2882 773.988 94.0937 777.553 Q95.9224 781.094 99.5335 781.094 Q103.168 781.094 104.973 777.553 Q106.802 773.988 106.802 766.882 Q106.802 759.752 104.973 756.21 Q103.168 752.646 99.5335 752.646 M99.5335 748.942 Q105.344 748.942 108.399 753.548 Q111.478 758.132 111.478 766.882 Q111.478 775.608 108.399 780.215 Q105.344 784.798 99.5335 784.798 Q93.7234 784.798 90.6447 780.215 Q87.5892 775.608 87.5892 766.882 Q87.5892 758.132 90.6447 753.548 Q93.7234 748.942 99.5335 748.942 Z\" fill=\"#000000\" fill-rule=\"nonzero\" fill-opacity=\"1\" /><path clip-path=\"url(#clip880)\" d=\"M91.5706 440.756 L99.2095 440.756 L99.2095 414.391 L90.8993 416.057 L90.8993 411.798 L99.1632 410.131 L103.839 410.131 L103.839 440.756 L111.478 440.756 L111.478 444.691 L91.5706 444.691 L91.5706 440.756 Z\" fill=\"#000000\" fill-rule=\"nonzero\" fill-opacity=\"1\" /><path clip-path=\"url(#clip880)\" d=\"M95.1586 101.321 L111.478 101.321 L111.478 105.256 L89.5336 105.256 L89.5336 101.321 Q92.1956 98.5663 96.7789 93.9367 Q101.385 89.2839 102.566 87.9413 Q104.811 85.4182 105.691 83.6821 Q106.594 81.9229 106.594 80.233 Q106.594 77.4784 104.649 75.7423 Q102.728 74.0062 99.6261 74.0062 Q97.4271 74.0062 94.9734 74.7701 Q92.5428 75.534 89.7651 77.0849 L89.7651 72.3627 Q92.5891 71.2285 95.0428 70.6498 Q97.4965 70.0711 99.5335 70.0711 Q104.904 70.0711 108.098 72.7562 Q111.293 75.4414 111.293 79.9321 Q111.293 82.0617 110.483 83.983 Q109.696 85.8812 107.589 88.4737 Q107.01 89.145 103.909 92.3626 Q100.807 95.557 95.1586 101.321 Z\" fill=\"#000000\" fill-rule=\"nonzero\" fill-opacity=\"1\" /><polyline clip-path=\"url(#clip882)\" style=\"stroke:#009af9; stroke-linecap:round; stroke-linejoin:round; stroke-width:4; stroke-opacity:1; fill:none\" points=\"1928.99,766.847 1928.95,760.058 1928.85,753.27 1928.68,746.484 1928.44,739.699 1928.14,732.917 1927.77,726.139 1927.32,719.365 1926.82,712.595 1926.24,705.831 1925.6,699.073 1924.88,692.322 1924.11,685.578 1923.26,678.842 1922.35,672.115 1921.36,665.398 1920.32,658.69 1919.2,651.994 1918.02,645.309 1916.77,638.636 1915.46,631.976 1914.07,625.33 1912.62,618.697 1911.11,612.08 1909.53,605.477 1907.88,598.892 1906.17,592.322 1904.39,585.771 1902.55,579.237 1900.64,572.722 1898.67,566.227 1896.63,559.751 1894.52,553.297 1892.36,546.864 1890.13,540.452 1887.83,534.064 1885.47,527.698 1883.05,521.357 1880.56,515.04 1878.01,508.748 1875.4,502.482 1872.72,496.243 1869.99,490.03 1867.19,483.845 1864.33,477.689 1861.4,471.561 1858.42,465.463 1855.38,459.396 1852.27,453.358 1849.11,447.353 1845.88,441.379 1842.6,435.438 1839.25,429.529 1835.85,423.655 1832.39,417.815 1828.87,412.01 1825.29,406.24 1821.66,400.506 1817.97,394.809 1814.22,389.15 1810.41,383.528 1806.55,377.944 1802.63,372.399 1798.66,366.894 1794.64,361.428 1790.55,356.003 1786.42,350.62 1782.23,345.278 1777.99,339.978 1773.69,334.72 1769.35,329.506 1764.95,324.336 1760.5,319.21 1755.99,314.129 1751.44,309.092 1746.84,304.102 1742.19,299.158 1737.49,294.261 1732.73,289.411 1727.94,284.609 1723.09,279.855 1718.2,275.149 1713.26,270.493 1708.27,265.887 1703.24,261.33 1698.16,256.825 1693.04,252.37 1687.87,247.966 1682.66,243.615 1677.41,239.316 1672.11,235.069 1666.77,230.876 1661.39,226.736 1655.97,222.65 1650.51,218.619 1645,214.643 1639.46,210.722 1633.88,206.856 1628.26,203.046 1622.61,199.293 1616.91,195.597 1611.18,191.957 1605.41,188.376 1599.61,184.852 1593.77,181.386 1587.9,177.979 1582,174.63 1576.06,171.341 1570.09,168.111 1564.08,164.942 1558.05,161.832 1551.98,158.783 1545.89,155.795 1539.76,152.868 1533.61,150.002 1527.43,147.198 1521.22,144.456 1514.98,141.776 1508.72,139.159 1502.43,136.604 1496.11,134.113 1489.77,131.684 1483.41,129.32 1477.02,127.019 1470.61,124.782 1464.18,122.609 1457.73,120.501 1451.25,118.457 1444.76,116.478 1438.25,114.564 1431.71,112.715 1425.16,110.932 1418.6,109.214 1412.01,107.563 1405.41,105.977 1398.79,104.457 1392.16,103.003 1385.52,101.616 1378.86,100.295 1372.19,99.0411 1365.5,97.8538 1358.81,96.7334 1352.1,95.68 1345.38,94.6938 1338.66,93.7747 1331.92,92.923 1325.18,92.1387 1318.43,91.4218 1311.67,90.7724 1304.91,90.1907 1298.14,89.6766 1291.36,89.2303 1284.59,88.8517 1277.8,88.5409 1271.02,88.298 1264.23,88.1229 1257.45,88.0156 1250.66,87.9763 1243.87,88.0048 1237.08,88.1012 1230.29,88.2655 1223.51,88.4977 1216.73,88.7977 1209.95,89.1655 1203.17,89.601 1196.4,90.1043 1189.64,90.6753 1182.88,91.3138 1176.13,92.02 1169.38,92.7936 1162.65,93.6346 1155.92,94.5429 1149.2,95.5185 1142.49,96.5612 1135.8,97.6709 1129.11,98.8475 1122.44,100.091 1115.78,101.401 1109.13,102.778 1102.49,104.221 1095.88,105.73 1089.27,107.306 1082.69,108.947 1076.11,110.654 1069.56,112.427 1063.03,114.265 1056.51,116.169 1050.01,118.137 1043.54,120.171 1037.08,122.269 1030.64,124.431 1024.23,126.658 1017.84,128.949 1011.47,131.304 1005.13,133.722 998.812,136.203 992.518,138.748 986.25,141.355 980.008,144.025 973.794,146.757 967.607,149.551 961.448,152.407 955.318,155.325 949.218,158.303 943.147,161.343 937.108,164.442 931.099,167.603 925.123,170.823 919.179,174.102 913.268,177.441 907.391,180.839 901.548,184.296 895.74,187.81 889.968,191.383 884.231,195.013 878.531,198.701 872.869,202.445 867.244,206.246 861.657,210.102 856.109,214.015 850.6,217.982 845.132,222.005 839.704,226.082 834.317,230.213 828.971,234.398 823.668,238.636 818.407,242.927 813.19,247.27 808.016,251.665 802.886,256.112 797.801,260.609 792.761,265.158 787.768,269.756 782.82,274.405 777.919,279.102 773.065,283.848 768.259,288.643 763.501,293.485 758.792,298.375 754.132,303.312 749.521,308.295 744.961,313.323 740.451,318.398 735.992,323.517 731.585,328.68 727.229,333.887 722.926,339.137 718.675,344.431 714.477,349.766 710.333,355.143 706.243,360.562 702.208,366.021 698.227,371.52 694.301,377.058 690.431,382.636 686.617,388.252 682.86,393.905 679.159,399.597 675.515,405.324 671.928,411.088 668.4,416.888 664.929,422.723 661.517,428.592 658.164,434.494 654.87,440.43 651.636,446.399 648.462,452.4 645.347,458.432 642.293,464.495 639.3,470.588 636.368,476.711 633.498,482.863 630.689,489.043 627.942,495.251 625.257,501.487 622.635,507.748 620.075,514.036 617.578,520.349 615.145,526.687 612.775,533.048 610.469,539.433 608.227,545.841 606.049,552.271 603.936,558.722 601.887,565.194 599.903,571.686 597.984,578.198 596.13,584.729 594.341,591.278 592.618,597.844 590.961,604.427 589.37,611.027 587.845,617.642 586.386,624.272 584.994,630.917 583.668,637.574 582.408,644.245 581.216,650.928 580.09,657.623 579.031,664.329 578.039,671.045 577.115,677.77 576.258,684.504 575.468,691.247 574.746,697.997 574.091,704.754 573.504,711.517 572.985,718.286 572.533,725.06 572.149,731.838 571.833,738.619 571.584,745.403 571.404,752.189 571.291,758.977 571.247,765.766 571.27,772.554 571.361,779.342 571.52,786.129 571.746,792.914 572.041,799.696 572.403,806.475 572.833,813.25 573.331,820.021 573.897,826.786 574.53,833.545 575.231,840.297 575.999,847.042 576.835,853.779 577.738,860.508 578.708,867.227 579.745,873.936 580.85,880.634 582.021,887.321 583.259,893.996 584.564,900.658 585.935,907.307 587.373,913.941 588.877,920.561 590.447,927.166 592.083,933.754 593.785,940.326 595.553,946.881 597.386,953.417 599.284,959.935 601.248,966.434 603.276,972.912 605.369,979.37 607.526,985.807 609.748,992.222 612.034,998.614 614.383,1004.98 616.797,1011.33 619.273,1017.65 621.812,1023.95 624.415,1030.22 627.08,1036.46 629.807,1042.68 632.596,1048.87 635.447,1055.03 638.36,1061.16 641.333,1067.26 644.368,1073.33 647.463,1079.38 650.618,1085.39 653.834,1091.37 657.109,1097.31 660.443,1103.23 663.836,1109.11 667.288,1114.95 670.798,1120.76 674.366,1126.54 677.992,1132.28 681.675,1137.98 685.414,1143.65 689.21,1149.27 693.063,1154.86 696.971,1160.41 700.934,1165.93 704.952,1171.4 709.025,1176.83 713.152,1182.22 717.332,1187.57 721.566,1192.87 725.853,1198.14 730.192,1203.36 734.583,1208.54 739.025,1213.67 743.519,1218.76 748.063,1223.8 752.658,1228.8 757.302,1233.75 761.996,1238.66 766.738,1243.51 771.529,1248.32 776.368,1253.09 781.254,1257.8 786.187,1262.46 791.166,1267.08 796.191,1271.64 801.261,1276.15 806.377,1280.62 811.537,1285.03 816.74,1289.39 821.987,1293.7 827.277,1297.95 832.609,1302.15 837.983,1306.3 843.398,1310.4 848.854,1314.44 854.35,1318.42 859.885,1322.35 865.46,1326.23 871.073,1330.04 876.724,1333.81 882.412,1337.51 888.137,1341.16 893.898,1344.75 899.695,1348.28 905.526,1351.76 911.393,1355.18 917.293,1358.53 923.226,1361.83 929.192,1365.07 935.19,1368.25 941.22,1371.37 947.281,1374.43 953.372,1377.43 959.492,1380.36 965.642,1383.24 971.82,1386.05 978.026,1388.81 984.259,1391.49 990.518,1394.12 996.804,1396.69 1003.11,1399.19 1009.45,1401.63 1015.81,1404 1022.19,1406.31 1028.6,1408.56 1035.03,1410.74 1041.48,1412.86 1047.95,1414.92 1054.44,1416.91 1060.95,1418.83 1067.48,1420.69 1074.03,1422.48 1080.59,1424.21 1087.17,1425.87 1093.77,1427.47 1100.38,1429 1107.01,1430.46 1113.66,1431.86 1120.31,1433.19 1126.98,1434.46 1133.67,1435.66 1140.36,1436.79 1147.06,1437.85 1153.78,1438.85 1160.5,1439.78 1167.24,1440.64 1173.98,1441.43 1180.73,1442.16 1187.49,1442.82 1194.25,1443.41 1201.02,1443.94 1207.79,1444.4 1214.57,1444.79 1221.35,1445.11 1228.13,1445.36 1234.92,1445.55 1241.71,1445.67 1248.49,1445.72 1255.28,1445.7 1262.07,1445.61 1268.86,1445.46 1275.64,1445.24 1282.43,1444.95 1289.21,1444.59 1295.98,1444.17 1302.75,1443.67 1309.52,1443.11 1316.28,1442.49 1323.03,1441.79 1329.78,1441.03 1336.51,1440.2 1343.24,1439.3 1349.96,1438.34 1356.67,1437.3 1363.37,1436.2 1370.06,1435.04 1376.73,1433.81 1383.4,1432.51 1390.05,1431.14 1396.68,1429.71 1403.3,1428.21 1409.91,1426.64 1416.5,1425.01 1423.07,1423.32 1429.63,1421.55 1436.17,1419.73 1442.69,1417.83 1449.19,1415.87 1455.67,1413.85 1462.13,1411.76 1468.56,1409.61 1474.98,1407.39 1481.38,1405.11 1487.75,1402.77 1494.09,1400.36 1500.42,1397.89 1506.71,1395.36 1512.99,1392.76 1519.23,1390.1 1525.45,1387.38 1531.64,1384.59 1537.81,1381.75 1543.94,1378.84 1550.05,1375.87 1556.12,1372.84 1562.17,1369.75 1568.18,1366.6 1574.16,1363.39 1580.11,1360.12 1586.03,1356.79 1591.91,1353.4 1597.76,1349.95 1603.57,1346.45 1609.35,1342.88 1615.09,1339.26 1620.8,1335.58 1626.47,1331.85 1632.1,1328.06 1637.69,1324.21 1643.24,1320.31 1648.76,1316.35 1654.23,1312.33 1659.67,1308.26 1665.06,1304.14 1670.41,1299.97 1675.72,1295.74 1680.99,1291.45 1686.22,1287.12 1691.4,1282.73 1696.53,1278.29 1701.62,1273.8 1706.67,1269.26 1711.67,1264.67 1716.63,1260.03 1721.54,1255.34 1726.4,1250.6 1731.21,1245.82 1735.98,1240.98 1740.69,1236.1 1745.36,1231.17 1749.98,1226.2 1754.55,1221.17 1759.07,1216.11 1763.53,1211 1767.95,1205.84 1772.31,1200.64 1776.63,1195.4 1780.88,1190.11 1785.09,1184.78 1789.24,1179.41 1793.34,1174 1797.39,1168.55 1801.38,1163.05 1805.31,1157.52 1809.19,1151.95 1813.01,1146.34 1816.78,1140.69 1820.49,1135.01 1824.14,1129.28 1827.74,1123.53 1831.28,1117.73 1834.75,1111.9 1838.18,1106.04 1841.54,1100.14 1844.84,1094.21 1848.09,1088.25 1851.27,1082.25 1854.39,1076.22 1857.46,1070.17 1860.46,1064.08 1863.4,1057.96 1866.28,1051.81 1869.1,1045.64 1871.86,1039.43 1874.55,1033.2 1877.18,1026.94 1879.75,1020.66 1882.26,1014.35 1884.7,1008.02 1887.08,1001.66 1889.4,995.279 1891.65,988.875 1893.84,982.448 1895.96,976.001 1898.02,969.532 1900.02,963.043 1901.95,956.534 1903.81,950.006 1905.61,943.46 1907.34,936.896 1909.01,930.316 1910.61,923.719 1912.15,917.106 1913.62,910.478 1915.02,903.836 1916.36,897.18 1917.63,890.512 1918.83,883.83 1919.97,877.138 1921.04,870.434 1922.04,863.719 1922.98,856.995 1923.84,850.262 1924.64,843.521 1925.38,836.772 1926.04,830.016 1926.64,823.254 1927.17,816.486 1927.63,809.713 1928.03,802.936 1928.35,796.155 1928.61,789.371 1928.8,782.585 1928.93,775.798 1928.98,769.009 \"/>\n",
       "<path clip-path=\"url(#clip880)\" d=\"M2006.29 1438.47 L2279.25 1438.47 L2279.25 1334.79 L2006.29 1334.79  Z\" fill=\"#ffffff\" fill-rule=\"evenodd\" fill-opacity=\"1\"/>\n",
       "<polyline clip-path=\"url(#clip880)\" style=\"stroke:#000000; stroke-linecap:round; stroke-linejoin:round; stroke-width:4; stroke-opacity:1; fill:none\" points=\"2006.29,1438.47 2279.25,1438.47 2279.25,1334.79 2006.29,1334.79 2006.29,1438.47 \"/>\n",
       "<polyline clip-path=\"url(#clip880)\" style=\"stroke:#009af9; stroke-linecap:round; stroke-linejoin:round; stroke-width:4; stroke-opacity:1; fill:none\" points=\"2030.79,1386.63 2177.81,1386.63 \"/>\n",
       "<path clip-path=\"url(#clip880)\" d=\"M2216.16 1406.32 Q2214.35 1410.95 2212.64 1412.36 Q2210.92 1413.78 2208.05 1413.78 L2204.65 1413.78 L2204.65 1410.21 L2207.15 1410.21 Q2208.91 1410.21 2209.88 1409.38 Q2210.85 1408.54 2212.04 1405.44 L2212.8 1403.5 L2202.31 1377.99 L2206.83 1377.99 L2214.93 1398.27 L2223.03 1377.99 L2227.54 1377.99 L2216.16 1406.32 Z\" fill=\"#000000\" fill-rule=\"nonzero\" fill-opacity=\"1\" /><path clip-path=\"url(#clip880)\" d=\"M2234.84 1399.98 L2242.48 1399.98 L2242.48 1373.61 L2234.16 1375.28 L2234.16 1371.02 L2242.43 1369.35 L2247.1 1369.35 L2247.1 1399.98 L2254.74 1399.98 L2254.74 1403.91 L2234.84 1403.91 L2234.84 1399.98 Z\" fill=\"#000000\" fill-rule=\"nonzero\" fill-opacity=\"1\" /></svg>\n"
      ]
     },
     "metadata": {},
     "output_type": "display_data"
    }
   ],
   "source": [
    "step = 0.01\n",
    "r = 2\n",
    "theta = [0:step:2pi;] # pay atention to ; at the end of the 2pi\n",
    "X = r * cos.(theta)\n",
    "Y = r * sin.(theta)\n",
    "plot(X, Y, aspectratio=:equal)\n"
   ]
  },
  {
   "cell_type": "code",
   "execution_count": 50,
   "metadata": {},
   "outputs": [
    {
     "data": {
      "text/plain": [
       "0.01622212531601619"
      ]
     },
     "metadata": {},
     "output_type": "display_data"
    }
   ],
   "source": [
    "# this code is for a general function not only a circle\n",
    "N = 200; # number of triangles\n",
    "\n",
    "function rCalc(angle)\n",
    "    r = 1;\n",
    "    x = r * cos(angle) # x points of circle\n",
    "    y = r * sin(angle) # y points of circle\n",
    "    r = sqrt(x^2 + y^2)\n",
    "    return r\n",
    "end\n",
    "\n",
    "th = [0 : 2*pi/N : 2pi;]\n",
    "area = 0;\n",
    "\n",
    "for i in 1:length(th)-1\n",
    "    r1 = rCalc(th[i]) \n",
    "    r2 = rCalc(th[i+1])\n",
    "    A = 0.5 * (r1 * r2 * sin(th[i+1]-th[i]))\n",
    "    area += A\n",
    "end\n",
    "pi - area"
   ]
  },
  {
   "cell_type": "markdown",
   "metadata": {},
   "source": [
    "## Problem. Area of a heart"
   ]
  },
  {
   "cell_type": "code",
   "execution_count": 51,
   "metadata": {},
   "outputs": [
    {
     "data": {
      "image/png": "[encoded data removed]",
      "image/svg+xml": [
       "<?xml version=\"1.0\" encoding=\"utf-8\"?>\n",
       "<svg xmlns=\"http://www.w3.org/2000/svg\" xmlns:xlink=\"http://www.w3.org/1999/xlink\" width=\"600\" height=\"400\" viewBox=\"0 0 2400 1600\">\n",
       "<defs>\n",
       "  <clipPath id=\"clip920\">\n",
       "    <rect x=\"0\" y=\"0\" width=\"2400\" height=\"1600\"/>\n",
       "  </clipPath>\n",
       "</defs>\n",
       "<path clip-path=\"url(#clip920)\" d=\"M0 1600 L2400 1600 L2400 0 L0 0  Z\" fill=\"#ffffff\" fill-rule=\"evenodd\" fill-opacity=\"1\"/>\n",
       "<defs>\n",
       "  <clipPath id=\"clip921\">\n",
       "    <rect x=\"480\" y=\"0\" width=\"1681\" height=\"1600\"/>\n",
       "  </clipPath>\n",
       "</defs>\n",
       "<path clip-path=\"url(#clip920)\" d=\"M178.867 1486.45 L2352.76 1486.45 L2352.76 47.2441 L178.867 47.2441  Z\" fill=\"#ffffff\" fill-rule=\"evenodd\" fill-opacity=\"1\"/>\n",
       "<defs>\n",
       "  <clipPath id=\"clip922\">\n",
       "    <rect x=\"178\" y=\"47\" width=\"2175\" height=\"1440\"/>\n",
       "  </clipPath>\n",
       "</defs>\n",
       "<polyline clip-path=\"url(#clip922)\" style=\"stroke:#000000; stroke-linecap:round; stroke-linejoin:round; stroke-width:2; stroke-opacity:0.1; fill:none\" points=\"304.48,1486.45 304.48,47.2441 \"/>\n",
       "<polyline clip-path=\"url(#clip922)\" style=\"stroke:#000000; stroke-linecap:round; stroke-linejoin:round; stroke-width:2; stroke-opacity:0.1; fill:none\" points=\"624.925,1486.45 624.925,47.2441 \"/>\n",
       "<polyline clip-path=\"url(#clip922)\" style=\"stroke:#000000; stroke-linecap:round; stroke-linejoin:round; stroke-width:2; stroke-opacity:0.1; fill:none\" points=\"945.37,1486.45 945.37,47.2441 \"/>\n",
       "<polyline clip-path=\"url(#clip922)\" style=\"stroke:#000000; stroke-linecap:round; stroke-linejoin:round; stroke-width:2; stroke-opacity:0.1; fill:none\" points=\"1265.82,1486.45 1265.82,47.2441 \"/>\n",
       "<polyline clip-path=\"url(#clip922)\" style=\"stroke:#000000; stroke-linecap:round; stroke-linejoin:round; stroke-width:2; stroke-opacity:0.1; fill:none\" points=\"1586.26,1486.45 1586.26,47.2441 \"/>\n",
       "<polyline clip-path=\"url(#clip922)\" style=\"stroke:#000000; stroke-linecap:round; stroke-linejoin:round; stroke-width:2; stroke-opacity:0.1; fill:none\" points=\"1906.71,1486.45 1906.71,47.2441 \"/>\n",
       "<polyline clip-path=\"url(#clip922)\" style=\"stroke:#000000; stroke-linecap:round; stroke-linejoin:round; stroke-width:2; stroke-opacity:0.1; fill:none\" points=\"2227.15,1486.45 2227.15,47.2441 \"/>\n",
       "<polyline clip-path=\"url(#clip922)\" style=\"stroke:#000000; stroke-linecap:round; stroke-linejoin:round; stroke-width:2; stroke-opacity:0.1; fill:none\" points=\"178.867,1351.83 2352.76,1351.83 \"/>\n",
       "<polyline clip-path=\"url(#clip922)\" style=\"stroke:#000000; stroke-linecap:round; stroke-linejoin:round; stroke-width:2; stroke-opacity:0.1; fill:none\" points=\"178.867,1117.12 2352.76,1117.12 \"/>\n",
       "<polyline clip-path=\"url(#clip922)\" style=\"stroke:#000000; stroke-linecap:round; stroke-linejoin:round; stroke-width:2; stroke-opacity:0.1; fill:none\" points=\"178.867,882.402 2352.76,882.402 \"/>\n",
       "<polyline clip-path=\"url(#clip922)\" style=\"stroke:#000000; stroke-linecap:round; stroke-linejoin:round; stroke-width:2; stroke-opacity:0.1; fill:none\" points=\"178.867,647.687 2352.76,647.687 \"/>\n",
       "<polyline clip-path=\"url(#clip922)\" style=\"stroke:#000000; stroke-linecap:round; stroke-linejoin:round; stroke-width:2; stroke-opacity:0.1; fill:none\" points=\"178.867,412.973 2352.76,412.973 \"/>\n",
       "<polyline clip-path=\"url(#clip922)\" style=\"stroke:#000000; stroke-linecap:round; stroke-linejoin:round; stroke-width:2; stroke-opacity:0.1; fill:none\" points=\"178.867,178.259 2352.76,178.259 \"/>\n",
       "<polyline clip-path=\"url(#clip920)\" style=\"stroke:#000000; stroke-linecap:round; stroke-linejoin:round; stroke-width:4; stroke-opacity:1; fill:none\" points=\"178.867,1486.45 2352.76,1486.45 \"/>\n",
       "<polyline clip-path=\"url(#clip920)\" style=\"stroke:#000000; stroke-linecap:round; stroke-linejoin:round; stroke-width:4; stroke-opacity:1; fill:none\" points=\"304.48,1486.45 304.48,1467.55 \"/>\n",
       "<polyline clip-path=\"url(#clip920)\" style=\"stroke:#000000; stroke-linecap:round; stroke-linejoin:round; stroke-width:4; stroke-opacity:1; fill:none\" points=\"624.925,1486.45 624.925,1467.55 \"/>\n",
       "<polyline clip-path=\"url(#clip920)\" style=\"stroke:#000000; stroke-linecap:round; stroke-linejoin:round; stroke-width:4; stroke-opacity:1; fill:none\" points=\"945.37,1486.45 945.37,1467.55 \"/>\n",
       "<polyline clip-path=\"url(#clip920)\" style=\"stroke:#000000; stroke-linecap:round; stroke-linejoin:round; stroke-width:4; stroke-opacity:1; fill:none\" points=\"1265.82,1486.45 1265.82,1467.55 \"/>\n",
       "<polyline clip-path=\"url(#clip920)\" style=\"stroke:#000000; stroke-linecap:round; stroke-linejoin:round; stroke-width:4; stroke-opacity:1; fill:none\" points=\"1586.26,1486.45 1586.26,1467.55 \"/>\n",
       "<polyline clip-path=\"url(#clip920)\" style=\"stroke:#000000; stroke-linecap:round; stroke-linejoin:round; stroke-width:4; stroke-opacity:1; fill:none\" points=\"1906.71,1486.45 1906.71,1467.55 \"/>\n",
       "<polyline clip-path=\"url(#clip920)\" style=\"stroke:#000000; stroke-linecap:round; stroke-linejoin:round; stroke-width:4; stroke-opacity:1; fill:none\" points=\"2227.15,1486.45 2227.15,1467.55 \"/>\n",
       "<path clip-path=\"url(#clip920)\" d=\"M259.04 1532.02 L288.716 1532.02 L288.716 1535.95 L259.04 1535.95 L259.04 1532.02 Z\" fill=\"#000000\" fill-rule=\"nonzero\" fill-opacity=\"1\" /><path clip-path=\"url(#clip920)\" d=\"M299.619 1544.91 L307.258 1544.91 L307.258 1518.55 L298.947 1520.21 L298.947 1515.95 L307.211 1514.29 L311.887 1514.29 L311.887 1544.91 L319.526 1544.91 L319.526 1548.85 L299.619 1548.85 L299.619 1544.91 Z\" fill=\"#000000\" fill-rule=\"nonzero\" fill-opacity=\"1\" /><path clip-path=\"url(#clip920)\" d=\"M329.017 1514.29 L347.373 1514.29 L347.373 1518.22 L333.299 1518.22 L333.299 1526.7 Q334.318 1526.35 335.336 1526.19 Q336.355 1526 337.373 1526 Q343.16 1526 346.54 1529.17 Q349.919 1532.34 349.919 1537.76 Q349.919 1543.34 346.447 1546.44 Q342.975 1549.52 336.656 1549.52 Q334.48 1549.52 332.211 1549.15 Q329.966 1548.78 327.558 1548.04 L327.558 1543.34 Q329.642 1544.47 331.864 1545.03 Q334.086 1545.58 336.563 1545.58 Q340.568 1545.58 342.906 1543.48 Q345.244 1541.37 345.244 1537.76 Q345.244 1534.15 342.906 1532.04 Q340.568 1529.94 336.563 1529.94 Q334.688 1529.94 332.813 1530.35 Q330.961 1530.77 329.017 1531.65 L329.017 1514.29 Z\" fill=\"#000000\" fill-rule=\"nonzero\" fill-opacity=\"1\" /><path clip-path=\"url(#clip920)\" d=\"M578.988 1532.02 L608.663 1532.02 L608.663 1535.95 L578.988 1535.95 L578.988 1532.02 Z\" fill=\"#000000\" fill-rule=\"nonzero\" fill-opacity=\"1\" /><path clip-path=\"url(#clip920)\" d=\"M619.566 1544.91 L627.205 1544.91 L627.205 1518.55 L618.895 1520.21 L618.895 1515.95 L627.159 1514.29 L631.835 1514.29 L631.835 1544.91 L639.473 1544.91 L639.473 1548.85 L619.566 1548.85 L619.566 1544.91 Z\" fill=\"#000000\" fill-rule=\"nonzero\" fill-opacity=\"1\" /><path clip-path=\"url(#clip920)\" d=\"M658.918 1517.37 Q655.307 1517.37 653.478 1520.93 Q651.672 1524.47 651.672 1531.6 Q651.672 1538.71 653.478 1542.27 Q655.307 1545.82 658.918 1545.82 Q662.552 1545.82 664.358 1542.27 Q666.186 1538.71 666.186 1531.6 Q666.186 1524.47 664.358 1520.93 Q662.552 1517.37 658.918 1517.37 M658.918 1513.66 Q664.728 1513.66 667.784 1518.27 Q670.862 1522.85 670.862 1531.6 Q670.862 1540.33 667.784 1544.94 Q664.728 1549.52 658.918 1549.52 Q653.108 1549.52 650.029 1544.94 Q646.973 1540.33 646.973 1531.6 Q646.973 1522.85 650.029 1518.27 Q653.108 1513.66 658.918 1513.66 Z\" fill=\"#000000\" fill-rule=\"nonzero\" fill-opacity=\"1\" /><path clip-path=\"url(#clip920)\" d=\"M915.011 1532.02 L944.687 1532.02 L944.687 1535.95 L915.011 1535.95 L915.011 1532.02 Z\" fill=\"#000000\" fill-rule=\"nonzero\" fill-opacity=\"1\" /><path clip-path=\"url(#clip920)\" d=\"M954.826 1514.29 L973.182 1514.29 L973.182 1518.22 L959.108 1518.22 L959.108 1526.7 Q960.127 1526.35 961.145 1526.19 Q962.164 1526 963.182 1526 Q968.969 1526 972.349 1529.17 Q975.729 1532.34 975.729 1537.76 Q975.729 1543.34 972.256 1546.44 Q968.784 1549.52 962.465 1549.52 Q960.289 1549.52 958.02 1549.15 Q955.775 1548.78 953.368 1548.04 L953.368 1543.34 Q955.451 1544.47 957.673 1545.03 Q959.895 1545.58 962.372 1545.58 Q966.377 1545.58 968.715 1543.48 Q971.053 1541.37 971.053 1537.76 Q971.053 1534.15 968.715 1532.04 Q966.377 1529.94 962.372 1529.94 Q960.497 1529.94 958.622 1530.35 Q956.77 1530.77 954.826 1531.65 L954.826 1514.29 Z\" fill=\"#000000\" fill-rule=\"nonzero\" fill-opacity=\"1\" /><path clip-path=\"url(#clip920)\" d=\"M1265.82 1517.37 Q1262.2 1517.37 1260.38 1520.93 Q1258.57 1524.47 1258.57 1531.6 Q1258.57 1538.71 1260.38 1542.27 Q1262.2 1545.82 1265.82 1545.82 Q1269.45 1545.82 1271.25 1542.27 Q1273.08 1538.71 1273.08 1531.6 Q1273.08 1524.47 1271.25 1520.93 Q1269.45 1517.37 1265.82 1517.37 M1265.82 1513.66 Q1271.63 1513.66 1274.68 1518.27 Q1277.76 1522.85 1277.76 1531.6 Q1277.76 1540.33 1274.68 1544.94 Q1271.63 1549.52 1265.82 1549.52 Q1260.01 1549.52 1256.93 1544.94 Q1253.87 1540.33 1253.87 1531.6 Q1253.87 1522.85 1256.93 1518.27 Q1260.01 1513.66 1265.82 1513.66 Z\" fill=\"#000000\" fill-rule=\"nonzero\" fill-opacity=\"1\" /><path clip-path=\"url(#clip920)\" d=\"M1576.54 1514.29 L1594.89 1514.29 L1594.89 1518.22 L1580.82 1518.22 L1580.82 1526.7 Q1581.84 1526.35 1582.86 1526.19 Q1583.88 1526 1584.89 1526 Q1590.68 1526 1594.06 1529.17 Q1597.44 1532.34 1597.44 1537.76 Q1597.44 1543.34 1593.97 1546.44 Q1590.5 1549.52 1584.18 1549.52 Q1582 1549.52 1579.73 1549.15 Q1577.49 1548.78 1575.08 1548.04 L1575.08 1543.34 Q1577.16 1544.47 1579.39 1545.03 Q1581.61 1545.58 1584.08 1545.58 Q1588.09 1545.58 1590.43 1543.48 Q1592.76 1541.37 1592.76 1537.76 Q1592.76 1534.15 1590.43 1532.04 Q1588.09 1529.94 1584.08 1529.94 Q1582.21 1529.94 1580.33 1530.35 Q1578.48 1530.77 1576.54 1531.65 L1576.54 1514.29 Z\" fill=\"#000000\" fill-rule=\"nonzero\" fill-opacity=\"1\" /><path clip-path=\"url(#clip920)\" d=\"M1881.39 1544.91 L1889.03 1544.91 L1889.03 1518.55 L1880.72 1520.21 L1880.72 1515.95 L1888.99 1514.29 L1893.66 1514.29 L1893.66 1544.91 L1901.3 1544.91 L1901.3 1548.85 L1881.39 1548.85 L1881.39 1544.91 Z\" fill=\"#000000\" fill-rule=\"nonzero\" fill-opacity=\"1\" /><path clip-path=\"url(#clip920)\" d=\"M1920.74 1517.37 Q1917.13 1517.37 1915.3 1520.93 Q1913.5 1524.47 1913.5 1531.6 Q1913.5 1538.71 1915.3 1542.27 Q1917.13 1545.82 1920.74 1545.82 Q1924.38 1545.82 1926.18 1542.27 Q1928.01 1538.71 1928.01 1531.6 Q1928.01 1524.47 1926.18 1520.93 Q1924.38 1517.37 1920.74 1517.37 M1920.74 1513.66 Q1926.55 1513.66 1929.61 1518.27 Q1932.69 1522.85 1932.69 1531.6 Q1932.69 1540.33 1929.61 1544.94 Q1926.55 1549.52 1920.74 1549.52 Q1914.93 1549.52 1911.86 1544.94 Q1908.8 1540.33 1908.8 1531.6 Q1908.8 1522.85 1911.86 1518.27 Q1914.93 1513.66 1920.74 1513.66 Z\" fill=\"#000000\" fill-rule=\"nonzero\" fill-opacity=\"1\" /><path clip-path=\"url(#clip920)\" d=\"M2202.34 1544.91 L2209.97 1544.91 L2209.97 1518.55 L2201.66 1520.21 L2201.66 1515.95 L2209.93 1514.29 L2214.6 1514.29 L2214.6 1544.91 L2222.24 1544.91 L2222.24 1548.85 L2202.34 1548.85 L2202.34 1544.91 Z\" fill=\"#000000\" fill-rule=\"nonzero\" fill-opacity=\"1\" /><path clip-path=\"url(#clip920)\" d=\"M2231.73 1514.29 L2250.09 1514.29 L2250.09 1518.22 L2236.02 1518.22 L2236.02 1526.7 Q2237.03 1526.35 2238.05 1526.19 Q2239.07 1526 2240.09 1526 Q2245.88 1526 2249.26 1529.17 Q2252.64 1532.34 2252.64 1537.76 Q2252.64 1543.34 2249.16 1546.44 Q2245.69 1549.52 2239.37 1549.52 Q2237.2 1549.52 2234.93 1549.15 Q2232.68 1548.78 2230.28 1548.04 L2230.28 1543.34 Q2232.36 1544.47 2234.58 1545.03 Q2236.8 1545.58 2239.28 1545.58 Q2243.28 1545.58 2245.62 1543.48 Q2247.96 1541.37 2247.96 1537.76 Q2247.96 1534.15 2245.62 1532.04 Q2243.28 1529.94 2239.28 1529.94 Q2237.41 1529.94 2235.53 1530.35 Q2233.68 1530.77 2231.73 1531.65 L2231.73 1514.29 Z\" fill=\"#000000\" fill-rule=\"nonzero\" fill-opacity=\"1\" /><polyline clip-path=\"url(#clip920)\" style=\"stroke:#000000; stroke-linecap:round; stroke-linejoin:round; stroke-width:4; stroke-opacity:1; fill:none\" points=\"178.867,1486.45 178.867,47.2441 \"/>\n",
       "<polyline clip-path=\"url(#clip920)\" style=\"stroke:#000000; stroke-linecap:round; stroke-linejoin:round; stroke-width:4; stroke-opacity:1; fill:none\" points=\"178.867,1351.83 197.764,1351.83 \"/>\n",
       "<polyline clip-path=\"url(#clip920)\" style=\"stroke:#000000; stroke-linecap:round; stroke-linejoin:round; stroke-width:4; stroke-opacity:1; fill:none\" points=\"178.867,1117.12 197.764,1117.12 \"/>\n",
       "<polyline clip-path=\"url(#clip920)\" style=\"stroke:#000000; stroke-linecap:round; stroke-linejoin:round; stroke-width:4; stroke-opacity:1; fill:none\" points=\"178.867,882.402 197.764,882.402 \"/>\n",
       "<polyline clip-path=\"url(#clip920)\" style=\"stroke:#000000; stroke-linecap:round; stroke-linejoin:round; stroke-width:4; stroke-opacity:1; fill:none\" points=\"178.867,647.687 197.764,647.687 \"/>\n",
       "<polyline clip-path=\"url(#clip920)\" style=\"stroke:#000000; stroke-linecap:round; stroke-linejoin:round; stroke-width:4; stroke-opacity:1; fill:none\" points=\"178.867,412.973 197.764,412.973 \"/>\n",
       "<polyline clip-path=\"url(#clip920)\" style=\"stroke:#000000; stroke-linecap:round; stroke-linejoin:round; stroke-width:4; stroke-opacity:1; fill:none\" points=\"178.867,178.259 197.764,178.259 \"/>\n",
       "<path clip-path=\"url(#clip920)\" d=\"M51.9875 1352.28 L81.6633 1352.28 L81.6633 1356.22 L51.9875 1356.22 L51.9875 1352.28 Z\" fill=\"#000000\" fill-rule=\"nonzero\" fill-opacity=\"1\" /><path clip-path=\"url(#clip920)\" d=\"M92.566 1365.17 L100.205 1365.17 L100.205 1338.81 L91.8947 1340.48 L91.8947 1336.22 L100.159 1334.55 L104.834 1334.55 L104.834 1365.17 L112.473 1365.17 L112.473 1369.11 L92.566 1369.11 L92.566 1365.17 Z\" fill=\"#000000\" fill-rule=\"nonzero\" fill-opacity=\"1\" /><path clip-path=\"url(#clip920)\" d=\"M121.964 1334.55 L140.32 1334.55 L140.32 1338.49 L126.246 1338.49 L126.246 1346.96 Q127.265 1346.61 128.283 1346.45 Q129.302 1346.26 130.32 1346.26 Q136.107 1346.26 139.487 1349.43 Q142.867 1352.61 142.867 1358.02 Q142.867 1363.6 139.394 1366.7 Q135.922 1369.78 129.603 1369.78 Q127.427 1369.78 125.158 1369.41 Q122.913 1369.04 120.506 1368.3 L120.506 1363.6 Q122.589 1364.74 124.811 1365.29 Q127.033 1365.85 129.51 1365.85 Q133.515 1365.85 135.853 1363.74 Q138.191 1361.63 138.191 1358.02 Q138.191 1354.41 135.853 1352.3 Q133.515 1350.2 129.51 1350.2 Q127.635 1350.2 125.76 1350.61 Q123.908 1351.03 121.964 1351.91 L121.964 1334.55 Z\" fill=\"#000000\" fill-rule=\"nonzero\" fill-opacity=\"1\" /><path clip-path=\"url(#clip920)\" d=\"M50.9921 1117.57 L80.6679 1117.57 L80.6679 1121.5 L50.9921 1121.5 L50.9921 1117.57 Z\" fill=\"#000000\" fill-rule=\"nonzero\" fill-opacity=\"1\" /><path clip-path=\"url(#clip920)\" d=\"M91.5706 1130.46 L99.2095 1130.46 L99.2095 1104.1 L90.8993 1105.76 L90.8993 1101.5 L99.1632 1099.84 L103.839 1099.84 L103.839 1130.46 L111.478 1130.46 L111.478 1134.4 L91.5706 1134.4 L91.5706 1130.46 Z\" fill=\"#000000\" fill-rule=\"nonzero\" fill-opacity=\"1\" /><path clip-path=\"url(#clip920)\" d=\"M130.922 1102.91 Q127.311 1102.91 125.482 1106.48 Q123.677 1110.02 123.677 1117.15 Q123.677 1124.26 125.482 1127.82 Q127.311 1131.36 130.922 1131.36 Q134.556 1131.36 136.362 1127.82 Q138.191 1124.26 138.191 1117.15 Q138.191 1110.02 136.362 1106.48 Q134.556 1102.91 130.922 1102.91 M130.922 1099.21 Q136.732 1099.21 139.788 1103.82 Q142.867 1108.4 142.867 1117.15 Q142.867 1125.88 139.788 1130.48 Q136.732 1135.07 130.922 1135.07 Q125.112 1135.07 122.033 1130.48 Q118.978 1125.88 118.978 1117.15 Q118.978 1108.4 122.033 1103.82 Q125.112 1099.21 130.922 1099.21 Z\" fill=\"#000000\" fill-rule=\"nonzero\" fill-opacity=\"1\" /><path clip-path=\"url(#clip920)\" d=\"M82.1494 882.853 L111.825 882.853 L111.825 886.788 L82.1494 886.788 L82.1494 882.853 Z\" fill=\"#000000\" fill-rule=\"nonzero\" fill-opacity=\"1\" /><path clip-path=\"url(#clip920)\" d=\"M121.964 865.122 L140.32 865.122 L140.32 869.057 L126.246 869.057 L126.246 877.529 Q127.265 877.182 128.283 877.02 Q129.302 876.835 130.32 876.835 Q136.107 876.835 139.487 880.006 Q142.867 883.177 142.867 888.594 Q142.867 894.172 139.394 897.274 Q135.922 900.353 129.603 900.353 Q127.427 900.353 125.158 899.983 Q122.913 899.612 120.506 898.871 L120.506 894.172 Q122.589 895.307 124.811 895.862 Q127.033 896.418 129.51 896.418 Q133.515 896.418 135.853 894.311 Q138.191 892.205 138.191 888.594 Q138.191 884.983 135.853 882.876 Q133.515 880.77 129.51 880.77 Q127.635 880.77 125.76 881.186 Q123.908 881.603 121.964 882.483 L121.964 865.122 Z\" fill=\"#000000\" fill-rule=\"nonzero\" fill-opacity=\"1\" /><path clip-path=\"url(#clip920)\" d=\"M130.922 633.486 Q127.311 633.486 125.482 637.051 Q123.677 640.593 123.677 647.722 Q123.677 654.829 125.482 658.393 Q127.311 661.935 130.922 661.935 Q134.556 661.935 136.362 658.393 Q138.191 654.829 138.191 647.722 Q138.191 640.593 136.362 637.051 Q134.556 633.486 130.922 633.486 M130.922 629.782 Q136.732 629.782 139.788 634.389 Q142.867 638.972 142.867 647.722 Q142.867 656.449 139.788 661.055 Q136.732 665.639 130.922 665.639 Q125.112 665.639 122.033 661.055 Q118.978 656.449 118.978 647.722 Q118.978 638.972 122.033 634.389 Q125.112 629.782 130.922 629.782 Z\" fill=\"#000000\" fill-rule=\"nonzero\" fill-opacity=\"1\" /><path clip-path=\"url(#clip920)\" d=\"M121.964 395.693 L140.32 395.693 L140.32 399.628 L126.246 399.628 L126.246 408.101 Q127.265 407.753 128.283 407.591 Q129.302 407.406 130.32 407.406 Q136.107 407.406 139.487 410.577 Q142.867 413.749 142.867 419.165 Q142.867 424.744 139.394 427.846 Q135.922 430.925 129.603 430.925 Q127.427 430.925 125.158 430.554 Q122.913 430.184 120.506 429.443 L120.506 424.744 Q122.589 425.878 124.811 426.434 Q127.033 426.989 129.51 426.989 Q133.515 426.989 135.853 424.883 Q138.191 422.776 138.191 419.165 Q138.191 415.554 135.853 413.448 Q133.515 411.341 129.51 411.341 Q127.635 411.341 125.76 411.758 Q123.908 412.175 121.964 413.054 L121.964 395.693 Z\" fill=\"#000000\" fill-rule=\"nonzero\" fill-opacity=\"1\" /><path clip-path=\"url(#clip920)\" d=\"M91.5706 191.604 L99.2095 191.604 L99.2095 165.238 L90.8993 166.905 L90.8993 162.646 L99.1632 160.979 L103.839 160.979 L103.839 191.604 L111.478 191.604 L111.478 195.539 L91.5706 195.539 L91.5706 191.604 Z\" fill=\"#000000\" fill-rule=\"nonzero\" fill-opacity=\"1\" /><path clip-path=\"url(#clip920)\" d=\"M130.922 164.058 Q127.311 164.058 125.482 167.623 Q123.677 171.164 123.677 178.294 Q123.677 185.4 125.482 188.965 Q127.311 192.507 130.922 192.507 Q134.556 192.507 136.362 188.965 Q138.191 185.4 138.191 178.294 Q138.191 171.164 136.362 167.623 Q134.556 164.058 130.922 164.058 M130.922 160.354 Q136.732 160.354 139.788 164.961 Q142.867 169.544 142.867 178.294 Q142.867 187.021 139.788 191.627 Q136.732 196.21 130.922 196.21 Q125.112 196.21 122.033 191.627 Q118.978 187.021 118.978 178.294 Q118.978 169.544 122.033 164.961 Q125.112 160.354 130.922 160.354 Z\" fill=\"#000000\" fill-rule=\"nonzero\" fill-opacity=\"1\" /><polyline clip-path=\"url(#clip922)\" style=\"stroke:#009af9; stroke-linecap:round; stroke-linejoin:round; stroke-width:4; stroke-opacity:1; fill:none\" points=\"1265.82,1445.72 1265.81,1445.64 1265.81,1445.42 1265.79,1445.06 1265.75,1444.55 1265.69,1443.9 1265.59,1443.1 1265.46,1442.16 1265.29,1441.07 1265.07,1439.85 1264.79,1438.48 1264.46,1436.96 1264.06,1435.31 1263.58,1433.52 1263.03,1431.59 1262.39,1429.53 1261.67,1427.33 1260.85,1424.99 1259.93,1422.52 1258.91,1419.92 1257.77,1417.18 1256.53,1414.32 1255.16,1411.33 1253.67,1408.22 1252.04,1404.98 1250.29,1401.62 1248.39,1398.14 1246.36,1394.54 1244.17,1390.83 1241.84,1387 1239.35,1383.06 1236.7,1379 1233.9,1374.84 1230.92,1370.57 1227.78,1366.2 1224.47,1361.73 1220.99,1357.16 1217.33,1352.48 1213.49,1347.72 1209.46,1342.86 1205.26,1337.91 1200.87,1332.87 1196.29,1327.74 1191.53,1322.53 1186.57,1317.24 1181.43,1311.87 1176.09,1306.41 1170.56,1300.89 1164.84,1295.29 1158.93,1289.62 1152.82,1283.88 1146.52,1278.07 1140.02,1272.2 1133.33,1266.26 1126.46,1260.27 1119.39,1254.21 1112.13,1248.1 1104.68,1241.94 1097.04,1235.71 1089.22,1229.44 1081.22,1223.12 1073.03,1216.75 1064.67,1210.33 1056.13,1203.87 1047.41,1197.37 1038.53,1190.82 1029.48,1184.23 1020.26,1177.6 1010.88,1170.94 1001.35,1164.24 991.657,1157.5 981.818,1150.73 971.834,1143.92 961.708,1137.08 951.446,1130.21 941.052,1123.31 930.531,1116.38 919.888,1109.42 909.128,1102.43 898.256,1095.42 887.278,1088.37 876.2,1081.3 865.026,1074.2 853.764,1067.08 842.418,1059.93 830.995,1052.75 819.501,1045.55 807.943,1038.32 796.326,1031.07 784.658,1023.79 772.945,1016.48 761.193,1009.15 749.41,1001.8 737.602,994.417 725.776,987.009 713.94,979.575 702.1,972.114 690.263,964.626 678.436,957.111 666.627,949.568 654.844,941.997 643.092,934.398 631.38,926.77 619.714,919.112 608.102,911.425 596.552,903.707 585.071,895.959 573.665,888.18 562.343,880.369 551.111,872.526 539.977,864.651 528.948,856.743 518.031,848.802 507.233,840.828 496.561,832.819 486.023,824.777 475.625,816.699 465.374,808.588 455.276,800.441 445.34,792.259 435.571,784.042 425.975,775.79 416.56,767.503 407.331,759.18 398.295,750.823 389.458,742.43 380.826,734.003 372.404,725.541 364.199,717.046 356.216,708.517 348.46,699.955 340.937,691.36 333.652,682.734 326.61,674.077 319.816,665.39 313.274,656.673 306.989,647.929 300.966,639.158 295.207,630.36 289.719,621.539 284.503,612.694 279.565,603.828 274.906,594.941 270.532,586.037 266.443,577.115 262.645,568.18 259.138,559.231 255.926,550.272 253.01,541.305 250.394,532.331 248.078,523.354 246.064,514.375 244.354,505.398 242.948,496.425 241.849,487.458 241.056,478.501 240.57,469.556 240.392,460.626 240.521,451.716 240.958,442.826 241.702,433.962 242.753,425.126 244.109,416.322 245.771,407.553 247.737,398.823 250.005,390.136 252.574,381.494 255.442,372.902 258.607,364.364 262.067,355.883 265.819,347.463 269.861,339.109 274.191,330.824 278.804,322.612 283.698,314.478 288.87,306.425 294.315,298.457 300.031,290.579 306.012,282.795 312.256,275.108 318.757,267.523 325.511,260.044 332.514,252.676 339.761,245.421 347.246,238.285 354.965,231.271 362.912,224.383 371.083,217.626 379.47,211.002 388.069,204.517 396.874,198.174 405.879,191.976 415.077,185.928 424.463,180.032 434.031,174.293 443.773,168.715 453.683,163.299 463.755,158.05 473.982,152.971 484.357,148.065 494.874,143.335 505.524,138.784 516.303,134.414 527.201,130.229 538.213,126.23 549.331,122.42 560.548,118.802 571.856,115.377 583.249,112.147 594.719,109.115 606.259,106.281 617.861,103.648 629.518,101.216 641.224,98.9874 652.97,96.9623 664.749,95.142 676.554,93.5269 688.378,92.1177 700.214,90.9145 712.054,89.9177 723.892,89.127 735.72,88.5423 747.531,88.1631 759.318,87.9889 771.076,88.0188 782.795,88.2519 794.471,88.687 806.096,89.3227 817.664,90.1575 829.169,91.1897 840.604,92.4173 851.962,93.8382 863.238,95.4502 874.427,97.2507 885.521,99.237 896.515,101.406 907.404,103.756 918.182,106.282 928.844,108.981 939.385,111.85 949.799,114.886 960.083,118.083 970.23,121.438 980.237,124.948 990.1,128.606 999.813,132.41 1009.37,136.354 1018.78,140.433 1028.02,144.642 1037.1,148.977 1046.01,153.431 1054.75,158 1063.32,162.678 1071.71,167.46 1079.93,172.339 1087.96,177.31 1095.81,182.367 1103.47,187.504 1110.95,192.715 1118.24,197.993 1125.34,203.333 1132.25,208.727 1138.97,214.171 1145.49,219.656 1151.83,225.177 1157.97,230.727 1163.91,236.3 1169.67,241.889 1175.23,247.487 1180.59,253.088 1185.77,258.686 1190.75,264.272 1195.55,269.842 1200.15,275.389 1204.57,280.905 1208.81,286.384 1212.86,291.821 1216.73,297.208 1220.42,302.539 1223.93,307.809 1227.27,313.009 1230.44,318.136 1233.43,323.182 1236.27,328.142 1238.94,333.009 1241.45,337.778 1243.81,342.444 1246.02,347 1248.08,351.442 1249.99,355.764 1251.77,359.962 1253.42,364.029 1254.93,367.962 1256.32,371.756 1257.58,375.406 1258.73,378.908 1259.78,382.258 1260.71,385.451 1261.54,388.485 1262.28,391.355 1262.93,394.058 1263.5,396.591 1263.99,398.952 1264.4,401.136 1264.75,403.142 1265.03,404.967 1265.26,406.609 1265.44,408.066 1265.58,409.336 1265.67,410.418 1265.74,411.311 1265.78,412.014 1265.8,412.525 1265.81,412.844 1265.82,412.971 1265.82,412.905 1265.82,412.647 1265.84,412.197 1265.87,411.556 1265.93,410.723 1266.02,409.701 1266.14,408.491 1266.31,407.093 1266.52,405.51 1266.79,403.743 1267.11,401.794 1267.51,399.667 1267.97,397.362 1268.51,394.884 1269.13,392.234 1269.84,389.417 1270.64,386.435 1271.55,383.292 1272.55,379.992 1273.67,376.538 1274.9,372.934 1276.25,369.186 1277.72,365.297 1279.32,361.272 1281.05,357.115 1282.93,352.832 1284.94,348.428 1287.1,343.907 1289.41,339.276 1291.87,334.539 1294.49,329.702 1297.28,324.771 1300.22,319.752 1303.33,314.651 1306.62,309.473 1310.08,304.225 1313.71,298.913 1317.52,293.543 1321.51,288.121 1325.69,282.654 1330.05,277.149 1334.6,271.612 1339.33,266.049 1344.25,260.467 1349.37,254.872 1354.67,249.271 1360.17,243.672 1365.86,238.079 1371.75,232.5 1377.83,226.942 1384.1,221.411 1390.56,215.914 1397.22,210.456 1404.07,205.046 1411.11,199.688 1418.34,194.389 1425.75,189.156 1433.36,183.995 1441.15,178.912 1449.13,173.913 1457.28,169.004 1465.62,164.19 1474.13,159.479 1482.82,154.874 1491.67,150.383 1500.7,146.009 1509.89,141.76 1519.24,137.638 1528.76,133.651 1538.42,129.802 1548.24,126.097 1558.2,122.54 1568.3,119.135 1578.54,115.887 1588.91,112.799 1599.42,109.877 1610.04,107.123 1620.78,104.541 1631.64,102.135 1642.6,99.9083 1653.66,97.8634 1664.82,96.0034 1676.07,94.3311 1687.4,92.849 1698.81,91.5596 1710.29,90.465 1721.84,89.5671 1733.45,88.8677 1745.11,88.3686 1756.82,88.071 1768.56,87.9763 1780.34,88.0854 1792.15,88.3992 1803.97,88.9184 1815.8,89.6434 1827.65,90.5746 1839.48,91.712 1851.31,93.0557 1863.12,94.6052 1874.91,96.3602 1886.67,98.3202 1898.39,100.484 1910.06,102.851 1921.68,105.421 1933.24,108.191 1944.74,111.16 1956.15,114.327 1967.49,117.69 1978.74,121.247 1989.89,124.996 2000.93,128.935 2011.87,133.061 2022.69,137.372 2033.38,141.866 2043.94,146.539 2054.36,151.39 2064.63,156.414 2074.76,161.609 2084.72,166.972 2094.52,172.499 2104.14,178.187 2113.58,184.033 2122.84,190.033 2131.91,196.184 2140.78,202.481 2149.44,208.921 2157.9,215.501 2166.14,222.216 2174.16,229.063 2181.95,236.037 2189.51,243.135 2196.83,250.352 2203.92,257.685 2210.75,265.129 2217.33,272.681 2223.66,280.335 2229.72,288.089 2235.52,295.938 2241.06,303.877 2246.31,311.904 2251.3,320.013 2256,328.2 2260.42,336.462 2264.56,344.795 2268.4,353.194 2271.95,361.656 2275.21,370.176 2278.18,378.751 2280.84,387.378 2283.2,396.051 2285.27,404.768 2287.02,413.525 2288.48,422.318 2289.63,431.145 2290.47,440 2291,448.882 2291.23,457.786 2291.15,466.71 2290.76,475.65 2290.07,484.604 2289.07,493.568 2287.76,502.539 2286.14,511.515 2284.23,520.494 2282.01,529.472 2279.49,538.447 2276.67,547.417 2273.55,556.378 2270.13,565.33 2266.43,574.271 2262.43,583.197 2258.15,592.107 2253.58,600.999 2248.73,609.872 2243.6,618.724 2238.2,627.553 2232.53,636.358 2226.59,645.138 2220.39,653.891 2213.93,662.616 2207.21,671.313 2200.25,679.98 2193.04,688.616 2185.59,697.221 2177.91,705.793 2170,714.333 2161.86,722.839 2153.51,731.311 2144.94,739.749 2136.17,748.153 2127.2,756.522 2118.03,764.856 2108.67,773.154 2099.14,781.417 2089.42,789.646 2079.54,797.839 2069.49,805.996 2059.29,814.119 2048.94,822.207 2038.44,830.261 2027.81,838.28 2017.05,846.266 2006.17,854.217 1995.18,862.136 1984.08,870.021 1972.88,877.874 1961.58,885.695 1950.2,893.484 1938.74,901.243 1927.21,908.97 1915.62,916.667 1903.97,924.334 1892.27,931.971 1880.53,939.58 1868.76,947.16 1856.96,954.712 1845.14,962.236 1833.3,969.732 1821.46,977.202 1809.62,984.644 1797.79,992.06 1785.98,999.45 1774.19,1006.81 1762.43,1014.15 1750.7,1021.47 1739.02,1028.75 1727.38,1036.01 1715.8,1043.25 1704.29,1050.46 1692.84,1057.64 1681.47,1064.8 1670.18,1071.94 1658.98,1079.04 1647.87,1086.12 1636.86,1093.18 1625.95,1100.2 1615.16,1107.2 1604.48,1114.17 1593.92,1121.11 1583.48,1128.02 1573.18,1134.9 1563.01,1141.75 1552.98,1148.56 1543.09,1155.35 1533.35,1162.09 1523.77,1168.81 1514.34,1175.48 1505.07,1182.12 1495.97,1188.72 1487.03,1195.29 1478.26,1201.8 1469.66,1208.28 1461.24,1214.71 1453,1221.1 1444.94,1227.43 1437.06,1233.72 1429.36,1239.96 1421.86,1246.14 1414.54,1252.27 1407.41,1258.35 1400.47,1264.36 1393.72,1270.32 1387.16,1276.21 1380.8,1282.04 1374.63,1287.8 1368.65,1293.49 1362.87,1299.11 1357.28,1304.66 1351.88,1310.14 1346.67,1315.54 1341.66,1320.85 1336.83,1326.09 1332.2,1331.24 1327.75,1336.31 1323.49,1341.29 1319.41,1346.18 1315.51,1350.98 1311.79,1355.68 1308.25,1360.28 1304.88,1364.79 1301.69,1369.19 1298.66,1373.49 1295.8,1377.69 1293.11,1381.78 1290.57,1385.75 1288.18,1389.62 1285.95,1393.37 1283.87,1397.01 1281.93,1400.53 1280.13,1403.93 1278.47,1407.2 1276.93,1410.36 1275.53,1413.38 1274.24,1416.29 1273.07,1419.06 1272.01,1421.7 1271.06,1424.22 1270.21,1426.6 1269.46,1428.84 1268.79,1430.95 1268.22,1432.92 1267.72,1434.76 1267.29,1436.45 1266.94,1438.01 1266.64,1439.42 1266.4,1440.7 1266.22,1441.83 1266.07,1442.82 1265.97,1443.66 1265.9,1444.36 1265.85,1444.91 1265.83,1445.32 1265.82,1445.59 1265.82,1445.71 \"/>\n",
       "</svg>\n"
      ],
      "text/html": [
       "<?xml version=\"1.0\" encoding=\"utf-8\"?>\n",
       "<svg xmlns=\"http://www.w3.org/2000/svg\" xmlns:xlink=\"http://www.w3.org/1999/xlink\" width=\"600\" height=\"400\" viewBox=\"0 0 2400 1600\">\n",
       "<defs>\n",
       "  <clipPath id=\"clip970\">\n",
       "    <rect x=\"0\" y=\"0\" width=\"2400\" height=\"1600\"/>\n",
       "  </clipPath>\n",
       "</defs>\n",
       "<path clip-path=\"url(#clip970)\" d=\"M0 1600 L2400 1600 L2400 0 L0 0  Z\" fill=\"#ffffff\" fill-rule=\"evenodd\" fill-opacity=\"1\"/>\n",
       "<defs>\n",
       "  <clipPath id=\"clip971\">\n",
       "    <rect x=\"480\" y=\"0\" width=\"1681\" height=\"1600\"/>\n",
       "  </clipPath>\n",
       "</defs>\n",
       "<path clip-path=\"url(#clip970)\" d=\"M178.867 1486.45 L2352.76 1486.45 L2352.76 47.2441 L178.867 47.2441  Z\" fill=\"#ffffff\" fill-rule=\"evenodd\" fill-opacity=\"1\"/>\n",
       "<defs>\n",
       "  <clipPath id=\"clip972\">\n",
       "    <rect x=\"178\" y=\"47\" width=\"2175\" height=\"1440\"/>\n",
       "  </clipPath>\n",
       "</defs>\n",
       "<polyline clip-path=\"url(#clip972)\" style=\"stroke:#000000; stroke-linecap:round; stroke-linejoin:round; stroke-width:2; stroke-opacity:0.1; fill:none\" points=\"304.48,1486.45 304.48,47.2441 \"/>\n",
       "<polyline clip-path=\"url(#clip972)\" style=\"stroke:#000000; stroke-linecap:round; stroke-linejoin:round; stroke-width:2; stroke-opacity:0.1; fill:none\" points=\"624.925,1486.45 624.925,47.2441 \"/>\n",
       "<polyline clip-path=\"url(#clip972)\" style=\"stroke:#000000; stroke-linecap:round; stroke-linejoin:round; stroke-width:2; stroke-opacity:0.1; fill:none\" points=\"945.37,1486.45 945.37,47.2441 \"/>\n",
       "<polyline clip-path=\"url(#clip972)\" style=\"stroke:#000000; stroke-linecap:round; stroke-linejoin:round; stroke-width:2; stroke-opacity:0.1; fill:none\" points=\"1265.82,1486.45 1265.82,47.2441 \"/>\n",
       "<polyline clip-path=\"url(#clip972)\" style=\"stroke:#000000; stroke-linecap:round; stroke-linejoin:round; stroke-width:2; stroke-opacity:0.1; fill:none\" points=\"1586.26,1486.45 1586.26,47.2441 \"/>\n",
       "<polyline clip-path=\"url(#clip972)\" style=\"stroke:#000000; stroke-linecap:round; stroke-linejoin:round; stroke-width:2; stroke-opacity:0.1; fill:none\" points=\"1906.71,1486.45 1906.71,47.2441 \"/>\n",
       "<polyline clip-path=\"url(#clip972)\" style=\"stroke:#000000; stroke-linecap:round; stroke-linejoin:round; stroke-width:2; stroke-opacity:0.1; fill:none\" points=\"2227.15,1486.45 2227.15,47.2441 \"/>\n",
       "<polyline clip-path=\"url(#clip972)\" style=\"stroke:#000000; stroke-linecap:round; stroke-linejoin:round; stroke-width:2; stroke-opacity:0.1; fill:none\" points=\"178.867,1351.83 2352.76,1351.83 \"/>\n",
       "<polyline clip-path=\"url(#clip972)\" style=\"stroke:#000000; stroke-linecap:round; stroke-linejoin:round; stroke-width:2; stroke-opacity:0.1; fill:none\" points=\"178.867,1117.12 2352.76,1117.12 \"/>\n",
       "<polyline clip-path=\"url(#clip972)\" style=\"stroke:#000000; stroke-linecap:round; stroke-linejoin:round; stroke-width:2; stroke-opacity:0.1; fill:none\" points=\"178.867,882.402 2352.76,882.402 \"/>\n",
       "<polyline clip-path=\"url(#clip972)\" style=\"stroke:#000000; stroke-linecap:round; stroke-linejoin:round; stroke-width:2; stroke-opacity:0.1; fill:none\" points=\"178.867,647.687 2352.76,647.687 \"/>\n",
       "<polyline clip-path=\"url(#clip972)\" style=\"stroke:#000000; stroke-linecap:round; stroke-linejoin:round; stroke-width:2; stroke-opacity:0.1; fill:none\" points=\"178.867,412.973 2352.76,412.973 \"/>\n",
       "<polyline clip-path=\"url(#clip972)\" style=\"stroke:#000000; stroke-linecap:round; stroke-linejoin:round; stroke-width:2; stroke-opacity:0.1; fill:none\" points=\"178.867,178.259 2352.76,178.259 \"/>\n",
       "<polyline clip-path=\"url(#clip970)\" style=\"stroke:#000000; stroke-linecap:round; stroke-linejoin:round; stroke-width:4; stroke-opacity:1; fill:none\" points=\"178.867,1486.45 2352.76,1486.45 \"/>\n",
       "<polyline clip-path=\"url(#clip970)\" style=\"stroke:#000000; stroke-linecap:round; stroke-linejoin:round; stroke-width:4; stroke-opacity:1; fill:none\" points=\"304.48,1486.45 304.48,1467.55 \"/>\n",
       "<polyline clip-path=\"url(#clip970)\" style=\"stroke:#000000; stroke-linecap:round; stroke-linejoin:round; stroke-width:4; stroke-opacity:1; fill:none\" points=\"624.925,1486.45 624.925,1467.55 \"/>\n",
       "<polyline clip-path=\"url(#clip970)\" style=\"stroke:#000000; stroke-linecap:round; stroke-linejoin:round; stroke-width:4; stroke-opacity:1; fill:none\" points=\"945.37,1486.45 945.37,1467.55 \"/>\n",
       "<polyline clip-path=\"url(#clip970)\" style=\"stroke:#000000; stroke-linecap:round; stroke-linejoin:round; stroke-width:4; stroke-opacity:1; fill:none\" points=\"1265.82,1486.45 1265.82,1467.55 \"/>\n",
       "<polyline clip-path=\"url(#clip970)\" style=\"stroke:#000000; stroke-linecap:round; stroke-linejoin:round; stroke-width:4; stroke-opacity:1; fill:none\" points=\"1586.26,1486.45 1586.26,1467.55 \"/>\n",
       "<polyline clip-path=\"url(#clip970)\" style=\"stroke:#000000; stroke-linecap:round; stroke-linejoin:round; stroke-width:4; stroke-opacity:1; fill:none\" points=\"1906.71,1486.45 1906.71,1467.55 \"/>\n",
       "<polyline clip-path=\"url(#clip970)\" style=\"stroke:#000000; stroke-linecap:round; stroke-linejoin:round; stroke-width:4; stroke-opacity:1; fill:none\" points=\"2227.15,1486.45 2227.15,1467.55 \"/>\n",
       "<path clip-path=\"url(#clip970)\" d=\"M259.04 1532.02 L288.716 1532.02 L288.716 1535.95 L259.04 1535.95 L259.04 1532.02 Z\" fill=\"#000000\" fill-rule=\"nonzero\" fill-opacity=\"1\" /><path clip-path=\"url(#clip970)\" d=\"M299.619 1544.91 L307.258 1544.91 L307.258 1518.55 L298.947 1520.21 L298.947 1515.95 L307.211 1514.29 L311.887 1514.29 L311.887 1544.91 L319.526 1544.91 L319.526 1548.85 L299.619 1548.85 L299.619 1544.91 Z\" fill=\"#000000\" fill-rule=\"nonzero\" fill-opacity=\"1\" /><path clip-path=\"url(#clip970)\" d=\"M329.017 1514.29 L347.373 1514.29 L347.373 1518.22 L333.299 1518.22 L333.299 1526.7 Q334.318 1526.35 335.336 1526.19 Q336.355 1526 337.373 1526 Q343.16 1526 346.54 1529.17 Q349.919 1532.34 349.919 1537.76 Q349.919 1543.34 346.447 1546.44 Q342.975 1549.52 336.656 1549.52 Q334.48 1549.52 332.211 1549.15 Q329.966 1548.78 327.558 1548.04 L327.558 1543.34 Q329.642 1544.47 331.864 1545.03 Q334.086 1545.58 336.563 1545.58 Q340.568 1545.58 342.906 1543.48 Q345.244 1541.37 345.244 1537.76 Q345.244 1534.15 342.906 1532.04 Q340.568 1529.94 336.563 1529.94 Q334.688 1529.94 332.813 1530.35 Q330.961 1530.77 329.017 1531.65 L329.017 1514.29 Z\" fill=\"#000000\" fill-rule=\"nonzero\" fill-opacity=\"1\" /><path clip-path=\"url(#clip970)\" d=\"M578.988 1532.02 L608.663 1532.02 L608.663 1535.95 L578.988 1535.95 L578.988 1532.02 Z\" fill=\"#000000\" fill-rule=\"nonzero\" fill-opacity=\"1\" /><path clip-path=\"url(#clip970)\" d=\"M619.566 1544.91 L627.205 1544.91 L627.205 1518.55 L618.895 1520.21 L618.895 1515.95 L627.159 1514.29 L631.835 1514.29 L631.835 1544.91 L639.473 1544.91 L639.473 1548.85 L619.566 1548.85 L619.566 1544.91 Z\" fill=\"#000000\" fill-rule=\"nonzero\" fill-opacity=\"1\" /><path clip-path=\"url(#clip970)\" d=\"M658.918 1517.37 Q655.307 1517.37 653.478 1520.93 Q651.672 1524.47 651.672 1531.6 Q651.672 1538.71 653.478 1542.27 Q655.307 1545.82 658.918 1545.82 Q662.552 1545.82 664.358 1542.27 Q666.186 1538.71 666.186 1531.6 Q666.186 1524.47 664.358 1520.93 Q662.552 1517.37 658.918 1517.37 M658.918 1513.66 Q664.728 1513.66 667.784 1518.27 Q670.862 1522.85 670.862 1531.6 Q670.862 1540.33 667.784 1544.94 Q664.728 1549.52 658.918 1549.52 Q653.108 1549.52 650.029 1544.94 Q646.973 1540.33 646.973 1531.6 Q646.973 1522.85 650.029 1518.27 Q653.108 1513.66 658.918 1513.66 Z\" fill=\"#000000\" fill-rule=\"nonzero\" fill-opacity=\"1\" /><path clip-path=\"url(#clip970)\" d=\"M915.011 1532.02 L944.687 1532.02 L944.687 1535.95 L915.011 1535.95 L915.011 1532.02 Z\" fill=\"#000000\" fill-rule=\"nonzero\" fill-opacity=\"1\" /><path clip-path=\"url(#clip970)\" d=\"M954.826 1514.29 L973.182 1514.29 L973.182 1518.22 L959.108 1518.22 L959.108 1526.7 Q960.127 1526.35 961.145 1526.19 Q962.164 1526 963.182 1526 Q968.969 1526 972.349 1529.17 Q975.729 1532.34 975.729 1537.76 Q975.729 1543.34 972.256 1546.44 Q968.784 1549.52 962.465 1549.52 Q960.289 1549.52 958.02 1549.15 Q955.775 1548.78 953.368 1548.04 L953.368 1543.34 Q955.451 1544.47 957.673 1545.03 Q959.895 1545.58 962.372 1545.58 Q966.377 1545.58 968.715 1543.48 Q971.053 1541.37 971.053 1537.76 Q971.053 1534.15 968.715 1532.04 Q966.377 1529.94 962.372 1529.94 Q960.497 1529.94 958.622 1530.35 Q956.77 1530.77 954.826 1531.65 L954.826 1514.29 Z\" fill=\"#000000\" fill-rule=\"nonzero\" fill-opacity=\"1\" /><path clip-path=\"url(#clip970)\" d=\"M1265.82 1517.37 Q1262.2 1517.37 1260.38 1520.93 Q1258.57 1524.47 1258.57 1531.6 Q1258.57 1538.71 1260.38 1542.27 Q1262.2 1545.82 1265.82 1545.82 Q1269.45 1545.82 1271.25 1542.27 Q1273.08 1538.71 1273.08 1531.6 Q1273.08 1524.47 1271.25 1520.93 Q1269.45 1517.37 1265.82 1517.37 M1265.82 1513.66 Q1271.63 1513.66 1274.68 1518.27 Q1277.76 1522.85 1277.76 1531.6 Q1277.76 1540.33 1274.68 1544.94 Q1271.63 1549.52 1265.82 1549.52 Q1260.01 1549.52 1256.93 1544.94 Q1253.87 1540.33 1253.87 1531.6 Q1253.87 1522.85 1256.93 1518.27 Q1260.01 1513.66 1265.82 1513.66 Z\" fill=\"#000000\" fill-rule=\"nonzero\" fill-opacity=\"1\" /><path clip-path=\"url(#clip970)\" d=\"M1576.54 1514.29 L1594.89 1514.29 L1594.89 1518.22 L1580.82 1518.22 L1580.82 1526.7 Q1581.84 1526.35 1582.86 1526.19 Q1583.88 1526 1584.89 1526 Q1590.68 1526 1594.06 1529.17 Q1597.44 1532.34 1597.44 1537.76 Q1597.44 1543.34 1593.97 1546.44 Q1590.5 1549.52 1584.18 1549.52 Q1582 1549.52 1579.73 1549.15 Q1577.49 1548.78 1575.08 1548.04 L1575.08 1543.34 Q1577.16 1544.47 1579.39 1545.03 Q1581.61 1545.58 1584.08 1545.58 Q1588.09 1545.58 1590.43 1543.48 Q1592.76 1541.37 1592.76 1537.76 Q1592.76 1534.15 1590.43 1532.04 Q1588.09 1529.94 1584.08 1529.94 Q1582.21 1529.94 1580.33 1530.35 Q1578.48 1530.77 1576.54 1531.65 L1576.54 1514.29 Z\" fill=\"#000000\" fill-rule=\"nonzero\" fill-opacity=\"1\" /><path clip-path=\"url(#clip970)\" d=\"M1881.39 1544.91 L1889.03 1544.91 L1889.03 1518.55 L1880.72 1520.21 L1880.72 1515.95 L1888.99 1514.29 L1893.66 1514.29 L1893.66 1544.91 L1901.3 1544.91 L1901.3 1548.85 L1881.39 1548.85 L1881.39 1544.91 Z\" fill=\"#000000\" fill-rule=\"nonzero\" fill-opacity=\"1\" /><path clip-path=\"url(#clip970)\" d=\"M1920.74 1517.37 Q1917.13 1517.37 1915.3 1520.93 Q1913.5 1524.47 1913.5 1531.6 Q1913.5 1538.71 1915.3 1542.27 Q1917.13 1545.82 1920.74 1545.82 Q1924.38 1545.82 1926.18 1542.27 Q1928.01 1538.71 1928.01 1531.6 Q1928.01 1524.47 1926.18 1520.93 Q1924.38 1517.37 1920.74 1517.37 M1920.74 1513.66 Q1926.55 1513.66 1929.61 1518.27 Q1932.69 1522.85 1932.69 1531.6 Q1932.69 1540.33 1929.61 1544.94 Q1926.55 1549.52 1920.74 1549.52 Q1914.93 1549.52 1911.86 1544.94 Q1908.8 1540.33 1908.8 1531.6 Q1908.8 1522.85 1911.86 1518.27 Q1914.93 1513.66 1920.74 1513.66 Z\" fill=\"#000000\" fill-rule=\"nonzero\" fill-opacity=\"1\" /><path clip-path=\"url(#clip970)\" d=\"M2202.34 1544.91 L2209.97 1544.91 L2209.97 1518.55 L2201.66 1520.21 L2201.66 1515.95 L2209.93 1514.29 L2214.6 1514.29 L2214.6 1544.91 L2222.24 1544.91 L2222.24 1548.85 L2202.34 1548.85 L2202.34 1544.91 Z\" fill=\"#000000\" fill-rule=\"nonzero\" fill-opacity=\"1\" /><path clip-path=\"url(#clip970)\" d=\"M2231.73 1514.29 L2250.09 1514.29 L2250.09 1518.22 L2236.02 1518.22 L2236.02 1526.7 Q2237.03 1526.35 2238.05 1526.19 Q2239.07 1526 2240.09 1526 Q2245.88 1526 2249.26 1529.17 Q2252.64 1532.34 2252.64 1537.76 Q2252.64 1543.34 2249.16 1546.44 Q2245.69 1549.52 2239.37 1549.52 Q2237.2 1549.52 2234.93 1549.15 Q2232.68 1548.78 2230.28 1548.04 L2230.28 1543.34 Q2232.36 1544.47 2234.58 1545.03 Q2236.8 1545.58 2239.28 1545.58 Q2243.28 1545.58 2245.62 1543.48 Q2247.96 1541.37 2247.96 1537.76 Q2247.96 1534.15 2245.62 1532.04 Q2243.28 1529.94 2239.28 1529.94 Q2237.41 1529.94 2235.53 1530.35 Q2233.68 1530.77 2231.73 1531.65 L2231.73 1514.29 Z\" fill=\"#000000\" fill-rule=\"nonzero\" fill-opacity=\"1\" /><polyline clip-path=\"url(#clip970)\" style=\"stroke:#000000; stroke-linecap:round; stroke-linejoin:round; stroke-width:4; stroke-opacity:1; fill:none\" points=\"178.867,1486.45 178.867,47.2441 \"/>\n",
       "<polyline clip-path=\"url(#clip970)\" style=\"stroke:#000000; stroke-linecap:round; stroke-linejoin:round; stroke-width:4; stroke-opacity:1; fill:none\" points=\"178.867,1351.83 197.764,1351.83 \"/>\n",
       "<polyline clip-path=\"url(#clip970)\" style=\"stroke:#000000; stroke-linecap:round; stroke-linejoin:round; stroke-width:4; stroke-opacity:1; fill:none\" points=\"178.867,1117.12 197.764,1117.12 \"/>\n",
       "<polyline clip-path=\"url(#clip970)\" style=\"stroke:#000000; stroke-linecap:round; stroke-linejoin:round; stroke-width:4; stroke-opacity:1; fill:none\" points=\"178.867,882.402 197.764,882.402 \"/>\n",
       "<polyline clip-path=\"url(#clip970)\" style=\"stroke:#000000; stroke-linecap:round; stroke-linejoin:round; stroke-width:4; stroke-opacity:1; fill:none\" points=\"178.867,647.687 197.764,647.687 \"/>\n",
       "<polyline clip-path=\"url(#clip970)\" style=\"stroke:#000000; stroke-linecap:round; stroke-linejoin:round; stroke-width:4; stroke-opacity:1; fill:none\" points=\"178.867,412.973 197.764,412.973 \"/>\n",
       "<polyline clip-path=\"url(#clip970)\" style=\"stroke:#000000; stroke-linecap:round; stroke-linejoin:round; stroke-width:4; stroke-opacity:1; fill:none\" points=\"178.867,178.259 197.764,178.259 \"/>\n",
       "<path clip-path=\"url(#clip970)\" d=\"M51.9875 1352.28 L81.6633 1352.28 L81.6633 1356.22 L51.9875 1356.22 L51.9875 1352.28 Z\" fill=\"#000000\" fill-rule=\"nonzero\" fill-opacity=\"1\" /><path clip-path=\"url(#clip970)\" d=\"M92.566 1365.17 L100.205 1365.17 L100.205 1338.81 L91.8947 1340.48 L91.8947 1336.22 L100.159 1334.55 L104.834 1334.55 L104.834 1365.17 L112.473 1365.17 L112.473 1369.11 L92.566 1369.11 L92.566 1365.17 Z\" fill=\"#000000\" fill-rule=\"nonzero\" fill-opacity=\"1\" /><path clip-path=\"url(#clip970)\" d=\"M121.964 1334.55 L140.32 1334.55 L140.32 1338.49 L126.246 1338.49 L126.246 1346.96 Q127.265 1346.61 128.283 1346.45 Q129.302 1346.26 130.32 1346.26 Q136.107 1346.26 139.487 1349.43 Q142.867 1352.61 142.867 1358.02 Q142.867 1363.6 139.394 1366.7 Q135.922 1369.78 129.603 1369.78 Q127.427 1369.78 125.158 1369.41 Q122.913 1369.04 120.506 1368.3 L120.506 1363.6 Q122.589 1364.74 124.811 1365.29 Q127.033 1365.85 129.51 1365.85 Q133.515 1365.85 135.853 1363.74 Q138.191 1361.63 138.191 1358.02 Q138.191 1354.41 135.853 1352.3 Q133.515 1350.2 129.51 1350.2 Q127.635 1350.2 125.76 1350.61 Q123.908 1351.03 121.964 1351.91 L121.964 1334.55 Z\" fill=\"#000000\" fill-rule=\"nonzero\" fill-opacity=\"1\" /><path clip-path=\"url(#clip970)\" d=\"M50.9921 1117.57 L80.6679 1117.57 L80.6679 1121.5 L50.9921 1121.5 L50.9921 1117.57 Z\" fill=\"#000000\" fill-rule=\"nonzero\" fill-opacity=\"1\" /><path clip-path=\"url(#clip970)\" d=\"M91.5706 1130.46 L99.2095 1130.46 L99.2095 1104.1 L90.8993 1105.76 L90.8993 1101.5 L99.1632 1099.84 L103.839 1099.84 L103.839 1130.46 L111.478 1130.46 L111.478 1134.4 L91.5706 1134.4 L91.5706 1130.46 Z\" fill=\"#000000\" fill-rule=\"nonzero\" fill-opacity=\"1\" /><path clip-path=\"url(#clip970)\" d=\"M130.922 1102.91 Q127.311 1102.91 125.482 1106.48 Q123.677 1110.02 123.677 1117.15 Q123.677 1124.26 125.482 1127.82 Q127.311 1131.36 130.922 1131.36 Q134.556 1131.36 136.362 1127.82 Q138.191 1124.26 138.191 1117.15 Q138.191 1110.02 136.362 1106.48 Q134.556 1102.91 130.922 1102.91 M130.922 1099.21 Q136.732 1099.21 139.788 1103.82 Q142.867 1108.4 142.867 1117.15 Q142.867 1125.88 139.788 1130.48 Q136.732 1135.07 130.922 1135.07 Q125.112 1135.07 122.033 1130.48 Q118.978 1125.88 118.978 1117.15 Q118.978 1108.4 122.033 1103.82 Q125.112 1099.21 130.922 1099.21 Z\" fill=\"#000000\" fill-rule=\"nonzero\" fill-opacity=\"1\" /><path clip-path=\"url(#clip970)\" d=\"M82.1494 882.853 L111.825 882.853 L111.825 886.788 L82.1494 886.788 L82.1494 882.853 Z\" fill=\"#000000\" fill-rule=\"nonzero\" fill-opacity=\"1\" /><path clip-path=\"url(#clip970)\" d=\"M121.964 865.122 L140.32 865.122 L140.32 869.057 L126.246 869.057 L126.246 877.529 Q127.265 877.182 128.283 877.02 Q129.302 876.835 130.32 876.835 Q136.107 876.835 139.487 880.006 Q142.867 883.177 142.867 888.594 Q142.867 894.172 139.394 897.274 Q135.922 900.353 129.603 900.353 Q127.427 900.353 125.158 899.983 Q122.913 899.612 120.506 898.871 L120.506 894.172 Q122.589 895.307 124.811 895.862 Q127.033 896.418 129.51 896.418 Q133.515 896.418 135.853 894.311 Q138.191 892.205 138.191 888.594 Q138.191 884.983 135.853 882.876 Q133.515 880.77 129.51 880.77 Q127.635 880.77 125.76 881.186 Q123.908 881.603 121.964 882.483 L121.964 865.122 Z\" fill=\"#000000\" fill-rule=\"nonzero\" fill-opacity=\"1\" /><path clip-path=\"url(#clip970)\" d=\"M130.922 633.486 Q127.311 633.486 125.482 637.051 Q123.677 640.593 123.677 647.722 Q123.677 654.829 125.482 658.393 Q127.311 661.935 130.922 661.935 Q134.556 661.935 136.362 658.393 Q138.191 654.829 138.191 647.722 Q138.191 640.593 136.362 637.051 Q134.556 633.486 130.922 633.486 M130.922 629.782 Q136.732 629.782 139.788 634.389 Q142.867 638.972 142.867 647.722 Q142.867 656.449 139.788 661.055 Q136.732 665.639 130.922 665.639 Q125.112 665.639 122.033 661.055 Q118.978 656.449 118.978 647.722 Q118.978 638.972 122.033 634.389 Q125.112 629.782 130.922 629.782 Z\" fill=\"#000000\" fill-rule=\"nonzero\" fill-opacity=\"1\" /><path clip-path=\"url(#clip970)\" d=\"M121.964 395.693 L140.32 395.693 L140.32 399.628 L126.246 399.628 L126.246 408.101 Q127.265 407.753 128.283 407.591 Q129.302 407.406 130.32 407.406 Q136.107 407.406 139.487 410.577 Q142.867 413.749 142.867 419.165 Q142.867 424.744 139.394 427.846 Q135.922 430.925 129.603 430.925 Q127.427 430.925 125.158 430.554 Q122.913 430.184 120.506 429.443 L120.506 424.744 Q122.589 425.878 124.811 426.434 Q127.033 426.989 129.51 426.989 Q133.515 426.989 135.853 424.883 Q138.191 422.776 138.191 419.165 Q138.191 415.554 135.853 413.448 Q133.515 411.341 129.51 411.341 Q127.635 411.341 125.76 411.758 Q123.908 412.175 121.964 413.054 L121.964 395.693 Z\" fill=\"#000000\" fill-rule=\"nonzero\" fill-opacity=\"1\" /><path clip-path=\"url(#clip970)\" d=\"M91.5706 191.604 L99.2095 191.604 L99.2095 165.238 L90.8993 166.905 L90.8993 162.646 L99.1632 160.979 L103.839 160.979 L103.839 191.604 L111.478 191.604 L111.478 195.539 L91.5706 195.539 L91.5706 191.604 Z\" fill=\"#000000\" fill-rule=\"nonzero\" fill-opacity=\"1\" /><path clip-path=\"url(#clip970)\" d=\"M130.922 164.058 Q127.311 164.058 125.482 167.623 Q123.677 171.164 123.677 178.294 Q123.677 185.4 125.482 188.965 Q127.311 192.507 130.922 192.507 Q134.556 192.507 136.362 188.965 Q138.191 185.4 138.191 178.294 Q138.191 171.164 136.362 167.623 Q134.556 164.058 130.922 164.058 M130.922 160.354 Q136.732 160.354 139.788 164.961 Q142.867 169.544 142.867 178.294 Q142.867 187.021 139.788 191.627 Q136.732 196.21 130.922 196.21 Q125.112 196.21 122.033 191.627 Q118.978 187.021 118.978 178.294 Q118.978 169.544 122.033 164.961 Q125.112 160.354 130.922 160.354 Z\" fill=\"#000000\" fill-rule=\"nonzero\" fill-opacity=\"1\" /><polyline clip-path=\"url(#clip972)\" style=\"stroke:#009af9; stroke-linecap:round; stroke-linejoin:round; stroke-width:4; stroke-opacity:1; fill:none\" points=\"1265.82,1445.72 1265.81,1445.64 1265.81,1445.42 1265.79,1445.06 1265.75,1444.55 1265.69,1443.9 1265.59,1443.1 1265.46,1442.16 1265.29,1441.07 1265.07,1439.85 1264.79,1438.48 1264.46,1436.96 1264.06,1435.31 1263.58,1433.52 1263.03,1431.59 1262.39,1429.53 1261.67,1427.33 1260.85,1424.99 1259.93,1422.52 1258.91,1419.92 1257.77,1417.18 1256.53,1414.32 1255.16,1411.33 1253.67,1408.22 1252.04,1404.98 1250.29,1401.62 1248.39,1398.14 1246.36,1394.54 1244.17,1390.83 1241.84,1387 1239.35,1383.06 1236.7,1379 1233.9,1374.84 1230.92,1370.57 1227.78,1366.2 1224.47,1361.73 1220.99,1357.16 1217.33,1352.48 1213.49,1347.72 1209.46,1342.86 1205.26,1337.91 1200.87,1332.87 1196.29,1327.74 1191.53,1322.53 1186.57,1317.24 1181.43,1311.87 1176.09,1306.41 1170.56,1300.89 1164.84,1295.29 1158.93,1289.62 1152.82,1283.88 1146.52,1278.07 1140.02,1272.2 1133.33,1266.26 1126.46,1260.27 1119.39,1254.21 1112.13,1248.1 1104.68,1241.94 1097.04,1235.71 1089.22,1229.44 1081.22,1223.12 1073.03,1216.75 1064.67,1210.33 1056.13,1203.87 1047.41,1197.37 1038.53,1190.82 1029.48,1184.23 1020.26,1177.6 1010.88,1170.94 1001.35,1164.24 991.657,1157.5 981.818,1150.73 971.834,1143.92 961.708,1137.08 951.446,1130.21 941.052,1123.31 930.531,1116.38 919.888,1109.42 909.128,1102.43 898.256,1095.42 887.278,1088.37 876.2,1081.3 865.026,1074.2 853.764,1067.08 842.418,1059.93 830.995,1052.75 819.501,1045.55 807.943,1038.32 796.326,1031.07 784.658,1023.79 772.945,1016.48 761.193,1009.15 749.41,1001.8 737.602,994.417 725.776,987.009 713.94,979.575 702.1,972.114 690.263,964.626 678.436,957.111 666.627,949.568 654.844,941.997 643.092,934.398 631.38,926.77 619.714,919.112 608.102,911.425 596.552,903.707 585.071,895.959 573.665,888.18 562.343,880.369 551.111,872.526 539.977,864.651 528.948,856.743 518.031,848.802 507.233,840.828 496.561,832.819 486.023,824.777 475.625,816.699 465.374,808.588 455.276,800.441 445.34,792.259 435.571,784.042 425.975,775.79 416.56,767.503 407.331,759.18 398.295,750.823 389.458,742.43 380.826,734.003 372.404,725.541 364.199,717.046 356.216,708.517 348.46,699.955 340.937,691.36 333.652,682.734 326.61,674.077 319.816,665.39 313.274,656.673 306.989,647.929 300.966,639.158 295.207,630.36 289.719,621.539 284.503,612.694 279.565,603.828 274.906,594.941 270.532,586.037 266.443,577.115 262.645,568.18 259.138,559.231 255.926,550.272 253.01,541.305 250.394,532.331 248.078,523.354 246.064,514.375 244.354,505.398 242.948,496.425 241.849,487.458 241.056,478.501 240.57,469.556 240.392,460.626 240.521,451.716 240.958,442.826 241.702,433.962 242.753,425.126 244.109,416.322 245.771,407.553 247.737,398.823 250.005,390.136 252.574,381.494 255.442,372.902 258.607,364.364 262.067,355.883 265.819,347.463 269.861,339.109 274.191,330.824 278.804,322.612 283.698,314.478 288.87,306.425 294.315,298.457 300.031,290.579 306.012,282.795 312.256,275.108 318.757,267.523 325.511,260.044 332.514,252.676 339.761,245.421 347.246,238.285 354.965,231.271 362.912,224.383 371.083,217.626 379.47,211.002 388.069,204.517 396.874,198.174 405.879,191.976 415.077,185.928 424.463,180.032 434.031,174.293 443.773,168.715 453.683,163.299 463.755,158.05 473.982,152.971 484.357,148.065 494.874,143.335 505.524,138.784 516.303,134.414 527.201,130.229 538.213,126.23 549.331,122.42 560.548,118.802 571.856,115.377 583.249,112.147 594.719,109.115 606.259,106.281 617.861,103.648 629.518,101.216 641.224,98.9874 652.97,96.9623 664.749,95.142 676.554,93.5269 688.378,92.1177 700.214,90.9145 712.054,89.9177 723.892,89.127 735.72,88.5423 747.531,88.1631 759.318,87.9889 771.076,88.0188 782.795,88.2519 794.471,88.687 806.096,89.3227 817.664,90.1575 829.169,91.1897 840.604,92.4173 851.962,93.8382 863.238,95.4502 874.427,97.2507 885.521,99.237 896.515,101.406 907.404,103.756 918.182,106.282 928.844,108.981 939.385,111.85 949.799,114.886 960.083,118.083 970.23,121.438 980.237,124.948 990.1,128.606 999.813,132.41 1009.37,136.354 1018.78,140.433 1028.02,144.642 1037.1,148.977 1046.01,153.431 1054.75,158 1063.32,162.678 1071.71,167.46 1079.93,172.339 1087.96,177.31 1095.81,182.367 1103.47,187.504 1110.95,192.715 1118.24,197.993 1125.34,203.333 1132.25,208.727 1138.97,214.171 1145.49,219.656 1151.83,225.177 1157.97,230.727 1163.91,236.3 1169.67,241.889 1175.23,247.487 1180.59,253.088 1185.77,258.686 1190.75,264.272 1195.55,269.842 1200.15,275.389 1204.57,280.905 1208.81,286.384 1212.86,291.821 1216.73,297.208 1220.42,302.539 1223.93,307.809 1227.27,313.009 1230.44,318.136 1233.43,323.182 1236.27,328.142 1238.94,333.009 1241.45,337.778 1243.81,342.444 1246.02,347 1248.08,351.442 1249.99,355.764 1251.77,359.962 1253.42,364.029 1254.93,367.962 1256.32,371.756 1257.58,375.406 1258.73,378.908 1259.78,382.258 1260.71,385.451 1261.54,388.485 1262.28,391.355 1262.93,394.058 1263.5,396.591 1263.99,398.952 1264.4,401.136 1264.75,403.142 1265.03,404.967 1265.26,406.609 1265.44,408.066 1265.58,409.336 1265.67,410.418 1265.74,411.311 1265.78,412.014 1265.8,412.525 1265.81,412.844 1265.82,412.971 1265.82,412.905 1265.82,412.647 1265.84,412.197 1265.87,411.556 1265.93,410.723 1266.02,409.701 1266.14,408.491 1266.31,407.093 1266.52,405.51 1266.79,403.743 1267.11,401.794 1267.51,399.667 1267.97,397.362 1268.51,394.884 1269.13,392.234 1269.84,389.417 1270.64,386.435 1271.55,383.292 1272.55,379.992 1273.67,376.538 1274.9,372.934 1276.25,369.186 1277.72,365.297 1279.32,361.272 1281.05,357.115 1282.93,352.832 1284.94,348.428 1287.1,343.907 1289.41,339.276 1291.87,334.539 1294.49,329.702 1297.28,324.771 1300.22,319.752 1303.33,314.651 1306.62,309.473 1310.08,304.225 1313.71,298.913 1317.52,293.543 1321.51,288.121 1325.69,282.654 1330.05,277.149 1334.6,271.612 1339.33,266.049 1344.25,260.467 1349.37,254.872 1354.67,249.271 1360.17,243.672 1365.86,238.079 1371.75,232.5 1377.83,226.942 1384.1,221.411 1390.56,215.914 1397.22,210.456 1404.07,205.046 1411.11,199.688 1418.34,194.389 1425.75,189.156 1433.36,183.995 1441.15,178.912 1449.13,173.913 1457.28,169.004 1465.62,164.19 1474.13,159.479 1482.82,154.874 1491.67,150.383 1500.7,146.009 1509.89,141.76 1519.24,137.638 1528.76,133.651 1538.42,129.802 1548.24,126.097 1558.2,122.54 1568.3,119.135 1578.54,115.887 1588.91,112.799 1599.42,109.877 1610.04,107.123 1620.78,104.541 1631.64,102.135 1642.6,99.9083 1653.66,97.8634 1664.82,96.0034 1676.07,94.3311 1687.4,92.849 1698.81,91.5596 1710.29,90.465 1721.84,89.5671 1733.45,88.8677 1745.11,88.3686 1756.82,88.071 1768.56,87.9763 1780.34,88.0854 1792.15,88.3992 1803.97,88.9184 1815.8,89.6434 1827.65,90.5746 1839.48,91.712 1851.31,93.0557 1863.12,94.6052 1874.91,96.3602 1886.67,98.3202 1898.39,100.484 1910.06,102.851 1921.68,105.421 1933.24,108.191 1944.74,111.16 1956.15,114.327 1967.49,117.69 1978.74,121.247 1989.89,124.996 2000.93,128.935 2011.87,133.061 2022.69,137.372 2033.38,141.866 2043.94,146.539 2054.36,151.39 2064.63,156.414 2074.76,161.609 2084.72,166.972 2094.52,172.499 2104.14,178.187 2113.58,184.033 2122.84,190.033 2131.91,196.184 2140.78,202.481 2149.44,208.921 2157.9,215.501 2166.14,222.216 2174.16,229.063 2181.95,236.037 2189.51,243.135 2196.83,250.352 2203.92,257.685 2210.75,265.129 2217.33,272.681 2223.66,280.335 2229.72,288.089 2235.52,295.938 2241.06,303.877 2246.31,311.904 2251.3,320.013 2256,328.2 2260.42,336.462 2264.56,344.795 2268.4,353.194 2271.95,361.656 2275.21,370.176 2278.18,378.751 2280.84,387.378 2283.2,396.051 2285.27,404.768 2287.02,413.525 2288.48,422.318 2289.63,431.145 2290.47,440 2291,448.882 2291.23,457.786 2291.15,466.71 2290.76,475.65 2290.07,484.604 2289.07,493.568 2287.76,502.539 2286.14,511.515 2284.23,520.494 2282.01,529.472 2279.49,538.447 2276.67,547.417 2273.55,556.378 2270.13,565.33 2266.43,574.271 2262.43,583.197 2258.15,592.107 2253.58,600.999 2248.73,609.872 2243.6,618.724 2238.2,627.553 2232.53,636.358 2226.59,645.138 2220.39,653.891 2213.93,662.616 2207.21,671.313 2200.25,679.98 2193.04,688.616 2185.59,697.221 2177.91,705.793 2170,714.333 2161.86,722.839 2153.51,731.311 2144.94,739.749 2136.17,748.153 2127.2,756.522 2118.03,764.856 2108.67,773.154 2099.14,781.417 2089.42,789.646 2079.54,797.839 2069.49,805.996 2059.29,814.119 2048.94,822.207 2038.44,830.261 2027.81,838.28 2017.05,846.266 2006.17,854.217 1995.18,862.136 1984.08,870.021 1972.88,877.874 1961.58,885.695 1950.2,893.484 1938.74,901.243 1927.21,908.97 1915.62,916.667 1903.97,924.334 1892.27,931.971 1880.53,939.58 1868.76,947.16 1856.96,954.712 1845.14,962.236 1833.3,969.732 1821.46,977.202 1809.62,984.644 1797.79,992.06 1785.98,999.45 1774.19,1006.81 1762.43,1014.15 1750.7,1021.47 1739.02,1028.75 1727.38,1036.01 1715.8,1043.25 1704.29,1050.46 1692.84,1057.64 1681.47,1064.8 1670.18,1071.94 1658.98,1079.04 1647.87,1086.12 1636.86,1093.18 1625.95,1100.2 1615.16,1107.2 1604.48,1114.17 1593.92,1121.11 1583.48,1128.02 1573.18,1134.9 1563.01,1141.75 1552.98,1148.56 1543.09,1155.35 1533.35,1162.09 1523.77,1168.81 1514.34,1175.48 1505.07,1182.12 1495.97,1188.72 1487.03,1195.29 1478.26,1201.8 1469.66,1208.28 1461.24,1214.71 1453,1221.1 1444.94,1227.43 1437.06,1233.72 1429.36,1239.96 1421.86,1246.14 1414.54,1252.27 1407.41,1258.35 1400.47,1264.36 1393.72,1270.32 1387.16,1276.21 1380.8,1282.04 1374.63,1287.8 1368.65,1293.49 1362.87,1299.11 1357.28,1304.66 1351.88,1310.14 1346.67,1315.54 1341.66,1320.85 1336.83,1326.09 1332.2,1331.24 1327.75,1336.31 1323.49,1341.29 1319.41,1346.18 1315.51,1350.98 1311.79,1355.68 1308.25,1360.28 1304.88,1364.79 1301.69,1369.19 1298.66,1373.49 1295.8,1377.69 1293.11,1381.78 1290.57,1385.75 1288.18,1389.62 1285.95,1393.37 1283.87,1397.01 1281.93,1400.53 1280.13,1403.93 1278.47,1407.2 1276.93,1410.36 1275.53,1413.38 1274.24,1416.29 1273.07,1419.06 1272.01,1421.7 1271.06,1424.22 1270.21,1426.6 1269.46,1428.84 1268.79,1430.95 1268.22,1432.92 1267.72,1434.76 1267.29,1436.45 1266.94,1438.01 1266.64,1439.42 1266.4,1440.7 1266.22,1441.83 1266.07,1442.82 1265.97,1443.66 1265.9,1444.36 1265.85,1444.91 1265.83,1445.32 1265.82,1445.59 1265.82,1445.71 \"/>\n",
       "</svg>\n"
      ]
     },
     "metadata": {},
     "output_type": "display_data"
    }
   ],
   "source": [
    "# Plot a heart shape\n",
    "using LinearAlgebra\n",
    "using Plots\n",
    "th=[-pi:0.01:pi;]\n",
    "X=16*(sin.(th)).^3\n",
    "Y=13.0*cos.(th)-5.0*cos.(2.0*th)-2.0*cos.(3.0*th)-1.0cos.(4.0*th)\n",
    "plot(X, Y, legend = false)"
   ]
  },
  {
   "cell_type": "markdown",
   "metadata": {},
   "source": [
    "#### just need to change the x and y in the function to calculate the value of r according to the equation creating the heart"
   ]
  },
  {
   "cell_type": "code",
   "execution_count": 87,
   "metadata": {},
   "outputs": [
    {
     "data": {
      "text/plain": [
       "563.8830790372633"
      ]
     },
     "metadata": {},
     "output_type": "display_data"
    }
   ],
   "source": [
    "N = 500; # number of triangles\n",
    "\n",
    "function xyr(angle)\n",
    "    x = 16*(sin.(angle)).^3\n",
    "    y = 13.0*cos.(angle)-5.0*cos.(2.0*angle)-2.0*cos.(3.0*angle)-1.0cos.(4.0*angle)\n",
    "    r = sqrt(x^2 + y^2)\n",
    "    return x, y, r\n",
    "end\n",
    "\n",
    "th = [0 : 2*pi/N : 2pi;]\n",
    "area = 0;\n",
    "\n",
    "for i in 1:length(th)-1\n",
    "    x1, y1, r1 = xyr(th[i]) \n",
    "    x2, y2, r2 = xyr(th[i+1])\n",
    "    A = 0.5 * (r1 * r2 * sin(th[i+1]-th[i]))\n",
    "    area += A\n",
    "end\n",
    "\n",
    "area\n"
   ]
  },
  {
   "cell_type": "code",
   "execution_count": null,
   "metadata": {},
   "outputs": [],
   "source": []
  }
 ],
 "metadata": {
  "kernelspec": {
   "display_name": "Julia 1.11.2",
   "language": "julia",
   "name": "julia-1.11"
  },
  "language_info": {
   "file_extension": ".jl",
   "mimetype": "application/julia",
   "name": "julia",
   "version": "1.11.2"
  }
 },
 "nbformat": 4,
 "nbformat_minor": 2
}
