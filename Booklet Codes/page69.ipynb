{
 "cells": [
  {
   "cell_type": "markdown",
   "metadata": {},
   "source": [
    "# Page 69\n",
    "## LU Factorization"
   ]
  },
  {
   "cell_type": "code",
   "execution_count": 42,
   "metadata": {},
   "outputs": [
    {
     "data": {
      "text/plain": [
       "3×3 Matrix{Float64}:\n",
       " 0.445483   1.7163   -0.742294\n",
       " 0.379078  -1.30546  -0.030604\n",
       " 1.01567   -0.58363  -0.504122"
      ]
     },
     "metadata": {},
     "output_type": "display_data"
    }
   ],
   "source": [
    "using Random\n",
    "using LinearAlgebra\n",
    "Random.seed!(09182021)\n",
    "A = randn(3, 3)\n",
    "Temp = copy(A)"
   ]
  },
  {
   "cell_type": "code",
   "execution_count": 6,
   "metadata": {},
   "outputs": [
    {
     "name": "stdout",
     "output_type": "stream",
     "text": [
      "C1 * R1 = [0.44548271119979654 1.716297987219639 -0.7422940976842118; 0.3790782534722329 1.4604635086306053 -0.6316463984764547; 1.0156654689900906 3.913024133801625 -1.692372035768816]\n"
     ]
    },
    {
     "data": {
      "text/plain": [
       "3×3 Matrix{Float64}:\n",
       " 0.0   0.0      0.0\n",
       " 0.0  -2.76592  0.601042\n",
       " 0.0  -4.49665  1.18825"
      ]
     },
     "metadata": {},
     "output_type": "display_data"
    }
   ],
   "source": [
    "pivot = Temp[1, 1]\n",
    "C1 = Temp[:, 1] / pivot\n",
    "R1 = Temp[1:1, :]\n",
    "\n",
    "@show C1 * R1\n",
    "\n",
    "Temp = Temp - C1*R1"
   ]
  },
  {
   "cell_type": "code",
   "execution_count": 8,
   "metadata": {},
   "outputs": [
    {
     "name": "stdout",
     "output_type": "stream",
     "text": [
      "C2 * R2 = [0.0 0.0 0.0; 0.0 -2.765920880220195 0.6010424364606107; 0.0 -4.4966542472093725 0.9771356961044071]\n"
     ]
    },
    {
     "data": {
      "text/plain": [
       "3×3 Matrix{Float64}:\n",
       " 0.0  0.0  0.0\n",
       " 0.0  0.0  0.0\n",
       " 0.0  0.0  0.211114"
      ]
     },
     "metadata": {},
     "output_type": "display_data"
    }
   ],
   "source": [
    "pivot = Temp[2, 2]\n",
    "C2 = Temp[:, 2] / pivot\n",
    "R2 = Temp[2:2, :]\n",
    "@show C2 * R2\n",
    "\n",
    "Temp = Temp - C2*R2"
   ]
  },
  {
   "cell_type": "code",
   "execution_count": 9,
   "metadata": {},
   "outputs": [
    {
     "name": "stdout",
     "output_type": "stream",
     "text": [
      "C3 * R3 = [0.0 0.0 0.0; 0.0 0.0 0.0; 0.0 0.0 0.21111417217678374]\n"
     ]
    },
    {
     "data": {
      "text/plain": [
       "3×3 Matrix{Float64}:\n",
       " 0.0  0.0  0.0\n",
       " 0.0  0.0  0.0\n",
       " 0.0  0.0  0.0"
      ]
     },
     "metadata": {},
     "output_type": "display_data"
    }
   ],
   "source": [
    "pivot = Temp[3, 3]\n",
    "C3 = Temp[:, 3] / pivot\n",
    "R3 = Temp[3:3, :]\n",
    "@show C3 * R3\n",
    "\n",
    "Temp = Temp - C3*R3"
   ]
  },
  {
   "cell_type": "code",
   "execution_count": 10,
   "metadata": {},
   "outputs": [
    {
     "data": {
      "text/plain": [
       "3×3 Matrix{Float64}:\n",
       " 1.0       -0.0      0.0\n",
       " 0.850938   1.0      0.0\n",
       " 2.27992    1.62573  1.0"
      ]
     },
     "metadata": {},
     "output_type": "display_data"
    }
   ],
   "source": [
    "L = [C1 C2 C3]"
   ]
  },
  {
   "cell_type": "code",
   "execution_count": 11,
   "metadata": {},
   "outputs": [
    {
     "data": {
      "text/plain": [
       "3×3 Matrix{Float64}:\n",
       " 0.445483   1.7163   -0.742294\n",
       " 0.0       -2.76592   0.601042\n",
       " 0.0        0.0       0.211114"
      ]
     },
     "metadata": {},
     "output_type": "display_data"
    }
   ],
   "source": [
    "U = [R1; R2; R3]"
   ]
  },
  {
   "cell_type": "code",
   "execution_count": 14,
   "metadata": {},
   "outputs": [
    {
     "data": {
      "text/plain": [
       "3×3 Matrix{Float64}:\n",
       " 0.0  0.0           0.0\n",
       " 0.0  2.22045e-16  -3.1225e-17\n",
       " 0.0  2.22045e-16   0.0"
      ]
     },
     "metadata": {},
     "output_type": "display_data"
    }
   ],
   "source": [
    "A - L * U"
   ]
  },
  {
   "cell_type": "markdown",
   "metadata": {},
   "source": [
    "### for loop"
   ]
  },
  {
   "cell_type": "code",
   "execution_count": 56,
   "metadata": {},
   "outputs": [
    {
     "data": {
      "text/plain": [
       "3×3 Matrix{Float64}:\n",
       "  0.154237   0.591231   0.330121\n",
       " -0.662384   0.570157  -0.2685\n",
       " -0.553247  -0.387715   0.0266884"
      ]
     },
     "metadata": {},
     "output_type": "display_data"
    }
   ],
   "source": [
    "A = randn(3, 3)\n",
    "A"
   ]
  },
  {
   "cell_type": "code",
   "execution_count": 57,
   "metadata": {},
   "outputs": [
    {
     "name": "stdout",
     "output_type": "stream",
     "text": [
      "temp = [0.15423655112810852 0.591230852465594 0.33012103592813424; -0.6623841698800004 0.5701570977677903 -0.26849967655534424; -0.5532469086128377 -0.38771493737952484 0.026688391979717084]\n",
      "temp = [0.0 0.0 0.0; 0.0 3.1092566468272556 1.1492378619452328; 0.0 1.7330316626364264 1.2108334033889046]\n",
      "temp = [0.0 0.0 0.0; 0.0 0.0 0.0; 0.0 0.0 0.570273350334419]\n",
      "L = [1.0 0.0 0.0; -4.294599205150961 1.0 0.0; -3.5870025915796835 0.5573781322956549 1.0]\n",
      "U = [0.15423655112810852 0.591230852465594 0.33012103592813424; 0.0 3.1092566468272556 1.1492378619452328; 0.0 0.0 0.570273350334419]\n"
     ]
    },
    {
     "data": {
      "text/plain": [
       "3×3 Matrix{Float64}:\n",
       " 0.154237  0.591231  0.330121\n",
       " 0.0       3.10926   1.14924\n",
       " 0.0       0.0       0.570273"
      ]
     },
     "metadata": {},
     "output_type": "display_data"
    }
   ],
   "source": [
    "temp = copy(A)\n",
    "nRow, nCol = size(temp)\n",
    "L = Array{Float64, 2}(undef, nRow, 0)   # defining an empty column vector\n",
    "U = Array{Float64, 2}(undef, 0, nRow)   # defining an empty row vector\n",
    "for k in 1:nRow\n",
    "    @show temp\n",
    "    pivot = temp[k, k]\n",
    "    if !isapprox(pivot, 0, atol=1E-8)\n",
    "        C = temp[:, k] / pivot\n",
    "        R = temp[k:k, :]\n",
    "        temp = temp - C*R\n",
    "\n",
    "        L = [L C]       # concatenation\n",
    "        U = [U; R]\n",
    "    else\n",
    "        println(\"the pivot is zero. row permutation is needed\")\n",
    "        println(\"step: $k\")\n",
    "    end\n",
    "end\n",
    "\n",
    "@show L\n",
    "@show U"
   ]
  },
  {
   "cell_type": "code",
   "execution_count": 46,
   "metadata": {},
   "outputs": [
    {
     "data": {
      "text/plain": [
       "3×3 Matrix{Float64}:\n",
       " 0.0  0.0           0.0\n",
       " 0.0  2.22045e-16  -3.1225e-17\n",
       " 0.0  2.22045e-16   0.0"
      ]
     },
     "metadata": {},
     "output_type": "display_data"
    }
   ],
   "source": [
    "A - L * U"
   ]
  },
  {
   "cell_type": "code",
   "execution_count": 58,
   "metadata": {},
   "outputs": [
    {
     "data": {
      "text/plain": [
       "LU{Float64, Matrix{Float64}, Vector{Int64}}\n",
       "L factor:\n",
       "3×3 Matrix{Float64}:\n",
       "  1.0     0.0       0.0\n",
       " -4.2946  1.0       0.0\n",
       " -3.587   0.557378  1.0\n",
       "U factor:\n",
       "3×3 Matrix{Float64}:\n",
       " 0.154237  0.591231  0.330121\n",
       " 0.0       3.10926   1.14924\n",
       " 0.0       0.0       0.570273"
      ]
     },
     "metadata": {},
     "output_type": "display_data"
    }
   ],
   "source": [
    "using LinearAlgebra\n",
    "L, U = lu(A, Val(false))"
   ]
  },
  {
   "cell_type": "code",
   "execution_count": 59,
   "metadata": {},
   "outputs": [
    {
     "data": {
      "text/plain": [
       "3×3 Matrix{Float64}:\n",
       " 0.0  1.0  0.0\n",
       " 0.0  0.0  1.0\n",
       " 1.0  0.0  0.0"
      ]
     },
     "metadata": {},
     "output_type": "display_data"
    }
   ],
   "source": [
    "using LinearAlgebra\n",
    "F = lu(A)\n",
    "\n",
    "L = F.L\n",
    "U = F.U\n",
    "P = F.P"
   ]
  },
  {
   "cell_type": "code",
   "execution_count": null,
   "metadata": {},
   "outputs": [],
   "source": []
  },
  {
   "cell_type": "code",
   "execution_count": null,
   "metadata": {},
   "outputs": [],
   "source": []
  },
  {
   "cell_type": "code",
   "execution_count": null,
   "metadata": {},
   "outputs": [],
   "source": []
  }
 ],
 "metadata": {
  "kernelspec": {
   "display_name": "Julia 1.11.2",
   "language": "julia",
   "name": "julia-1.11"
  },
  "language_info": {
   "file_extension": ".jl",
   "mimetype": "application/julia",
   "name": "julia",
   "version": "1.11.2"
  }
 },
 "nbformat": 4,
 "nbformat_minor": 2
}
