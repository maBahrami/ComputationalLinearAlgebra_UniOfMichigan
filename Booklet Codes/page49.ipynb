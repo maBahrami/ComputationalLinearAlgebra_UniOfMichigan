{
 "cells": [
  {
   "cell_type": "markdown",
   "metadata": {},
   "source": [
    "# Page 49\n",
    "\n",
    "## Back Substitutin"
   ]
  },
  {
   "cell_type": "code",
   "execution_count": 16,
   "metadata": {},
   "outputs": [],
   "source": [
    "using LinearAlgebra"
   ]
  },
  {
   "cell_type": "code",
   "execution_count": 23,
   "metadata": {},
   "outputs": [
    {
     "data": {
      "text/plain": [
       "6-element Vector{Float64}:\n",
       "  0.8399\n",
       " -0.8898\n",
       "  0.0069\n",
       " -1.1286\n",
       " -0.0115\n",
       " -1.1136"
      ]
     },
     "metadata": {},
     "output_type": "display_data"
    }
   ],
   "source": [
    "U = [+0.9555 -0.8218 -1.2433 -0.5536 +0.9102 +1.2047;\n",
    "     +0.0000 -0.2728 +0.3770 +2.0805 -1.1050 +1.0576;\n",
    "     +0.0000 +0.0000 +0.2126 +1.0730 -1.3323 +2.3487;\n",
    "     +0.0000 +0.0000 +0.0000 -0.2295 +0.9807 +0.3360;\n",
    "     +0.0000 +0.0000 +0.0000 +0.0000 -1.2425 -1.5521;\n",
    "     +0.0000 +0.0000 +0.0000 +0.0000 +0.0000 -0.7935]\n",
    "\n",
    "b = [0.8399; -0.8898; 0.0069; -1.1286; -0.0115; -1.1136]"
   ]
  },
  {
   "cell_type": "code",
   "execution_count": null,
   "metadata": {},
   "outputs": [
    {
     "data": {
      "text/plain": [
       "6-element Vector{Float64}:\n",
       " -48.79693631735298\n",
       " -21.029930437788476\n",
       " -23.97981161513697\n",
       "  -0.47947989705782385\n",
       "  -1.743840038339679\n",
       "   1.4034026465028355"
      ]
     },
     "metadata": {},
     "output_type": "display_data"
    }
   ],
   "source": [
    "function backSub(U, b)\n",
    "    if minimum(abs.(diag(U))) < 1e-6\n",
    "        return false\n",
    "    else\n",
    "        n = length(b)\n",
    "        x = Vector{Float64}(undef, n)\n",
    "\n",
    "        x[n] = b[n] / U[n, n]\n",
    "\n",
    "        for i = n-1 : -1 : 1\n",
    "            x[i] = ((b[i]) - (U[i, i+1:n]' * x[i+1:n])) / U[i, i]\n",
    "        end\n",
    "    end\n",
    "    return x\n",
    "end\n",
    "\n",
    "x = backSub(U, b)\n",
    "x\n",
    "    "
   ]
  },
  {
   "cell_type": "code",
   "execution_count": 34,
   "metadata": {},
   "outputs": [
    {
     "data": {
      "text/plain": [
       "6-element Vector{Float64}:\n",
       " -9.992007221626409e-16\n",
       "  3.3306690738754696e-16\n",
       " -9.367506770274758e-17\n",
       "  0.0\n",
       "  1.5612511283791264e-16\n",
       "  0.0"
      ]
     },
     "metadata": {},
     "output_type": "display_data"
    }
   ],
   "source": [
    "U * x - b"
   ]
  }
 ],
 "metadata": {
  "kernelspec": {
   "display_name": "Julia 1.11.2",
   "language": "julia",
   "name": "julia-1.11"
  },
  "language_info": {
   "file_extension": ".jl",
   "mimetype": "application/julia",
   "name": "julia",
   "version": "1.11.2"
  }
 },
 "nbformat": 4,
 "nbformat_minor": 2
}
